{
  "cells": [
    {
      "cell_type": "code",
      "source": [
        "!pip install -qq -U tensorflow-addons"
      ],
      "metadata": {
        "id": "Xtny0OaTEZO0",
        "colab": {
          "base_uri": "https://localhost:8080/"
        },
        "outputId": "a88d9403-5e7d-426a-a4bd-a6a8e2f7c574"
      },
      "execution_count": null,
      "outputs": [
        {
          "output_type": "stream",
          "name": "stdout",
          "text": [
            "\u001b[?25l     \u001b[90m━━━━━━━━━━━━━━━━━━━━━━━━━━━━━━━━━━━━━━━━\u001b[0m \u001b[32m0.0/591.0 kB\u001b[0m \u001b[31m?\u001b[0m eta \u001b[36m-:--:--\u001b[0m\r\u001b[2K     \u001b[91m━━━━━━━━━━━━━━━\u001b[0m\u001b[91m╸\u001b[0m\u001b[90m━━━━━━━━━━━━━━━━━━━━━━━\u001b[0m \u001b[32m235.5/591.0 kB\u001b[0m \u001b[31m6.8 MB/s\u001b[0m eta \u001b[36m0:00:01\u001b[0m\r\u001b[2K     \u001b[90m━━━━━━━━━━━━━━━━━━━━━━━━━━━━━━━━━━━━━━━\u001b[0m \u001b[32m591.0/591.0 kB\u001b[0m \u001b[31m8.6 MB/s\u001b[0m eta \u001b[36m0:00:00\u001b[0m\n",
            "\u001b[?25h"
          ]
        }
      ]
    },
    {
      "cell_type": "markdown",
      "metadata": {
        "id": "NZOfSZRpEEwo"
      },
      "source": [
        "## Setup"
      ]
    },
    {
      "cell_type": "code",
      "execution_count": null,
      "metadata": {
        "id": "ApwBvl6_EEwp",
        "colab": {
          "base_uri": "https://localhost:8080/"
        },
        "outputId": "8f0ad388-741b-45fa-d1c7-550f81a9734e"
      },
      "outputs": [
        {
          "output_type": "stream",
          "name": "stderr",
          "text": [
            "/usr/local/lib/python3.10/dist-packages/tensorflow_addons/utils/tfa_eol_msg.py:23: UserWarning: \n",
            "\n",
            "TensorFlow Addons (TFA) has ended development and introduction of new features.\n",
            "TFA has entered a minimal maintenance and release mode until a planned end of life in May 2024.\n",
            "Please modify downstream libraries to take dependencies from other repositories in our TensorFlow community (e.g. Keras, Keras-CV, and Keras-NLP). \n",
            "\n",
            "For more information see: https://github.com/tensorflow/addons/issues/2807 \n",
            "\n",
            "  warnings.warn(\n"
          ]
        }
      ],
      "source": [
        "import math\n",
        "import numpy as np\n",
        "import tensorflow as tf\n",
        "from tensorflow import keras\n",
        "import tensorflow_addons as tfa\n",
        "import matplotlib.pyplot as plt\n",
        "from tensorflow.keras import layers\n",
        "import tensorflow_datasets as tfds\n",
        "\n",
        "# Setting seed for reproducibiltiy\n",
        "SEED = 42\n",
        "keras.utils.set_random_seed(SEED)"
      ]
    },
    {
      "cell_type": "markdown",
      "metadata": {
        "id": "hlaPFRnYEEwr"
      },
      "source": [
        "## Prepare the data"
      ]
    },
    {
      "cell_type": "markdown",
      "source": [
        "## Tiny-ImageNet"
      ],
      "metadata": {
        "id": "J1uR5wsr2xWN"
      }
    },
    {
      "cell_type": "code",
      "source": [
        "from google.colab import drive\n",
        "\n",
        "drive.mount( '/content/drive', force_remount=True )"
      ],
      "metadata": {
        "colab": {
          "base_uri": "https://localhost:8080/"
        },
        "id": "oYKAP1eB6SMl",
        "outputId": "a997d9fc-2b11-4834-c1fa-d2bbb64d6419"
      },
      "execution_count": null,
      "outputs": [
        {
          "output_type": "stream",
          "name": "stdout",
          "text": [
            "Mounted at /content/drive\n"
          ]
        }
      ]
    },
    {
      "cell_type": "code",
      "source": [
        "! git clone https://github.com/seshuad/IMagenet\n",
        "! ls 'IMagenet/tiny-imagenet-200/'"
      ],
      "metadata": {
        "colab": {
          "base_uri": "https://localhost:8080/"
        },
        "id": "c4ZWTK216V5a",
        "outputId": "af77c5a2-3256-4799-ec70-4a446611d3bc"
      },
      "execution_count": null,
      "outputs": [
        {
          "output_type": "stream",
          "name": "stdout",
          "text": [
            "Cloning into 'IMagenet'...\n",
            "remote: Enumerating objects: 120594, done.\u001b[K\n",
            "remote: Total 120594 (delta 0), reused 0 (delta 0), pack-reused 120594\u001b[K\n",
            "Receiving objects: 100% (120594/120594), 212.68 MiB | 48.10 MiB/s, done.\n",
            "Resolving deltas: 100% (1115/1115), done.\n",
            "Updating files: 100% (120206/120206), done.\n",
            "test  train  val  wnids.txt  words.txt\n"
          ]
        }
      ]
    },
    {
      "cell_type": "code",
      "source": [
        "NUM_CLASSES = 200\n",
        "INPUT_SHAPE = (64, 64, 3)\n",
        "\n",
        "import time\n",
        "import scipy.ndimage as nd\n",
        "import imageio\n",
        "import numpy as np\n",
        "\n",
        "path = 'IMagenet/tiny-imagenet-200/'\n",
        "\n",
        "def get_id_dictionary():\n",
        "    id_dict = {}\n",
        "    for i, line in enumerate(open( path + 'wnids.txt', 'r')):\n",
        "        id_dict[line.replace('\\n', '')] = i\n",
        "    return id_dict\n",
        "  \n",
        "def get_class_to_id_dict():\n",
        "    id_dict = get_id_dictionary()\n",
        "    all_classes = {}\n",
        "    result = {}\n",
        "    for i, line in enumerate(open( path + 'words.txt', 'r')):\n",
        "        n_id, word = line.split('\\t')[:2]\n",
        "        all_classes[n_id] = word\n",
        "    for key, value in id_dict.items():\n",
        "        result[value] = (key, all_classes[key])      \n",
        "    return result\n",
        "\n",
        "def get_data(id_dict):\n",
        "    print('starting loading data')\n",
        "    train_data, test_data = [], []\n",
        "    train_labels, test_labels = [], []\n",
        "    t = time.time()\n",
        "    for key, value in id_dict.items():\n",
        "        train_data += [imageio.imread( path + 'train/{}/images/{}_{}.JPEG'.format(key, key, str(i)), pilmode='RGB') for i in range(500)]\n",
        "        train_labels_ = np.array([[0]*200]*500)\n",
        "        train_labels_[:, value] = 1\n",
        "        train_labels += train_labels_.tolist()\n",
        "\n",
        "    for line in open( path + 'val/val_annotations.txt'):\n",
        "        img_name, class_id = line.split('\\t')[:2]\n",
        "        test_data.append(imageio.imread( path + 'val/images/{}'.format(img_name) ,pilmode='RGB'))\n",
        "        test_labels_ = np.array([[0]*200])\n",
        "        test_labels_[0, id_dict[class_id]] = 1\n",
        "        test_labels += test_labels_.tolist()\n",
        "\n",
        "    print('finished loading data, in {} seconds'.format(time.time() - t))\n",
        "    return np.array(train_data), np.array(train_labels), np.array(test_data), np.array(test_labels)\n",
        "  \n",
        "x_train, y_train, x_test, y_test = get_data(get_id_dictionary())\n",
        "\n",
        "print(f\"x_train shape: {x_train.shape} - y_train shape: {y_train.shape}\")\n",
        "print(f\"x_test shape: {x_test.shape} - y_test shape: {y_test.shape}\")"
      ],
      "metadata": {
        "colab": {
          "base_uri": "https://localhost:8080/"
        },
        "id": "Zuq49Vgq6YDs",
        "outputId": "7b25be89-3b9e-481f-9f0b-e0287fa10956"
      },
      "execution_count": null,
      "outputs": [
        {
          "output_type": "stream",
          "name": "stdout",
          "text": [
            "starting loading data\n"
          ]
        },
        {
          "output_type": "stream",
          "name": "stderr",
          "text": [
            "<ipython-input-5-92475de8ba90>:34: DeprecationWarning: Starting with ImageIO v3 the behavior of this function will switch to that of iio.v3.imread. To keep the current behavior (and make this warning disappear) use `import imageio.v2 as imageio` or call `imageio.v2.imread` directly.\n",
            "  train_data += [imageio.imread( path + 'train/{}/images/{}_{}.JPEG'.format(key, key, str(i)), pilmode='RGB') for i in range(500)]\n",
            "<ipython-input-5-92475de8ba90>:41: DeprecationWarning: Starting with ImageIO v3 the behavior of this function will switch to that of iio.v3.imread. To keep the current behavior (and make this warning disappear) use `import imageio.v2 as imageio` or call `imageio.v2.imread` directly.\n",
            "  test_data.append(imageio.imread( path + 'val/images/{}'.format(img_name) ,pilmode='RGB'))\n"
          ]
        },
        {
          "output_type": "stream",
          "name": "stdout",
          "text": [
            "finished loading data, in 56.053492069244385 seconds\n",
            "x_train shape: (100000, 64, 64, 3) - y_train shape: (100000, 200)\n",
            "x_test shape: (10000, 64, 64, 3) - y_test shape: (10000, 200)\n"
          ]
        }
      ]
    },
    {
      "cell_type": "code",
      "source": [
        "# We need to transfer the format of labels so that they fit our ViT model\n",
        "y_train = np.argmax(y_train, axis=1)\n",
        "y_train = y_train[:,np.newaxis]\n",
        "y_test = np.argmax(y_test, axis=1)\n",
        "y_test = y_test[:,np.newaxis]\n",
        "print(f\"y_train shape: {y_train.shape}\")\n",
        "print(f\"y_test shape: {y_test.shape}\")"
      ],
      "metadata": {
        "colab": {
          "base_uri": "https://localhost:8080/"
        },
        "id": "2GsK271w7mxw",
        "outputId": "87c443b8-7a99-4768-b107-48b220521e47"
      },
      "execution_count": null,
      "outputs": [
        {
          "output_type": "stream",
          "name": "stdout",
          "text": [
            "y_train shape: (100000, 1)\n",
            "y_test shape: (10000, 1)\n"
          ]
        }
      ]
    },
    {
      "cell_type": "markdown",
      "source": [
        "## CIFAR10"
      ],
      "metadata": {
        "id": "7fz5nuuN26KL"
      }
    },
    {
      "cell_type": "code",
      "execution_count": null,
      "metadata": {
        "id": "XUxjX9fYEEwr",
        "colab": {
          "base_uri": "https://localhost:8080/"
        },
        "outputId": "7dbe1c62-c679-4617-ad61-09eaca2c242f"
      },
      "outputs": [
        {
          "output_type": "stream",
          "name": "stdout",
          "text": [
            "Downloading data from https://www.cs.toronto.edu/~kriz/cifar-10-python.tar.gz\n",
            "170498071/170498071 [==============================] - 3s 0us/step\n",
            "x_train shape: (50000, 32, 32, 3) - y_train shape: (50000, 1)\n",
            "x_test shape: (10000, 32, 32, 3) - y_test shape: (10000, 1)\n"
          ]
        }
      ],
      "source": [
        "NUM_CLASSES = 10\n",
        "INPUT_SHAPE = (32, 32, 3)\n",
        "\n",
        "(x_train, y_train), (x_test, y_test) = keras.datasets.cifar10.load_data()\n",
        "\n",
        "print(f\"x_train shape: {x_train.shape} - y_train shape: {y_train.shape}\")\n",
        "print(f\"x_test shape: {x_test.shape} - y_test shape: {y_test.shape}\")"
      ]
    },
    {
      "cell_type": "markdown",
      "source": [
        "## CIFAR100"
      ],
      "metadata": {
        "id": "Y124zm0q2_uF"
      }
    },
    {
      "cell_type": "code",
      "execution_count": null,
      "metadata": {
        "colab": {
          "base_uri": "https://localhost:8080/"
        },
        "outputId": "0a951270-b8a8-42c6-fcab-83ae6568b27b",
        "id": "uyLNkllE3Mql"
      },
      "outputs": [
        {
          "output_type": "stream",
          "name": "stdout",
          "text": [
            "Downloading data from https://www.cs.toronto.edu/~kriz/cifar-100-python.tar.gz\n",
            "169001437/169001437 [==============================] - 6s 0us/step\n",
            "x_train shape: (50000, 32, 32, 3) - y_train shape: (50000, 1)\n",
            "x_test shape: (10000, 32, 32, 3) - y_test shape: (10000, 1)\n"
          ]
        }
      ],
      "source": [
        "NUM_CLASSES = 100\n",
        "INPUT_SHAPE = (32, 32, 3)\n",
        "\n",
        "(x_train, y_train), (x_test, y_test) = keras.datasets.cifar100.load_data()\n",
        "\n",
        "print(f\"x_train shape: {x_train.shape} - y_train shape: {y_train.shape}\")\n",
        "print(f\"x_test shape: {x_test.shape} - y_test shape: {y_test.shape}\")"
      ]
    },
    {
      "cell_type": "markdown",
      "source": [
        "## TF_Flowers"
      ],
      "metadata": {
        "id": "ux1HD84n3QOw"
      }
    },
    {
      "cell_type": "code",
      "source": [
        "RESOLUTION = 224\n",
        "BATCH_SIZE = 256\n",
        "AUTO = tf.data.AUTOTUNE\n",
        "NUM_CLASSES = 5\n",
        "INPUT_SHAPE = (224, 224, 3)\n",
        "\n",
        "def preprocess_dataset(is_training=True):\n",
        "    def fn(image, label):\n",
        "        if is_training:\n",
        "            # Resize to a bigger spatial resolution and take the random\n",
        "            # crops.\n",
        "            image = tf.image.resize(image, (RESOLUTION + 20, RESOLUTION + 20))\n",
        "            image = tf.image.random_crop(image, (RESOLUTION, RESOLUTION, 3))\n",
        "            image = tf.image.random_flip_left_right(image)\n",
        "        else:\n",
        "            image = tf.image.resize(image, (RESOLUTION, RESOLUTION))\n",
        "        label = tf.one_hot(label, depth=NUM_CLASSES)\n",
        "        return image, label\n",
        "\n",
        "    return fn\n",
        "\n",
        "\n",
        "def prepare_dataset(dataset, is_training=True):\n",
        "    if is_training:\n",
        "        dataset = dataset.shuffle(BATCH_SIZE * 10)\n",
        "    dataset = dataset.map(preprocess_dataset(is_training), num_parallel_calls=AUTO)\n",
        "    return dataset.batch(BATCH_SIZE).prefetch(AUTO)\n",
        "\n",
        "\n",
        "train_dataset, test_dataset = tfds.load(\n",
        "    \"tf_flowers\", split=[\"train[:90%]\", \"train[90%:]\"], as_supervised=True\n",
        ")\n",
        "num_train = train_dataset.cardinality()\n",
        "num_test = test_dataset.cardinality()\n",
        "print(f\"Number of training examples: {num_train}\")\n",
        "print(f\"Number of testing examples: {num_test}\")\n",
        "\n",
        "train_dataset = prepare_dataset(train_dataset, is_training=True)\n",
        "test_dataset = prepare_dataset(test_dataset, is_training=False)"
      ],
      "metadata": {
        "colab": {
          "base_uri": "https://localhost:8080/"
        },
        "id": "m_twLofItOXY",
        "outputId": "f9a9386f-7c6f-489e-d5ca-61f7113bbb35"
      },
      "execution_count": null,
      "outputs": [
        {
          "output_type": "stream",
          "name": "stdout",
          "text": [
            "Number of training examples: 3303\n",
            "Number of testing examples: 367\n"
          ]
        }
      ]
    },
    {
      "cell_type": "code",
      "source": [
        "import numpy as np\n",
        "train_np = tfds.as_numpy(train_dataset)\n",
        "train_np_image = []\n",
        "train_np_label = []\n",
        "for i, token in enumerate(train_np):\n",
        "  if i == 0:\n",
        "    train_np_image = token[0]\n",
        "    train_np_label = np.argmax(token[1], axis=1)\n",
        "  else:\n",
        "    train_np_image = np.concatenate((train_np_image, token[0]),axis=0)\n",
        "    train_np_label = np.concatenate((train_np_label, np.argmax(token[1], axis=1)),axis=0)\n",
        "x_train = np.array(train_np_image).reshape((-1,224,224,3))\n",
        "y_train = np.array(train_np_label).reshape((-1,1))\n",
        "\n",
        "test_np = tfds.as_numpy(test_dataset)\n",
        "test_np_image = []\n",
        "test_np_label = []\n",
        "for i, token in enumerate(test_np):\n",
        "  if i == 0:\n",
        "    test_np_image = token[0]\n",
        "    test_np_label = np.argmax(token[1], axis=1)\n",
        "  else:\n",
        "    test_np_image = np.concatenate((test_np_image, token[0]),axis=0)\n",
        "    test_np_label = np.concatenate((test_np_label, np.argmax(token[1], axis=1)),axis=0)\n",
        "x_test = np.array(test_np_image).reshape((-1,224,224,3))\n",
        "y_test = np.array(test_np_label).reshape((-1,1))\n",
        "\n",
        "print(f\"x_train shape: {x_train.shape} - y_train shape: {y_train.shape}\")\n",
        "print(f\"x_test shape: {x_test.shape} - y_test shape: {y_test.shape}\")"
      ],
      "metadata": {
        "colab": {
          "base_uri": "https://localhost:8080/"
        },
        "id": "ddrz4VKYvnsJ",
        "outputId": "cb85ef1a-b1cd-495c-e055-f10e0c5e6e98"
      },
      "execution_count": null,
      "outputs": [
        {
          "output_type": "stream",
          "name": "stdout",
          "text": [
            "x_train shape: (3303, 224, 224, 3) - y_train shape: (3303, 1)\n",
            "x_test shape: (367, 224, 224, 3) - y_test shape: (367, 1)\n"
          ]
        }
      ]
    },
    {
      "cell_type": "markdown",
      "metadata": {
        "id": "NspFb9TvEEws"
      },
      "source": [
        "## Configure the hyperparameters"
      ]
    },
    {
      "cell_type": "code",
      "execution_count": null,
      "metadata": {
        "id": "vtUjh0vTEEwt"
      },
      "outputs": [],
      "source": [
        "# DATA\n",
        "BUFFER_SIZE = 512\n",
        "BATCH_SIZE = 256\n",
        "\n",
        "# AUGMENTATION\n",
        "IMAGE_SIZE = 72\n",
        "PATCH_SIZE = 6\n",
        "NUM_PATCHES = (IMAGE_SIZE // PATCH_SIZE) ** 2\n",
        "\n",
        "# OPTIMIZER\n",
        "LEARNING_RATE = 0.001\n",
        "WEIGHT_DECAY = 0.0001\n",
        "\n",
        "# TRAINING\n",
        "EPOCHS = 50\n",
        "\n",
        "# ARCHITECTURE\n",
        "LAYER_NORM_EPS = 1e-6\n",
        "TRANSFORMER_LAYERS = 8\n",
        "PROJECTION_DIM = 64\n",
        "NUM_HEADS = 4\n",
        "TRANSFORMER_UNITS = [\n",
        "    PROJECTION_DIM * 2,\n",
        "    PROJECTION_DIM,\n",
        "]\n",
        "MLP_HEAD_UNITS = [2048, 1024]"
      ]
    },
    {
      "cell_type": "markdown",
      "metadata": {
        "id": "qoicGlIwEEwu"
      },
      "source": [
        "## Data augmentation"
      ]
    },
    {
      "cell_type": "code",
      "execution_count": null,
      "metadata": {
        "id": "Ix1MggEjEEwu"
      },
      "outputs": [],
      "source": [
        "data_augmentation = keras.Sequential(\n",
        "    [\n",
        "        layers.Normalization(),\n",
        "        layers.Resizing(IMAGE_SIZE, IMAGE_SIZE),\n",
        "        layers.RandomFlip(\"horizontal\"),\n",
        "        layers.RandomRotation(factor=0.02),\n",
        "        layers.RandomZoom(height_factor=0.2, width_factor=0.2),\n",
        "    ],\n",
        "    name=\"data_augmentation\",\n",
        ")\n",
        "# Compute the mean and the variance of the training data for normalization.\n",
        "data_augmentation.layers[0].adapt(x_train)"
      ]
    },
    {
      "cell_type": "markdown",
      "metadata": {
        "id": "gPX-8QB_EEwv"
      },
      "source": [
        "## Implement Rotated Patch Tokenization"
      ]
    },
    {
      "cell_type": "code",
      "source": [
        "def rand_rotate(input_image, max_angle, min_angle):\n",
        "  random_angles = np.random.uniform(low = min_angle , high = max_angle)\n",
        "  rotated_image = tfa.image.rotate(images = input_image, angles=random_angles)\n",
        "  return rotated_image"
      ],
      "metadata": {
        "id": "Y0Eth4mcJyFt"
      },
      "execution_count": null,
      "outputs": []
    },
    {
      "cell_type": "code",
      "source": [
        "# make a test on whether rand_rotate works well\n",
        "images = x_train[0:10]\n",
        "resized_image = tf.image.resize(\n",
        "    tf.convert_to_tensor(images), size=(IMAGE_SIZE, IMAGE_SIZE)\n",
        ")\n",
        "print(rand_rotate(resized_image, np.pi / 14, np.pi / 20).shape)"
      ],
      "metadata": {
        "colab": {
          "base_uri": "https://localhost:8080/"
        },
        "id": "k47w3AwgdXDs",
        "outputId": "6840d1d1-44ce-405a-f141-c9f6a714bfec"
      },
      "execution_count": null,
      "outputs": [
        {
          "output_type": "stream",
          "name": "stdout",
          "text": [
            "(10, 72, 72, 3)\n"
          ]
        }
      ]
    },
    {
      "cell_type": "code",
      "execution_count": null,
      "metadata": {
        "id": "8-Lbxh49EEwv"
      },
      "outputs": [],
      "source": [
        "class ShiftedPatchTokenization(layers.Layer):\n",
        "    def __init__(\n",
        "        self,\n",
        "        image_size=IMAGE_SIZE,\n",
        "        patch_size=PATCH_SIZE,\n",
        "        num_patches=NUM_PATCHES,\n",
        "        projection_dim=PROJECTION_DIM,\n",
        "        vanilla=False,\n",
        "        **kwargs,\n",
        "    ):\n",
        "        super().__init__(**kwargs)\n",
        "        self.vanilla = vanilla  # Flag to switch to vanilla patch extractor\n",
        "        self.image_size = image_size\n",
        "        self.patch_size = patch_size\n",
        "        self.half_patch = patch_size // 2\n",
        "        self.min_angle_abs = np.pi / 20\n",
        "        self.max_angle_abs = np.pi / 14\n",
        "        self.flatten_patches = layers.Reshape((num_patches, -1))\n",
        "        self.projection = layers.Dense(units=projection_dim)\n",
        "        self.layer_norm = layers.LayerNormalization(epsilon=LAYER_NORM_EPS)\n",
        "\n",
        "    def crop_shift_rotate_pad(self, images, mode):\n",
        "        # Build the diagonally shifted images\n",
        "        if mode == \"left-up\":\n",
        "            crop_height = self.half_patch\n",
        "            crop_width = self.half_patch\n",
        "            shift_height = 0\n",
        "            shift_width = 0\n",
        "        elif mode == \"left-down\":\n",
        "            crop_height = 0\n",
        "            crop_width = self.half_patch\n",
        "            shift_height = self.half_patch\n",
        "            shift_width = 0\n",
        "        elif mode == \"right-up\":\n",
        "            crop_height = self.half_patch\n",
        "            crop_width = 0\n",
        "            shift_height = 0\n",
        "            shift_width = self.half_patch\n",
        "        elif mode == \"right-down\":\n",
        "            crop_height = 0\n",
        "            crop_width = 0\n",
        "            shift_height = self.half_patch\n",
        "            shift_width = self.half_patch\n",
        "        elif mode == \"rotate-anticlock\":\n",
        "            max_angle = self.max_angle_abs\n",
        "            min_angle = self.min_angle_abs\n",
        "        elif mode == \"rotate-clock\":\n",
        "            max_angle = -self.min_angle_abs\n",
        "            min_angle = -self.max_angle_abs\n",
        "        \n",
        "        if 'rotate' in mode:\n",
        "            return rand_rotate(images, max_angle, min_angle)\n",
        "        else: \n",
        "            # Crop the shifted images and pad them\n",
        "            crop = tf.image.crop_to_bounding_box(\n",
        "                images,\n",
        "                offset_height=crop_height,\n",
        "                offset_width=crop_width,\n",
        "                target_height=self.image_size - self.half_patch,\n",
        "                target_width=self.image_size - self.half_patch,\n",
        "            )\n",
        "            shift_pad = tf.image.pad_to_bounding_box(\n",
        "                crop,\n",
        "                offset_height=shift_height,\n",
        "                offset_width=shift_width,\n",
        "                target_height=self.image_size,\n",
        "                target_width=self.image_size,\n",
        "            )\n",
        "            return shift_pad\n",
        "\n",
        "    def call(self, images):\n",
        "        if not self.vanilla:\n",
        "            # Concat the shifted images with the original image\n",
        "            images = tf.concat(\n",
        "                [\n",
        "                    images,\n",
        "                    self.crop_shift_rotate_pad(images, mode=\"left-up\"),\n",
        "                    self.crop_shift_rotate_pad(images, mode=\"left-down\"),\n",
        "                    self.crop_shift_rotate_pad(images, mode=\"right-up\"),\n",
        "                    self.crop_shift_rotate_pad(images, mode=\"right-down\"),\n",
        "                    self.crop_shift_rotate_pad(images, mode=\"rotate-anticlock\"),\n",
        "                    self.crop_shift_rotate_pad(images, mode=\"rotate-clock\"),\n",
        "                ],\n",
        "                axis=-1,\n",
        "            )\n",
        "        # Patchify the images and flatten it\n",
        "        patches = tf.image.extract_patches(\n",
        "            images=images,\n",
        "            sizes=[1, self.patch_size, self.patch_size, 1],\n",
        "            strides=[1, self.patch_size, self.patch_size, 1],\n",
        "            rates=[1, 1, 1, 1],\n",
        "            padding=\"VALID\",\n",
        "        )\n",
        "        flat_patches = self.flatten_patches(patches)\n",
        "        if not self.vanilla:\n",
        "            # Layer normalize the flat patches and linearly project it\n",
        "            tokens = self.layer_norm(flat_patches)\n",
        "            tokens = self.projection(tokens)\n",
        "        else:\n",
        "            # Linearly project the flat patches\n",
        "            tokens = self.projection(flat_patches)\n",
        "        return (tokens, patches)\n"
      ]
    },
    {
      "cell_type": "code",
      "source": [
        "# visualize the rotate part\n",
        "random_angles = np.random.uniform(low = np.pi/20 , high = np.pi/14)\n",
        "print(random_angles)\n",
        "image = x_train[np.random.choice(range(x_train.shape[0]))]\n",
        "resized_image = tf.image.resize(\n",
        "    tf.convert_to_tensor([image]), size=(IMAGE_SIZE, IMAGE_SIZE)\n",
        ")\n",
        "rotated_image = tfa.image.rotate(images = tf.squeeze(resized_image/255.0), angles=random_angles)\n",
        "plt.imshow(rotated_image)\n",
        "plt.show()\n",
        "plt.imshow(tf.squeeze(resized_image/255.0))\n",
        "plt.show()\n",
        "print(tf.expand_dims(rotated_image,axis=0).shape)"
      ],
      "metadata": {
        "colab": {
          "base_uri": "https://localhost:8080/",
          "height": 885
        },
        "id": "XUWvLb5gFhF2",
        "outputId": "f9d1bec9-3b42-4909-c9f4-6b3490101c7e"
      },
      "execution_count": null,
      "outputs": [
        {
          "output_type": "stream",
          "name": "stdout",
          "text": [
            "0.22108157012263485\n"
          ]
        },
        {
          "output_type": "display_data",
          "data": {
            "text/plain": [
              "<Figure size 640x480 with 1 Axes>"
            ],
            "image/png": "[encoded data removed]"
          },
          "metadata": {}
        },
        {
          "output_type": "display_data",
          "data": {
            "text/plain": [
              "<Figure size 640x480 with 1 Axes>"
            ],
            "image/png": "[encoded data removed]"
          },
          "metadata": {}
        },
        {
          "output_type": "stream",
          "name": "stdout",
          "text": [
            "(1, 72, 72, 3)\n"
          ]
        }
      ]
    },
    {
      "cell_type": "markdown",
      "metadata": {
        "id": "77VgrmmDEEwy"
      },
      "source": [
        "### Visualize the patches"
      ]
    },
    {
      "cell_type": "code",
      "execution_count": null,
      "metadata": {
        "id": "qD9cie7DEEwy",
        "colab": {
          "base_uri": "https://localhost:8080/",
          "height": 1000
        },
        "outputId": "b24931f1-7a7f-4d23-ea2d-58e650be80a2"
      },
      "outputs": [
        {
          "output_type": "stream",
          "name": "stdout",
          "text": [
            "ORIGINAL\n"
          ]
        },
        {
          "output_type": "display_data",
          "data": {
            "text/plain": [
              "<Figure size 400x400 with 144 Axes>"
            ],
            "image/png": "[encoded data removed]"
          },
          "metadata": {}
        },
        {
          "output_type": "stream",
          "name": "stdout",
          "text": [
            "LEFT-UP\n"
          ]
        },
        {
          "output_type": "display_data",
          "data": {
            "text/plain": [
              "<Figure size 400x400 with 144 Axes>"
            ],
            "image/png": "[encoded data removed]"
          },
          "metadata": {}
        },
        {
          "output_type": "stream",
          "name": "stdout",
          "text": [
            "LEFT-DOWN\n"
          ]
        },
        {
          "output_type": "display_data",
          "data": {
            "text/plain": [
              "<Figure size 400x400 with 144 Axes>"
            ],
            "image/png": "[encoded data removed]"
          },
          "metadata": {}
        },
        {
          "output_type": "stream",
          "name": "stdout",
          "text": [
            "RIGHT-UP\n"
          ]
        },
        {
          "output_type": "display_data",
          "data": {
            "text/plain": [
              "<Figure size 400x400 with 144 Axes>"
            ],
            "image/png": "[encoded data removed]"
          },
          "metadata": {}
        },
        {
          "output_type": "stream",
          "name": "stdout",
          "text": [
            "RIGHT-DOWN\n"
          ]
        },
        {
          "output_type": "display_data",
          "data": {
            "text/plain": [
              "<Figure size 400x400 with 144 Axes>"
            ],
            "image/png": "[encoded data removed]"
          },
          "metadata": {}
        },
        {
          "output_type": "stream",
          "name": "stdout",
          "text": [
            "rotate-anticlock\n"
          ]
        },
        {
          "output_type": "display_data",
          "data": {
            "text/plain": [
              "<Figure size 400x400 with 144 Axes>"
            ],
            "image/png": "[encoded data removed]"
          },
          "metadata": {}
        },
        {
          "output_type": "stream",
          "name": "stdout",
          "text": [
            "rotate-clock\n"
          ]
        },
        {
          "output_type": "display_data",
          "data": {
            "text/plain": [
              "<Figure size 400x400 with 144 Axes>"
            ],
            "image/png": "[encoded data removed]"
          },
          "metadata": {}
        }
      ],
      "source": [
        "# Get a random image from the training dataset\n",
        "# and resize the image\n",
        "image = x_train[np.random.choice(range(x_train.shape[0]))]\n",
        "resized_image = tf.image.resize(\n",
        "    tf.convert_to_tensor([image]), size=(IMAGE_SIZE, IMAGE_SIZE)\n",
        ")\n",
        "\n",
        "# Vanilla patch maker: This takes an image and divides into\n",
        "# patches as in the original ViT paper\n",
        "(token, patch) = ShiftedPatchTokenization(vanilla=True)(resized_image / 255.0)\n",
        "(token, patch) = (token[0], patch[0])\n",
        "\n",
        "# Shifted Patch Tokenization: This layer takes the image, shifts it\n",
        "# diagonally and then extracts patches from the concatinated images\n",
        "(token, patch) = ShiftedPatchTokenization(vanilla=False)(resized_image / 255.0)\n",
        "(token, patch) = (token[0], patch[0])\n",
        "n = patch.shape[0]\n",
        "shifted_images = [\"ORIGINAL\", \"LEFT-UP\", \"LEFT-DOWN\",\"RIGHT-UP\", \"RIGHT-DOWN\", \"rotate-anticlock\", \"rotate-clock\"]\n",
        "#shifted_images = [\"ORIGINAL\", \"LEFT-UP\", \"LEFT-DOWN\", \"RIGHT-UP\", \"RIGHT-DOWN\"]\n",
        "for index, name in enumerate(shifted_images):\n",
        "    print(name)\n",
        "    count = 1\n",
        "    plt.figure(figsize=(4, 4))\n",
        "    for row in range(n):\n",
        "        for col in range(n):\n",
        "            plt.subplot(n, n, count)\n",
        "            count = count + 1\n",
        "            image = tf.reshape(patch[row][col], (PATCH_SIZE, PATCH_SIZE, 7 * 3))\n",
        "            plt.imshow(image[..., 3 * index : 3 * index + 3])\n",
        "            plt.axis(\"off\")\n",
        "    plt.show()"
      ]
    },
    {
      "cell_type": "markdown",
      "metadata": {
        "id": "cvDJEjMoEEwz"
      },
      "source": [
        "## Implement the patch encoding layer\n",
        "\n",
        "This layer accepts projected patches and then adds positional\n",
        "information to them."
      ]
    },
    {
      "cell_type": "code",
      "execution_count": null,
      "metadata": {
        "id": "ESM8pyk3EEwz"
      },
      "outputs": [],
      "source": [
        "\n",
        "class PatchEncoder(layers.Layer):\n",
        "    def __init__(\n",
        "        self, num_patches=NUM_PATCHES, projection_dim=PROJECTION_DIM, **kwargs\n",
        "    ):\n",
        "        super().__init__(**kwargs)\n",
        "        self.num_patches = num_patches\n",
        "        self.position_embedding = layers.Embedding(\n",
        "            input_dim=num_patches, output_dim=projection_dim\n",
        "        )\n",
        "        self.positions = tf.range(start=0, limit=self.num_patches, delta=1)\n",
        "\n",
        "    def call(self, encoded_patches):\n",
        "        encoded_positions = self.position_embedding(self.positions)\n",
        "        encoded_patches = encoded_patches + encoded_positions\n",
        "        return encoded_patches\n"
      ]
    },
    {
      "cell_type": "markdown",
      "metadata": {
        "id": "VSPDusAJEEw1"
      },
      "source": [
        "## Implement the MLP"
      ]
    },
    {
      "cell_type": "code",
      "execution_count": null,
      "metadata": {
        "id": "acpYzHrZEEw1"
      },
      "outputs": [],
      "source": [
        "\n",
        "def mlp(x, hidden_units, dropout_rate):\n",
        "    for units in hidden_units:\n",
        "        x = layers.Dense(units, activation=tf.nn.gelu)(x)\n",
        "        x = layers.Dropout(dropout_rate)(x)\n",
        "    return x\n",
        "\n",
        "\n",
        "# Build the diagonal attention mask\n",
        "diag_attn_mask = 1 - tf.eye(NUM_PATCHES)\n",
        "diag_attn_mask = tf.cast([diag_attn_mask], dtype=tf.int8)"
      ]
    },
    {
      "cell_type": "markdown",
      "metadata": {
        "id": "egEHjrWMEEw2"
      },
      "source": [
        "## Build the ViT"
      ]
    },
    {
      "cell_type": "code",
      "execution_count": null,
      "metadata": {
        "id": "2r6OnFnmEEw2"
      },
      "outputs": [],
      "source": [
        "\n",
        "def create_vit_classifier(vanilla=False):\n",
        "    inputs = layers.Input(shape=INPUT_SHAPE)\n",
        "    # Augment data.\n",
        "    augmented = data_augmentation(inputs)\n",
        "    # Create patches.\n",
        "    (tokens, _) = ShiftedPatchTokenization(vanilla=vanilla)(augmented)\n",
        "    # Encode patches.\n",
        "    encoded_patches = PatchEncoder()(tokens)\n",
        "\n",
        "    # Create multiple layers of the Transformer block.\n",
        "    for _ in range(TRANSFORMER_LAYERS):\n",
        "        # Layer normalization 1.\n",
        "        x1 = layers.LayerNormalization(epsilon=1e-6)(encoded_patches)\n",
        "        attention_output = layers.MultiHeadAttention(\n",
        "                num_heads=NUM_HEADS, key_dim=PROJECTION_DIM, dropout=0.1\n",
        "            )(x1, x1)\n",
        "        # Skip connection 1.\n",
        "        x2 = layers.Add()([attention_output, encoded_patches])\n",
        "        # Layer normalization 2.\n",
        "        x3 = layers.LayerNormalization(epsilon=1e-6)(x2)\n",
        "        # MLP.\n",
        "        x3 = mlp(x3, hidden_units=TRANSFORMER_UNITS, dropout_rate=0.1)\n",
        "        # Skip connection 2.\n",
        "        encoded_patches = layers.Add()([x3, x2])\n",
        "\n",
        "    # Create a [batch_size, projection_dim] tensor.\n",
        "    representation = layers.LayerNormalization(epsilon=1e-6)(encoded_patches)\n",
        "    representation = layers.Flatten()(representation)\n",
        "    representation = layers.Dropout(0.5)(representation)\n",
        "    # Add MLP.\n",
        "    features = mlp(representation, hidden_units=MLP_HEAD_UNITS, dropout_rate=0.5)\n",
        "    # Classify outputs.\n",
        "    logits = layers.Dense(NUM_CLASSES)(features)\n",
        "    # Create the Keras model.\n",
        "    model = keras.Model(inputs=inputs, outputs=logits)\n",
        "    return model\n"
      ]
    },
    {
      "cell_type": "markdown",
      "metadata": {
        "id": "bJNBeLMBEEw3"
      },
      "source": [
        "## Compile, train, and evaluate the mode"
      ]
    },
    {
      "cell_type": "markdown",
      "source": [
        "## Tiny_ImageNet"
      ],
      "metadata": {
        "id": "zUIyZZ6J4IsL"
      }
    },
    {
      "cell_type": "code",
      "execution_count": null,
      "metadata": {
        "id": "PHKROp3AEEw3",
        "colab": {
          "base_uri": "https://localhost:8080/"
        },
        "outputId": "4b409919-1173-46d2-fc5b-d0b007797682"
      },
      "outputs": [
        {
          "output_type": "stream",
          "name": "stdout",
          "text": [
            "Epoch 1/50\n",
            "352/352 [==============================] - 42s 84ms/step - loss: 5.1503 - accuracy: 0.0180 - top-5-accuracy: 0.0730 - val_loss: 10.8497 - val_accuracy: 0.0000e+00 - val_top-5-accuracy: 0.0000e+00\n",
            "Epoch 2/50\n",
            "352/352 [==============================] - 28s 79ms/step - loss: 4.8028 - accuracy: 0.0365 - top-5-accuracy: 0.1339 - val_loss: 13.8718 - val_accuracy: 0.0000e+00 - val_top-5-accuracy: 0.0000e+00\n",
            "Epoch 3/50\n",
            "352/352 [==============================] - 28s 79ms/step - loss: 4.6508 - accuracy: 0.0506 - top-5-accuracy: 0.1727 - val_loss: 14.4913 - val_accuracy: 0.0000e+00 - val_top-5-accuracy: 0.0000e+00\n",
            "Epoch 4/50\n",
            "352/352 [==============================] - 28s 79ms/step - loss: 4.5314 - accuracy: 0.0631 - top-5-accuracy: 0.2025 - val_loss: 16.0860 - val_accuracy: 0.0000e+00 - val_top-5-accuracy: 0.0000e+00\n",
            "Epoch 5/50\n",
            "352/352 [==============================] - 28s 79ms/step - loss: 4.3869 - accuracy: 0.0793 - top-5-accuracy: 0.2425 - val_loss: 16.8679 - val_accuracy: 0.0000e+00 - val_top-5-accuracy: 0.0000e+00\n",
            "Epoch 6/50\n",
            "352/352 [==============================] - 28s 79ms/step - loss: 4.2187 - accuracy: 0.1006 - top-5-accuracy: 0.2865 - val_loss: 17.1248 - val_accuracy: 0.0000e+00 - val_top-5-accuracy: 0.0000e+00\n",
            "Epoch 7/50\n",
            "352/352 [==============================] - 28s 79ms/step - loss: 4.0574 - accuracy: 0.1248 - top-5-accuracy: 0.3280 - val_loss: 16.7732 - val_accuracy: 0.0000e+00 - val_top-5-accuracy: 0.0000e+00\n",
            "Epoch 8/50\n",
            "352/352 [==============================] - 28s 79ms/step - loss: 3.8996 - accuracy: 0.1461 - top-5-accuracy: 0.3667 - val_loss: 15.9635 - val_accuracy: 0.0000e+00 - val_top-5-accuracy: 0.0000e+00\n",
            "Epoch 9/50\n",
            "352/352 [==============================] - 28s 79ms/step - loss: 3.7591 - accuracy: 0.1687 - top-5-accuracy: 0.4026 - val_loss: 15.7260 - val_accuracy: 0.0000e+00 - val_top-5-accuracy: 0.0000e+00\n",
            "Epoch 10/50\n",
            "352/352 [==============================] - 28s 79ms/step - loss: 3.6529 - accuracy: 0.1874 - top-5-accuracy: 0.4285 - val_loss: 15.8828 - val_accuracy: 0.0000e+00 - val_top-5-accuracy: 0.0000e+00\n",
            "Epoch 11/50\n",
            "352/352 [==============================] - 28s 79ms/step - loss: 3.5464 - accuracy: 0.2031 - top-5-accuracy: 0.4532 - val_loss: 16.4289 - val_accuracy: 0.0000e+00 - val_top-5-accuracy: 0.0000e+00\n",
            "Epoch 12/50\n",
            "352/352 [==============================] - 28s 79ms/step - loss: 3.4624 - accuracy: 0.2175 - top-5-accuracy: 0.4729 - val_loss: 16.1646 - val_accuracy: 0.0000e+00 - val_top-5-accuracy: 0.0000e+00\n",
            "Epoch 13/50\n",
            "352/352 [==============================] - 28s 79ms/step - loss: 3.3945 - accuracy: 0.2292 - top-5-accuracy: 0.4890 - val_loss: 15.8297 - val_accuracy: 0.0000e+00 - val_top-5-accuracy: 0.0000e+00\n",
            "Epoch 14/50\n",
            "352/352 [==============================] - 28s 80ms/step - loss: 3.3303 - accuracy: 0.2412 - top-5-accuracy: 0.5039 - val_loss: 15.7646 - val_accuracy: 0.0000e+00 - val_top-5-accuracy: 0.0000e+00\n",
            "Epoch 15/50\n",
            "352/352 [==============================] - 28s 80ms/step - loss: 3.2690 - accuracy: 0.2515 - top-5-accuracy: 0.5176 - val_loss: 16.7760 - val_accuracy: 0.0000e+00 - val_top-5-accuracy: 0.0000e+00\n",
            "Epoch 16/50\n",
            "352/352 [==============================] - 28s 79ms/step - loss: 3.2113 - accuracy: 0.2619 - top-5-accuracy: 0.5287 - val_loss: 16.9495 - val_accuracy: 0.0000e+00 - val_top-5-accuracy: 0.0000e+00\n",
            "Epoch 17/50\n",
            "352/352 [==============================] - 28s 80ms/step - loss: 3.1662 - accuracy: 0.2690 - top-5-accuracy: 0.5410 - val_loss: 16.5597 - val_accuracy: 0.0000e+00 - val_top-5-accuracy: 0.0000e+00\n",
            "Epoch 18/50\n",
            "352/352 [==============================] - 28s 79ms/step - loss: 3.1265 - accuracy: 0.2786 - top-5-accuracy: 0.5477 - val_loss: 16.8895 - val_accuracy: 0.0000e+00 - val_top-5-accuracy: 0.0000e+00\n",
            "Epoch 19/50\n",
            "352/352 [==============================] - 28s 80ms/step - loss: 3.0842 - accuracy: 0.2849 - top-5-accuracy: 0.5579 - val_loss: 16.7525 - val_accuracy: 0.0000e+00 - val_top-5-accuracy: 0.0000e+00\n",
            "Epoch 20/50\n",
            "352/352 [==============================] - 28s 79ms/step - loss: 3.0376 - accuracy: 0.2937 - top-5-accuracy: 0.5672 - val_loss: 16.9413 - val_accuracy: 0.0000e+00 - val_top-5-accuracy: 0.0000e+00\n",
            "Epoch 21/50\n",
            "352/352 [==============================] - 28s 80ms/step - loss: 3.0058 - accuracy: 0.2993 - top-5-accuracy: 0.5733 - val_loss: 16.6127 - val_accuracy: 0.0000e+00 - val_top-5-accuracy: 0.0000e+00\n",
            "Epoch 22/50\n",
            "352/352 [==============================] - 28s 79ms/step - loss: 2.9594 - accuracy: 0.3069 - top-5-accuracy: 0.5822 - val_loss: 16.7163 - val_accuracy: 0.0000e+00 - val_top-5-accuracy: 0.0000e+00\n",
            "Epoch 23/50\n",
            "352/352 [==============================] - 28s 79ms/step - loss: 2.9323 - accuracy: 0.3096 - top-5-accuracy: 0.5901 - val_loss: 17.5649 - val_accuracy: 0.0000e+00 - val_top-5-accuracy: 0.0000e+00\n",
            "Epoch 24/50\n",
            "352/352 [==============================] - 28s 79ms/step - loss: 2.8996 - accuracy: 0.3176 - top-5-accuracy: 0.5959 - val_loss: 17.6363 - val_accuracy: 0.0000e+00 - val_top-5-accuracy: 0.0000e+00\n",
            "Epoch 25/50\n",
            "352/352 [==============================] - 28s 79ms/step - loss: 2.8672 - accuracy: 0.3234 - top-5-accuracy: 0.6023 - val_loss: 17.8837 - val_accuracy: 0.0000e+00 - val_top-5-accuracy: 0.0000e+00\n",
            "Epoch 26/50\n",
            "352/352 [==============================] - 28s 79ms/step - loss: 2.8402 - accuracy: 0.3293 - top-5-accuracy: 0.6089 - val_loss: 18.1376 - val_accuracy: 0.0000e+00 - val_top-5-accuracy: 0.0000e+00\n",
            "Epoch 27/50\n",
            "352/352 [==============================] - 28s 79ms/step - loss: 2.8127 - accuracy: 0.3339 - top-5-accuracy: 0.6125 - val_loss: 18.1266 - val_accuracy: 0.0000e+00 - val_top-5-accuracy: 0.0000e+00\n",
            "Epoch 28/50\n",
            "352/352 [==============================] - 28s 79ms/step - loss: 2.7852 - accuracy: 0.3403 - top-5-accuracy: 0.6207 - val_loss: 18.5571 - val_accuracy: 0.0000e+00 - val_top-5-accuracy: 0.0000e+00\n",
            "Epoch 29/50\n",
            "352/352 [==============================] - 28s 79ms/step - loss: 2.7626 - accuracy: 0.3426 - top-5-accuracy: 0.6248 - val_loss: 18.7942 - val_accuracy: 0.0000e+00 - val_top-5-accuracy: 0.0000e+00\n",
            "Epoch 30/50\n",
            "352/352 [==============================] - 28s 79ms/step - loss: 2.7317 - accuracy: 0.3499 - top-5-accuracy: 0.6309 - val_loss: 18.9588 - val_accuracy: 0.0000e+00 - val_top-5-accuracy: 0.0000e+00\n",
            "Epoch 31/50\n",
            "352/352 [==============================] - 28s 79ms/step - loss: 2.7166 - accuracy: 0.3537 - top-5-accuracy: 0.6342 - val_loss: 18.9699 - val_accuracy: 0.0000e+00 - val_top-5-accuracy: 0.0000e+00\n",
            "Epoch 32/50\n",
            "352/352 [==============================] - 28s 80ms/step - loss: 2.6866 - accuracy: 0.3585 - top-5-accuracy: 0.6397 - val_loss: 18.3436 - val_accuracy: 0.0000e+00 - val_top-5-accuracy: 0.0000e+00\n",
            "Epoch 33/50\n",
            "352/352 [==============================] - 28s 80ms/step - loss: 2.6700 - accuracy: 0.3593 - top-5-accuracy: 0.6432 - val_loss: 19.0416 - val_accuracy: 0.0000e+00 - val_top-5-accuracy: 0.0000e+00\n",
            "Epoch 34/50\n",
            "352/352 [==============================] - 28s 79ms/step - loss: 2.6583 - accuracy: 0.3623 - top-5-accuracy: 0.6448 - val_loss: 18.6987 - val_accuracy: 0.0000e+00 - val_top-5-accuracy: 0.0000e+00\n",
            "Epoch 35/50\n",
            "352/352 [==============================] - 28s 79ms/step - loss: 2.6281 - accuracy: 0.3692 - top-5-accuracy: 0.6505 - val_loss: 19.8503 - val_accuracy: 0.0000e+00 - val_top-5-accuracy: 0.0000e+00\n",
            "Epoch 36/50\n",
            "352/352 [==============================] - 28s 80ms/step - loss: 2.6124 - accuracy: 0.3723 - top-5-accuracy: 0.6540 - val_loss: 19.4617 - val_accuracy: 0.0000e+00 - val_top-5-accuracy: 0.0000e+00\n",
            "Epoch 37/50\n",
            "352/352 [==============================] - 28s 79ms/step - loss: 2.5923 - accuracy: 0.3771 - top-5-accuracy: 0.6580 - val_loss: 19.6319 - val_accuracy: 0.0000e+00 - val_top-5-accuracy: 0.0000e+00\n",
            "Epoch 38/50\n",
            "352/352 [==============================] - 28s 79ms/step - loss: 2.5731 - accuracy: 0.3790 - top-5-accuracy: 0.6620 - val_loss: 20.0626 - val_accuracy: 0.0000e+00 - val_top-5-accuracy: 0.0000e+00\n",
            "Epoch 39/50\n",
            "352/352 [==============================] - 28s 79ms/step - loss: 2.5610 - accuracy: 0.3801 - top-5-accuracy: 0.6643 - val_loss: 19.9267 - val_accuracy: 0.0000e+00 - val_top-5-accuracy: 0.0000e+00\n",
            "Epoch 40/50\n",
            "352/352 [==============================] - 28s 79ms/step - loss: 2.5423 - accuracy: 0.3851 - top-5-accuracy: 0.6690 - val_loss: 19.6076 - val_accuracy: 0.0000e+00 - val_top-5-accuracy: 0.0000e+00\n",
            "Epoch 41/50\n",
            "352/352 [==============================] - 28s 79ms/step - loss: 2.5266 - accuracy: 0.3903 - top-5-accuracy: 0.6701 - val_loss: 19.8083 - val_accuracy: 0.0000e+00 - val_top-5-accuracy: 0.0000e+00\n",
            "Epoch 42/50\n",
            "352/352 [==============================] - 28s 79ms/step - loss: 2.5083 - accuracy: 0.3896 - top-5-accuracy: 0.6745 - val_loss: 19.8263 - val_accuracy: 0.0000e+00 - val_top-5-accuracy: 0.0000e+00\n",
            "Epoch 43/50\n",
            "352/352 [==============================] - 28s 80ms/step - loss: 2.4982 - accuracy: 0.3923 - top-5-accuracy: 0.6771 - val_loss: 19.8994 - val_accuracy: 0.0000e+00 - val_top-5-accuracy: 0.0000e+00\n",
            "Epoch 44/50\n",
            "352/352 [==============================] - 28s 79ms/step - loss: 2.4845 - accuracy: 0.3969 - top-5-accuracy: 0.6797 - val_loss: 20.5302 - val_accuracy: 0.0000e+00 - val_top-5-accuracy: 0.0000e+00\n",
            "Epoch 45/50\n",
            "352/352 [==============================] - 28s 79ms/step - loss: 2.4652 - accuracy: 0.4014 - top-5-accuracy: 0.6836 - val_loss: 20.0095 - val_accuracy: 0.0000e+00 - val_top-5-accuracy: 0.0000e+00\n",
            "Epoch 46/50\n",
            "352/352 [==============================] - 28s 79ms/step - loss: 2.4572 - accuracy: 0.4007 - top-5-accuracy: 0.6862 - val_loss: 20.1282 - val_accuracy: 0.0000e+00 - val_top-5-accuracy: 0.0000e+00\n",
            "Epoch 47/50\n",
            "352/352 [==============================] - 28s 79ms/step - loss: 2.4419 - accuracy: 0.4025 - top-5-accuracy: 0.6883 - val_loss: 20.7325 - val_accuracy: 0.0000e+00 - val_top-5-accuracy: 0.0000e+00\n",
            "Epoch 48/50\n",
            "352/352 [==============================] - 28s 79ms/step - loss: 2.4357 - accuracy: 0.4075 - top-5-accuracy: 0.6894 - val_loss: 20.2803 - val_accuracy: 0.0000e+00 - val_top-5-accuracy: 0.0000e+00\n",
            "Epoch 49/50\n",
            "352/352 [==============================] - 28s 79ms/step - loss: 2.4162 - accuracy: 0.4092 - top-5-accuracy: 0.6921 - val_loss: 20.8745 - val_accuracy: 0.0000e+00 - val_top-5-accuracy: 0.0000e+00\n",
            "Epoch 50/50\n",
            "352/352 [==============================] - 28s 79ms/step - loss: 2.4134 - accuracy: 0.4108 - top-5-accuracy: 0.6926 - val_loss: 20.3982 - val_accuracy: 0.0000e+00 - val_top-5-accuracy: 0.0000e+00\n",
            "40/40 [==============================] - 1s 29ms/step - loss: 4.4124 - accuracy: 0.3422 - top-5-accuracy: 0.5845\n",
            "Test accuracy: 34.22%\n",
            "Test top 5 accuracy: 58.45%\n"
          ]
        }
      ],
      "source": [
        "# Some code is taken from:\n",
        "# https://www.kaggle.com/ashusma/training-rfcx-tensorflow-tpu-effnet-b2.\n",
        "class WarmUpCosine(keras.optimizers.schedules.LearningRateSchedule):\n",
        "    def __init__(\n",
        "        self, learning_rate_base, total_steps, warmup_learning_rate, warmup_steps\n",
        "    ):\n",
        "        super().__init__()\n",
        "\n",
        "        self.learning_rate_base = learning_rate_base\n",
        "        self.total_steps = total_steps\n",
        "        self.warmup_learning_rate = warmup_learning_rate\n",
        "        self.warmup_steps = warmup_steps\n",
        "        self.pi = tf.constant(np.pi)\n",
        "\n",
        "    def __call__(self, step):\n",
        "        if self.total_steps < self.warmup_steps:\n",
        "            raise ValueError(\"Total_steps must be larger or equal to warmup_steps.\")\n",
        "\n",
        "        cos_annealed_lr = tf.cos(\n",
        "            self.pi\n",
        "            * (tf.cast(step, tf.float32) - self.warmup_steps)\n",
        "            / float(self.total_steps - self.warmup_steps)\n",
        "        )\n",
        "        learning_rate = 0.5 * self.learning_rate_base * (1 + cos_annealed_lr)\n",
        "\n",
        "        if self.warmup_steps > 0:\n",
        "            if self.learning_rate_base < self.warmup_learning_rate:\n",
        "                raise ValueError(\n",
        "                    \"Learning_rate_base must be larger or equal to \"\n",
        "                    \"warmup_learning_rate.\"\n",
        "                )\n",
        "            slope = (\n",
        "                self.learning_rate_base - self.warmup_learning_rate\n",
        "            ) / self.warmup_steps\n",
        "            warmup_rate = slope * tf.cast(step, tf.float32) + self.warmup_learning_rate\n",
        "            learning_rate = tf.where(\n",
        "                step < self.warmup_steps, warmup_rate, learning_rate\n",
        "            )\n",
        "        return tf.where(\n",
        "            step > self.total_steps, 0.0, learning_rate, name=\"learning_rate\"\n",
        "        )\n",
        "\n",
        "\n",
        "def run_experiment(model):\n",
        "    total_steps = int((len(x_train) / BATCH_SIZE) * EPOCHS)\n",
        "    warmup_epoch_percentage = 0.10\n",
        "    warmup_steps = int(total_steps * warmup_epoch_percentage)\n",
        "    scheduled_lrs = WarmUpCosine(\n",
        "        learning_rate_base=LEARNING_RATE,\n",
        "        total_steps=total_steps,\n",
        "        warmup_learning_rate=0.0,\n",
        "        warmup_steps=warmup_steps,\n",
        "    )\n",
        "\n",
        "    optimizer = tfa.optimizers.AdamW(\n",
        "        learning_rate=LEARNING_RATE, weight_decay=WEIGHT_DECAY\n",
        "    )\n",
        "\n",
        "    model.compile(\n",
        "        optimizer=optimizer,\n",
        "        loss=keras.losses.SparseCategoricalCrossentropy(from_logits=True),\n",
        "        metrics=[\n",
        "            keras.metrics.SparseCategoricalAccuracy(name=\"accuracy\"),\n",
        "            keras.metrics.SparseTopKCategoricalAccuracy(5, name=\"top-5-accuracy\"),\n",
        "        ],\n",
        "    )\n",
        "\n",
        "    history = model.fit(\n",
        "        x=x_train,\n",
        "        y=y_train,\n",
        "        batch_size=BATCH_SIZE,\n",
        "        epochs=EPOCHS,\n",
        "        validation_split=0.1,\n",
        "    )\n",
        "    _, accuracy, top_5_accuracy = model.evaluate(x_test, y_test, batch_size=BATCH_SIZE)\n",
        "    print(f\"Test accuracy: {round(accuracy * 100, 2)}%\")\n",
        "    print(f\"Test top 5 accuracy: {round(top_5_accuracy * 100, 2)}%\")\n",
        "\n",
        "    return history\n",
        "\n",
        "# Run experiments with Rot-ViT\n",
        "vit_sl = create_vit_classifier(vanilla=False)\n",
        "history = run_experiment(vit_sl)"
      ]
    },
    {
      "cell_type": "markdown",
      "source": [
        "## CIFAR10"
      ],
      "metadata": {
        "id": "01cyzF_t4NJ2"
      }
    },
    {
      "cell_type": "code",
      "execution_count": null,
      "metadata": {
        "colab": {
          "base_uri": "https://localhost:8080/"
        },
        "outputId": "0e8881ed-a4d1-4565-f0d4-7044c95fb845",
        "id": "BdFCN9Ec4V5G"
      },
      "outputs": [
        {
          "output_type": "stream",
          "name": "stdout",
          "text": [
            "Epoch 1/50\n",
            "176/176 [==============================] - 27s 86ms/step - loss: 2.0176 - accuracy: 0.3248 - top-5-accuracy: 0.8126 - val_loss: 1.5445 - val_accuracy: 0.4456 - val_top-5-accuracy: 0.9028\n",
            "Epoch 2/50\n",
            "176/176 [==============================] - 14s 77ms/step - loss: 1.5907 - accuracy: 0.4267 - top-5-accuracy: 0.8904 - val_loss: 1.3853 - val_accuracy: 0.5190 - val_top-5-accuracy: 0.9322\n",
            "Epoch 3/50\n",
            "176/176 [==============================] - 14s 77ms/step - loss: 1.4580 - accuracy: 0.4757 - top-5-accuracy: 0.9152 - val_loss: 1.2519 - val_accuracy: 0.5586 - val_top-5-accuracy: 0.9512\n",
            "Epoch 4/50\n",
            "176/176 [==============================] - 14s 77ms/step - loss: 1.3573 - accuracy: 0.5143 - top-5-accuracy: 0.9296 - val_loss: 1.1550 - val_accuracy: 0.6066 - val_top-5-accuracy: 0.9552\n",
            "Epoch 5/50\n",
            "176/176 [==============================] - 14s 77ms/step - loss: 1.2554 - accuracy: 0.5564 - top-5-accuracy: 0.9436 - val_loss: 1.0800 - val_accuracy: 0.6194 - val_top-5-accuracy: 0.9634\n",
            "Epoch 6/50\n",
            "176/176 [==============================] - 14s 77ms/step - loss: 1.1693 - accuracy: 0.5873 - top-5-accuracy: 0.9521 - val_loss: 0.9902 - val_accuracy: 0.6512 - val_top-5-accuracy: 0.9726\n",
            "Epoch 7/50\n",
            "176/176 [==============================] - 14s 77ms/step - loss: 1.0995 - accuracy: 0.6140 - top-5-accuracy: 0.9587 - val_loss: 0.9259 - val_accuracy: 0.6758 - val_top-5-accuracy: 0.9778\n",
            "Epoch 8/50\n",
            "176/176 [==============================] - 14s 77ms/step - loss: 1.0374 - accuracy: 0.6353 - top-5-accuracy: 0.9635 - val_loss: 0.8865 - val_accuracy: 0.6928 - val_top-5-accuracy: 0.9770\n",
            "Epoch 9/50\n",
            "176/176 [==============================] - 14s 77ms/step - loss: 0.9919 - accuracy: 0.6523 - top-5-accuracy: 0.9678 - val_loss: 0.8310 - val_accuracy: 0.7078 - val_top-5-accuracy: 0.9804\n",
            "Epoch 10/50\n",
            "176/176 [==============================] - 14s 77ms/step - loss: 0.9472 - accuracy: 0.6680 - top-5-accuracy: 0.9702 - val_loss: 0.8164 - val_accuracy: 0.7172 - val_top-5-accuracy: 0.9828\n",
            "Epoch 11/50\n",
            "176/176 [==============================] - 14s 77ms/step - loss: 0.9139 - accuracy: 0.6799 - top-5-accuracy: 0.9728 - val_loss: 0.8067 - val_accuracy: 0.7216 - val_top-5-accuracy: 0.9802\n",
            "Epoch 12/50\n",
            "176/176 [==============================] - 14s 77ms/step - loss: 0.8777 - accuracy: 0.6944 - top-5-accuracy: 0.9747 - val_loss: 0.7527 - val_accuracy: 0.7320 - val_top-5-accuracy: 0.9848\n",
            "Epoch 13/50\n",
            "176/176 [==============================] - 14s 77ms/step - loss: 0.8565 - accuracy: 0.6983 - top-5-accuracy: 0.9766 - val_loss: 0.7343 - val_accuracy: 0.7418 - val_top-5-accuracy: 0.9846\n",
            "Epoch 14/50\n",
            "176/176 [==============================] - 14s 77ms/step - loss: 0.8232 - accuracy: 0.7132 - top-5-accuracy: 0.9785 - val_loss: 0.7137 - val_accuracy: 0.7508 - val_top-5-accuracy: 0.9830\n",
            "Epoch 15/50\n",
            "176/176 [==============================] - 14s 77ms/step - loss: 0.7997 - accuracy: 0.7201 - top-5-accuracy: 0.9790 - val_loss: 0.6981 - val_accuracy: 0.7604 - val_top-5-accuracy: 0.9846\n",
            "Epoch 16/50\n",
            "176/176 [==============================] - 14s 77ms/step - loss: 0.7775 - accuracy: 0.7289 - top-5-accuracy: 0.9813 - val_loss: 0.6663 - val_accuracy: 0.7756 - val_top-5-accuracy: 0.9864\n",
            "Epoch 17/50\n",
            "176/176 [==============================] - 14s 77ms/step - loss: 0.7497 - accuracy: 0.7373 - top-5-accuracy: 0.9820 - val_loss: 0.6591 - val_accuracy: 0.7702 - val_top-5-accuracy: 0.9864\n",
            "Epoch 18/50\n",
            "176/176 [==============================] - 14s 77ms/step - loss: 0.7299 - accuracy: 0.7431 - top-5-accuracy: 0.9840 - val_loss: 0.6638 - val_accuracy: 0.7686 - val_top-5-accuracy: 0.9844\n",
            "Epoch 19/50\n",
            "176/176 [==============================] - 14s 77ms/step - loss: 0.7122 - accuracy: 0.7519 - top-5-accuracy: 0.9835 - val_loss: 0.6430 - val_accuracy: 0.7734 - val_top-5-accuracy: 0.9890\n",
            "Epoch 20/50\n",
            "176/176 [==============================] - 14s 77ms/step - loss: 0.6932 - accuracy: 0.7592 - top-5-accuracy: 0.9844 - val_loss: 0.6236 - val_accuracy: 0.7832 - val_top-5-accuracy: 0.9882\n",
            "Epoch 21/50\n",
            "176/176 [==============================] - 14s 78ms/step - loss: 0.6760 - accuracy: 0.7667 - top-5-accuracy: 0.9857 - val_loss: 0.6031 - val_accuracy: 0.7928 - val_top-5-accuracy: 0.9900\n",
            "Epoch 22/50\n",
            "176/176 [==============================] - 14s 78ms/step - loss: 0.6574 - accuracy: 0.7689 - top-5-accuracy: 0.9864 - val_loss: 0.6213 - val_accuracy: 0.7848 - val_top-5-accuracy: 0.9904\n",
            "Epoch 23/50\n",
            "176/176 [==============================] - 14s 77ms/step - loss: 0.6424 - accuracy: 0.7757 - top-5-accuracy: 0.9883 - val_loss: 0.5895 - val_accuracy: 0.7924 - val_top-5-accuracy: 0.9870\n",
            "Epoch 24/50\n",
            "176/176 [==============================] - 14s 77ms/step - loss: 0.6116 - accuracy: 0.7843 - top-5-accuracy: 0.9885 - val_loss: 0.5818 - val_accuracy: 0.7948 - val_top-5-accuracy: 0.9890\n",
            "Epoch 25/50\n",
            "176/176 [==============================] - 14s 77ms/step - loss: 0.6024 - accuracy: 0.7901 - top-5-accuracy: 0.9891 - val_loss: 0.5662 - val_accuracy: 0.7978 - val_top-5-accuracy: 0.9898\n",
            "Epoch 26/50\n",
            "176/176 [==============================] - 14s 78ms/step - loss: 0.5861 - accuracy: 0.7941 - top-5-accuracy: 0.9898 - val_loss: 0.5621 - val_accuracy: 0.8040 - val_top-5-accuracy: 0.9894\n",
            "Epoch 27/50\n",
            "176/176 [==============================] - 14s 77ms/step - loss: 0.5735 - accuracy: 0.7986 - top-5-accuracy: 0.9903 - val_loss: 0.5655 - val_accuracy: 0.8006 - val_top-5-accuracy: 0.9894\n",
            "Epoch 28/50\n",
            "176/176 [==============================] - 14s 77ms/step - loss: 0.5601 - accuracy: 0.8037 - top-5-accuracy: 0.9909 - val_loss: 0.5747 - val_accuracy: 0.8002 - val_top-5-accuracy: 0.9882\n",
            "Epoch 29/50\n",
            "176/176 [==============================] - 14s 77ms/step - loss: 0.5471 - accuracy: 0.8083 - top-5-accuracy: 0.9920 - val_loss: 0.5267 - val_accuracy: 0.8140 - val_top-5-accuracy: 0.9898\n",
            "Epoch 30/50\n",
            "176/176 [==============================] - 14s 77ms/step - loss: 0.5291 - accuracy: 0.8150 - top-5-accuracy: 0.9919 - val_loss: 0.5758 - val_accuracy: 0.7942 - val_top-5-accuracy: 0.9888\n",
            "Epoch 31/50\n",
            "176/176 [==============================] - 14s 77ms/step - loss: 0.5187 - accuracy: 0.8194 - top-5-accuracy: 0.9929 - val_loss: 0.5722 - val_accuracy: 0.8062 - val_top-5-accuracy: 0.9874\n",
            "Epoch 32/50\n",
            "176/176 [==============================] - 14s 78ms/step - loss: 0.5096 - accuracy: 0.8231 - top-5-accuracy: 0.9924 - val_loss: 0.5560 - val_accuracy: 0.8102 - val_top-5-accuracy: 0.9882\n",
            "Epoch 33/50\n",
            "176/176 [==============================] - 14s 78ms/step - loss: 0.4914 - accuracy: 0.8266 - top-5-accuracy: 0.9938 - val_loss: 0.5476 - val_accuracy: 0.8114 - val_top-5-accuracy: 0.9886\n",
            "Epoch 34/50\n",
            "176/176 [==============================] - 14s 77ms/step - loss: 0.4798 - accuracy: 0.8310 - top-5-accuracy: 0.9943 - val_loss: 0.5389 - val_accuracy: 0.8130 - val_top-5-accuracy: 0.9896\n",
            "Epoch 35/50\n",
            "176/176 [==============================] - 14s 77ms/step - loss: 0.4742 - accuracy: 0.8340 - top-5-accuracy: 0.9938 - val_loss: 0.5466 - val_accuracy: 0.8150 - val_top-5-accuracy: 0.9896\n",
            "Epoch 36/50\n",
            "176/176 [==============================] - 14s 78ms/step - loss: 0.4653 - accuracy: 0.8360 - top-5-accuracy: 0.9946 - val_loss: 0.5499 - val_accuracy: 0.8130 - val_top-5-accuracy: 0.9914\n",
            "Epoch 37/50\n",
            "176/176 [==============================] - 14s 77ms/step - loss: 0.4630 - accuracy: 0.8400 - top-5-accuracy: 0.9945 - val_loss: 0.5308 - val_accuracy: 0.8226 - val_top-5-accuracy: 0.9870\n",
            "Epoch 38/50\n",
            "176/176 [==============================] - 14s 77ms/step - loss: 0.4474 - accuracy: 0.8428 - top-5-accuracy: 0.9951 - val_loss: 0.5436 - val_accuracy: 0.8224 - val_top-5-accuracy: 0.9898\n",
            "Epoch 39/50\n",
            "176/176 [==============================] - 14s 77ms/step - loss: 0.4373 - accuracy: 0.8470 - top-5-accuracy: 0.9951 - val_loss: 0.5497 - val_accuracy: 0.8126 - val_top-5-accuracy: 0.9880\n",
            "Epoch 40/50\n",
            "176/176 [==============================] - 14s 77ms/step - loss: 0.4355 - accuracy: 0.8472 - top-5-accuracy: 0.9955 - val_loss: 0.5381 - val_accuracy: 0.8238 - val_top-5-accuracy: 0.9892\n",
            "Epoch 41/50\n",
            "176/176 [==============================] - 14s 77ms/step - loss: 0.4218 - accuracy: 0.8508 - top-5-accuracy: 0.9957 - val_loss: 0.5311 - val_accuracy: 0.8230 - val_top-5-accuracy: 0.9906\n",
            "Epoch 42/50\n",
            "176/176 [==============================] - 14s 77ms/step - loss: 0.4101 - accuracy: 0.8562 - top-5-accuracy: 0.9960 - val_loss: 0.5313 - val_accuracy: 0.8284 - val_top-5-accuracy: 0.9912\n",
            "Epoch 43/50\n",
            "176/176 [==============================] - 14s 77ms/step - loss: 0.4068 - accuracy: 0.8560 - top-5-accuracy: 0.9959 - val_loss: 0.5262 - val_accuracy: 0.8232 - val_top-5-accuracy: 0.9904\n",
            "Epoch 44/50\n",
            "176/176 [==============================] - 14s 77ms/step - loss: 0.4066 - accuracy: 0.8570 - top-5-accuracy: 0.9962 - val_loss: 0.5248 - val_accuracy: 0.8246 - val_top-5-accuracy: 0.9906\n",
            "Epoch 45/50\n",
            "176/176 [==============================] - 14s 77ms/step - loss: 0.3876 - accuracy: 0.8622 - top-5-accuracy: 0.9966 - val_loss: 0.5556 - val_accuracy: 0.8182 - val_top-5-accuracy: 0.9896\n",
            "Epoch 46/50\n",
            "176/176 [==============================] - 14s 77ms/step - loss: 0.3827 - accuracy: 0.8658 - top-5-accuracy: 0.9968 - val_loss: 0.5403 - val_accuracy: 0.8208 - val_top-5-accuracy: 0.9908\n",
            "Epoch 47/50\n",
            "176/176 [==============================] - 14s 77ms/step - loss: 0.3839 - accuracy: 0.8657 - top-5-accuracy: 0.9963 - val_loss: 0.5252 - val_accuracy: 0.8266 - val_top-5-accuracy: 0.9898\n",
            "Epoch 48/50\n",
            "176/176 [==============================] - 14s 77ms/step - loss: 0.3740 - accuracy: 0.8692 - top-5-accuracy: 0.9970 - val_loss: 0.5033 - val_accuracy: 0.8332 - val_top-5-accuracy: 0.9902\n",
            "Epoch 49/50\n",
            "176/176 [==============================] - 14s 78ms/step - loss: 0.3670 - accuracy: 0.8716 - top-5-accuracy: 0.9972 - val_loss: 0.5004 - val_accuracy: 0.8358 - val_top-5-accuracy: 0.9906\n",
            "Epoch 50/50\n",
            "176/176 [==============================] - 14s 77ms/step - loss: 0.3505 - accuracy: 0.8772 - top-5-accuracy: 0.9972 - val_loss: 0.5197 - val_accuracy: 0.8312 - val_top-5-accuracy: 0.9908\n",
            "40/40 [==============================] - 1s 27ms/step - loss: 0.5484 - accuracy: 0.8196 - top-5-accuracy: 0.9894\n",
            "Test accuracy: 81.96%\n",
            "Test top 5 accuracy: 98.94%\n"
          ]
        }
      ],
      "source": [
        "# Some code is taken from:\n",
        "# https://www.kaggle.com/ashusma/training-rfcx-tensorflow-tpu-effnet-b2.\n",
        "class WarmUpCosine(keras.optimizers.schedules.LearningRateSchedule):\n",
        "    def __init__(\n",
        "        self, learning_rate_base, total_steps, warmup_learning_rate, warmup_steps\n",
        "    ):\n",
        "        super().__init__()\n",
        "\n",
        "        self.learning_rate_base = learning_rate_base\n",
        "        self.total_steps = total_steps\n",
        "        self.warmup_learning_rate = warmup_learning_rate\n",
        "        self.warmup_steps = warmup_steps\n",
        "        self.pi = tf.constant(np.pi)\n",
        "\n",
        "    def __call__(self, step):\n",
        "        if self.total_steps < self.warmup_steps:\n",
        "            raise ValueError(\"Total_steps must be larger or equal to warmup_steps.\")\n",
        "\n",
        "        cos_annealed_lr = tf.cos(\n",
        "            self.pi\n",
        "            * (tf.cast(step, tf.float32) - self.warmup_steps)\n",
        "            / float(self.total_steps - self.warmup_steps)\n",
        "        )\n",
        "        learning_rate = 0.5 * self.learning_rate_base * (1 + cos_annealed_lr)\n",
        "\n",
        "        if self.warmup_steps > 0:\n",
        "            if self.learning_rate_base < self.warmup_learning_rate:\n",
        "                raise ValueError(\n",
        "                    \"Learning_rate_base must be larger or equal to \"\n",
        "                    \"warmup_learning_rate.\"\n",
        "                )\n",
        "            slope = (\n",
        "                self.learning_rate_base - self.warmup_learning_rate\n",
        "            ) / self.warmup_steps\n",
        "            warmup_rate = slope * tf.cast(step, tf.float32) + self.warmup_learning_rate\n",
        "            learning_rate = tf.where(\n",
        "                step < self.warmup_steps, warmup_rate, learning_rate\n",
        "            )\n",
        "        return tf.where(\n",
        "            step > self.total_steps, 0.0, learning_rate, name=\"learning_rate\"\n",
        "        )\n",
        "\n",
        "\n",
        "def run_experiment(model):\n",
        "    total_steps = int((len(x_train) / BATCH_SIZE) * EPOCHS)\n",
        "    warmup_epoch_percentage = 0.10\n",
        "    warmup_steps = int(total_steps * warmup_epoch_percentage)\n",
        "    scheduled_lrs = WarmUpCosine(\n",
        "        learning_rate_base=LEARNING_RATE,\n",
        "        total_steps=total_steps,\n",
        "        warmup_learning_rate=0.0,\n",
        "        warmup_steps=warmup_steps,\n",
        "    )\n",
        "\n",
        "    optimizer = tfa.optimizers.AdamW(\n",
        "        learning_rate=LEARNING_RATE, weight_decay=WEIGHT_DECAY\n",
        "    )\n",
        "\n",
        "    model.compile(\n",
        "        optimizer=optimizer,\n",
        "        loss=keras.losses.SparseCategoricalCrossentropy(from_logits=True),\n",
        "        metrics=[\n",
        "            keras.metrics.SparseCategoricalAccuracy(name=\"accuracy\"),\n",
        "            keras.metrics.SparseTopKCategoricalAccuracy(5, name=\"top-5-accuracy\"),\n",
        "        ],\n",
        "    )\n",
        "\n",
        "    history = model.fit(\n",
        "        x=x_train,\n",
        "        y=y_train,\n",
        "        batch_size=BATCH_SIZE,\n",
        "        epochs=EPOCHS,\n",
        "        validation_split=0.1,\n",
        "    )\n",
        "    _, accuracy, top_5_accuracy = model.evaluate(x_test, y_test, batch_size=BATCH_SIZE)\n",
        "    print(f\"Test accuracy: {round(accuracy * 100, 2)}%\")\n",
        "    print(f\"Test top 5 accuracy: {round(top_5_accuracy * 100, 2)}%\")\n",
        "\n",
        "    return history\n",
        "\n",
        "vit_sl = create_vit_classifier(vanilla=False)\n",
        "history = run_experiment(vit_sl)"
      ]
    },
    {
      "cell_type": "markdown",
      "source": [
        "## CIFAR100"
      ],
      "metadata": {
        "id": "G49PLaZq4blq"
      }
    },
    {
      "cell_type": "code",
      "execution_count": null,
      "metadata": {
        "colab": {
          "base_uri": "https://localhost:8080/"
        },
        "outputId": "a9d91fd4-bc3e-40c6-ca9c-97bc4d1cee9d",
        "id": "Y8H3KDvK4lCR"
      },
      "outputs": [
        {
          "output_type": "stream",
          "name": "stdout",
          "text": [
            "Epoch 1/50\n",
            "176/176 [==============================] - 36s 142ms/step - loss: 4.4835 - accuracy: 0.0448 - top-5-accuracy: 0.1555 - val_loss: 3.9566 - val_accuracy: 0.1090 - val_top-5-accuracy: 0.3202\n",
            "Epoch 2/50\n",
            "176/176 [==============================] - 23s 132ms/step - loss: 3.9880 - accuracy: 0.0954 - top-5-accuracy: 0.2839 - val_loss: 3.6675 - val_accuracy: 0.1602 - val_top-5-accuracy: 0.3890\n",
            "Epoch 3/50\n",
            "176/176 [==============================] - 23s 131ms/step - loss: 3.7824 - accuracy: 0.1238 - top-5-accuracy: 0.3411 - val_loss: 3.4260 - val_accuracy: 0.1940 - val_top-5-accuracy: 0.4574\n",
            "Epoch 4/50\n",
            "176/176 [==============================] - 23s 131ms/step - loss: 3.6321 - accuracy: 0.1452 - top-5-accuracy: 0.3881 - val_loss: 3.3041 - val_accuracy: 0.2132 - val_top-5-accuracy: 0.4832\n",
            "Epoch 5/50\n",
            "176/176 [==============================] - 23s 131ms/step - loss: 3.5137 - accuracy: 0.1679 - top-5-accuracy: 0.4211 - val_loss: 3.2151 - val_accuracy: 0.2364 - val_top-5-accuracy: 0.5162\n",
            "Epoch 6/50\n",
            "176/176 [==============================] - 23s 132ms/step - loss: 3.4013 - accuracy: 0.1851 - top-5-accuracy: 0.4502 - val_loss: 3.1011 - val_accuracy: 0.2578 - val_top-5-accuracy: 0.5436\n",
            "Epoch 7/50\n",
            "176/176 [==============================] - 23s 131ms/step - loss: 3.2909 - accuracy: 0.2049 - top-5-accuracy: 0.4792 - val_loss: 2.9620 - val_accuracy: 0.2710 - val_top-5-accuracy: 0.5692\n",
            "Epoch 8/50\n",
            "176/176 [==============================] - 23s 131ms/step - loss: 3.1733 - accuracy: 0.2279 - top-5-accuracy: 0.5100 - val_loss: 2.8734 - val_accuracy: 0.2958 - val_top-5-accuracy: 0.5948\n",
            "Epoch 9/50\n",
            "176/176 [==============================] - 23s 131ms/step - loss: 3.0764 - accuracy: 0.2412 - top-5-accuracy: 0.5361 - val_loss: 2.7974 - val_accuracy: 0.3144 - val_top-5-accuracy: 0.6114\n",
            "Epoch 10/50\n",
            "176/176 [==============================] - 23s 132ms/step - loss: 2.9563 - accuracy: 0.2646 - top-5-accuracy: 0.5658 - val_loss: 2.6682 - val_accuracy: 0.3298 - val_top-5-accuracy: 0.6352\n",
            "Epoch 11/50\n",
            "176/176 [==============================] - 23s 131ms/step - loss: 2.8593 - accuracy: 0.2853 - top-5-accuracy: 0.5881 - val_loss: 2.6103 - val_accuracy: 0.3432 - val_top-5-accuracy: 0.6430\n",
            "Epoch 12/50\n",
            "176/176 [==============================] - 23s 131ms/step - loss: 2.7484 - accuracy: 0.3054 - top-5-accuracy: 0.6133 - val_loss: 2.5401 - val_accuracy: 0.3556 - val_top-5-accuracy: 0.6578\n",
            "Epoch 13/50\n",
            "176/176 [==============================] - 23s 131ms/step - loss: 2.6499 - accuracy: 0.3228 - top-5-accuracy: 0.6369 - val_loss: 2.4354 - val_accuracy: 0.3730 - val_top-5-accuracy: 0.6756\n",
            "Epoch 14/50\n",
            "176/176 [==============================] - 23s 131ms/step - loss: 2.5591 - accuracy: 0.3417 - top-5-accuracy: 0.6561 - val_loss: 2.4032 - val_accuracy: 0.3770 - val_top-5-accuracy: 0.6898\n",
            "Epoch 15/50\n",
            "176/176 [==============================] - 23s 131ms/step - loss: 2.4874 - accuracy: 0.3577 - top-5-accuracy: 0.6717 - val_loss: 2.3175 - val_accuracy: 0.3954 - val_top-5-accuracy: 0.7054\n",
            "Epoch 16/50\n",
            "176/176 [==============================] - 23s 131ms/step - loss: 2.4208 - accuracy: 0.3695 - top-5-accuracy: 0.6869 - val_loss: 2.2170 - val_accuracy: 0.4180 - val_top-5-accuracy: 0.7232\n",
            "Epoch 17/50\n",
            "176/176 [==============================] - 23s 131ms/step - loss: 2.3494 - accuracy: 0.3859 - top-5-accuracy: 0.7025 - val_loss: 2.2292 - val_accuracy: 0.4106 - val_top-5-accuracy: 0.7204\n",
            "Epoch 18/50\n",
            "176/176 [==============================] - 23s 131ms/step - loss: 2.2819 - accuracy: 0.3966 - top-5-accuracy: 0.7136 - val_loss: 2.1568 - val_accuracy: 0.4348 - val_top-5-accuracy: 0.7364\n",
            "Epoch 19/50\n",
            "176/176 [==============================] - 23s 131ms/step - loss: 2.2219 - accuracy: 0.4124 - top-5-accuracy: 0.7271 - val_loss: 2.1311 - val_accuracy: 0.4320 - val_top-5-accuracy: 0.7440\n",
            "Epoch 20/50\n",
            "176/176 [==============================] - 23s 131ms/step - loss: 2.1532 - accuracy: 0.4250 - top-5-accuracy: 0.7419 - val_loss: 2.1377 - val_accuracy: 0.4326 - val_top-5-accuracy: 0.7450\n",
            "Epoch 21/50\n",
            "176/176 [==============================] - 23s 131ms/step - loss: 2.1119 - accuracy: 0.4369 - top-5-accuracy: 0.7497 - val_loss: 2.0419 - val_accuracy: 0.4594 - val_top-5-accuracy: 0.7586\n",
            "Epoch 22/50\n",
            "176/176 [==============================] - 23s 131ms/step - loss: 2.0594 - accuracy: 0.4491 - top-5-accuracy: 0.7594 - val_loss: 2.0708 - val_accuracy: 0.4434 - val_top-5-accuracy: 0.7602\n",
            "Epoch 23/50\n",
            "176/176 [==============================] - 23s 131ms/step - loss: 2.0019 - accuracy: 0.4640 - top-5-accuracy: 0.7718 - val_loss: 1.9818 - val_accuracy: 0.4594 - val_top-5-accuracy: 0.7688\n",
            "Epoch 24/50\n",
            "176/176 [==============================] - 23s 131ms/step - loss: 1.9468 - accuracy: 0.4727 - top-5-accuracy: 0.7828 - val_loss: 1.9880 - val_accuracy: 0.4638 - val_top-5-accuracy: 0.7752\n",
            "Epoch 25/50\n",
            "176/176 [==============================] - 23s 131ms/step - loss: 1.9145 - accuracy: 0.4785 - top-5-accuracy: 0.7900 - val_loss: 1.9612 - val_accuracy: 0.4738 - val_top-5-accuracy: 0.7692\n",
            "Epoch 26/50\n",
            "176/176 [==============================] - 23s 131ms/step - loss: 1.8767 - accuracy: 0.4864 - top-5-accuracy: 0.7973 - val_loss: 1.9263 - val_accuracy: 0.4840 - val_top-5-accuracy: 0.7778\n",
            "Epoch 27/50\n",
            "176/176 [==============================] - 23s 131ms/step - loss: 1.8291 - accuracy: 0.4996 - top-5-accuracy: 0.8055 - val_loss: 1.8856 - val_accuracy: 0.4918 - val_top-5-accuracy: 0.7870\n",
            "Epoch 28/50\n",
            "176/176 [==============================] - 23s 131ms/step - loss: 1.7941 - accuracy: 0.5097 - top-5-accuracy: 0.8098 - val_loss: 1.9075 - val_accuracy: 0.4864 - val_top-5-accuracy: 0.7850\n",
            "Epoch 29/50\n",
            "176/176 [==============================] - 23s 131ms/step - loss: 1.7414 - accuracy: 0.5196 - top-5-accuracy: 0.8205 - val_loss: 1.9070 - val_accuracy: 0.4880 - val_top-5-accuracy: 0.7820\n",
            "Epoch 30/50\n",
            "176/176 [==============================] - 23s 131ms/step - loss: 1.7101 - accuracy: 0.5300 - top-5-accuracy: 0.8272 - val_loss: 1.8703 - val_accuracy: 0.4946 - val_top-5-accuracy: 0.7924\n",
            "Epoch 31/50\n",
            "176/176 [==============================] - 23s 131ms/step - loss: 1.6711 - accuracy: 0.5383 - top-5-accuracy: 0.8328 - val_loss: 1.8583 - val_accuracy: 0.4948 - val_top-5-accuracy: 0.7896\n",
            "Epoch 32/50\n",
            "176/176 [==============================] - 23s 131ms/step - loss: 1.6391 - accuracy: 0.5453 - top-5-accuracy: 0.8384 - val_loss: 1.8541 - val_accuracy: 0.4950 - val_top-5-accuracy: 0.7958\n",
            "Epoch 33/50\n",
            "176/176 [==============================] - 23s 131ms/step - loss: 1.6137 - accuracy: 0.5509 - top-5-accuracy: 0.8427 - val_loss: 1.8315 - val_accuracy: 0.5072 - val_top-5-accuracy: 0.7976\n",
            "Epoch 34/50\n",
            "176/176 [==============================] - 23s 133ms/step - loss: 1.5877 - accuracy: 0.5541 - top-5-accuracy: 0.8493 - val_loss: 1.8153 - val_accuracy: 0.5100 - val_top-5-accuracy: 0.8022\n",
            "Epoch 35/50\n",
            "176/176 [==============================] - 23s 131ms/step - loss: 1.5449 - accuracy: 0.5668 - top-5-accuracy: 0.8555 - val_loss: 1.8449 - val_accuracy: 0.5082 - val_top-5-accuracy: 0.8014\n",
            "Epoch 36/50\n",
            "176/176 [==============================] - 23s 131ms/step - loss: 1.5163 - accuracy: 0.5735 - top-5-accuracy: 0.8585 - val_loss: 1.8127 - val_accuracy: 0.5130 - val_top-5-accuracy: 0.8046\n",
            "Epoch 37/50\n",
            "176/176 [==============================] - 23s 131ms/step - loss: 1.4987 - accuracy: 0.5780 - top-5-accuracy: 0.8628 - val_loss: 1.8037 - val_accuracy: 0.5226 - val_top-5-accuracy: 0.8078\n",
            "Epoch 38/50\n",
            "176/176 [==============================] - 23s 133ms/step - loss: 1.4693 - accuracy: 0.5871 - top-5-accuracy: 0.8674 - val_loss: 1.8176 - val_accuracy: 0.5144 - val_top-5-accuracy: 0.8058\n",
            "Epoch 39/50\n",
            "176/176 [==============================] - 23s 131ms/step - loss: 1.4656 - accuracy: 0.5846 - top-5-accuracy: 0.8670 - val_loss: 1.8027 - val_accuracy: 0.5170 - val_top-5-accuracy: 0.8050\n",
            "Epoch 40/50\n",
            "176/176 [==============================] - 23s 131ms/step - loss: 1.4145 - accuracy: 0.5971 - top-5-accuracy: 0.8767 - val_loss: 1.7990 - val_accuracy: 0.5292 - val_top-5-accuracy: 0.8158\n",
            "Epoch 41/50\n",
            "176/176 [==============================] - 23s 131ms/step - loss: 1.4097 - accuracy: 0.6004 - top-5-accuracy: 0.8785 - val_loss: 1.8127 - val_accuracy: 0.5200 - val_top-5-accuracy: 0.8062\n",
            "Epoch 42/50\n",
            "176/176 [==============================] - 23s 131ms/step - loss: 1.3671 - accuracy: 0.6088 - top-5-accuracy: 0.8823 - val_loss: 1.7806 - val_accuracy: 0.5278 - val_top-5-accuracy: 0.8140\n",
            "Epoch 43/50\n",
            "176/176 [==============================] - 23s 130ms/step - loss: 1.3532 - accuracy: 0.6160 - top-5-accuracy: 0.8848 - val_loss: 1.7866 - val_accuracy: 0.5270 - val_top-5-accuracy: 0.8126\n",
            "Epoch 44/50\n",
            "176/176 [==============================] - 23s 130ms/step - loss: 1.3319 - accuracy: 0.6204 - top-5-accuracy: 0.8889 - val_loss: 1.7472 - val_accuracy: 0.5294 - val_top-5-accuracy: 0.8184\n",
            "Epoch 45/50\n",
            "176/176 [==============================] - 23s 130ms/step - loss: 1.3051 - accuracy: 0.6239 - top-5-accuracy: 0.8934 - val_loss: 1.7498 - val_accuracy: 0.5284 - val_top-5-accuracy: 0.8212\n",
            "Epoch 46/50\n",
            "176/176 [==============================] - 23s 130ms/step - loss: 1.2825 - accuracy: 0.6324 - top-5-accuracy: 0.8961 - val_loss: 1.7490 - val_accuracy: 0.5338 - val_top-5-accuracy: 0.8220\n",
            "Epoch 47/50\n",
            "176/176 [==============================] - 23s 131ms/step - loss: 1.2655 - accuracy: 0.6340 - top-5-accuracy: 0.8992 - val_loss: 1.7732 - val_accuracy: 0.5280 - val_top-5-accuracy: 0.8160\n",
            "Epoch 48/50\n",
            "176/176 [==============================] - 23s 130ms/step - loss: 1.2555 - accuracy: 0.6394 - top-5-accuracy: 0.8987 - val_loss: 1.7915 - val_accuracy: 0.5280 - val_top-5-accuracy: 0.8122\n",
            "Epoch 49/50\n",
            "176/176 [==============================] - 23s 130ms/step - loss: 1.2248 - accuracy: 0.6449 - top-5-accuracy: 0.9040 - val_loss: 1.7403 - val_accuracy: 0.5402 - val_top-5-accuracy: 0.8210\n",
            "Epoch 50/50\n",
            "176/176 [==============================] - 23s 130ms/step - loss: 1.2217 - accuracy: 0.6456 - top-5-accuracy: 0.9061 - val_loss: 1.7652 - val_accuracy: 0.5336 - val_top-5-accuracy: 0.8172\n",
            "40/40 [==============================] - 2s 45ms/step - loss: 1.7285 - accuracy: 0.5475 - top-5-accuracy: 0.8183\n",
            "Test accuracy: 54.75%\n",
            "Test top 5 accuracy: 81.83%\n"
          ]
        }
      ],
      "source": [
        "# Some code is taken from:\n",
        "# https://www.kaggle.com/ashusma/training-rfcx-tensorflow-tpu-effnet-b2.\n",
        "class WarmUpCosine(keras.optimizers.schedules.LearningRateSchedule):\n",
        "    def __init__(\n",
        "        self, learning_rate_base, total_steps, warmup_learning_rate, warmup_steps\n",
        "    ):\n",
        "        super().__init__()\n",
        "\n",
        "        self.learning_rate_base = learning_rate_base\n",
        "        self.total_steps = total_steps\n",
        "        self.warmup_learning_rate = warmup_learning_rate\n",
        "        self.warmup_steps = warmup_steps\n",
        "        self.pi = tf.constant(np.pi)\n",
        "\n",
        "    def __call__(self, step):\n",
        "        if self.total_steps < self.warmup_steps:\n",
        "            raise ValueError(\"Total_steps must be larger or equal to warmup_steps.\")\n",
        "\n",
        "        cos_annealed_lr = tf.cos(\n",
        "            self.pi\n",
        "            * (tf.cast(step, tf.float32) - self.warmup_steps)\n",
        "            / float(self.total_steps - self.warmup_steps)\n",
        "        )\n",
        "        learning_rate = 0.5 * self.learning_rate_base * (1 + cos_annealed_lr)\n",
        "\n",
        "        if self.warmup_steps > 0:\n",
        "            if self.learning_rate_base < self.warmup_learning_rate:\n",
        "                raise ValueError(\n",
        "                    \"Learning_rate_base must be larger or equal to \"\n",
        "                    \"warmup_learning_rate.\"\n",
        "                )\n",
        "            slope = (\n",
        "                self.learning_rate_base - self.warmup_learning_rate\n",
        "            ) / self.warmup_steps\n",
        "            warmup_rate = slope * tf.cast(step, tf.float32) + self.warmup_learning_rate\n",
        "            learning_rate = tf.where(\n",
        "                step < self.warmup_steps, warmup_rate, learning_rate\n",
        "            )\n",
        "        return tf.where(\n",
        "            step > self.total_steps, 0.0, learning_rate, name=\"learning_rate\"\n",
        "        )\n",
        "\n",
        "\n",
        "def run_experiment(model):\n",
        "    total_steps = int((len(x_train) / BATCH_SIZE) * EPOCHS)\n",
        "    warmup_epoch_percentage = 0.10\n",
        "    warmup_steps = int(total_steps * warmup_epoch_percentage)\n",
        "    scheduled_lrs = WarmUpCosine(\n",
        "        learning_rate_base=LEARNING_RATE,\n",
        "        total_steps=total_steps,\n",
        "        warmup_learning_rate=0.0,\n",
        "        warmup_steps=warmup_steps,\n",
        "    )\n",
        "\n",
        "    optimizer = tfa.optimizers.AdamW(\n",
        "        learning_rate=LEARNING_RATE, weight_decay=WEIGHT_DECAY\n",
        "    )\n",
        "\n",
        "    model.compile(\n",
        "        optimizer=optimizer,\n",
        "        loss=keras.losses.SparseCategoricalCrossentropy(from_logits=True),\n",
        "        metrics=[\n",
        "            keras.metrics.SparseCategoricalAccuracy(name=\"accuracy\"),\n",
        "            keras.metrics.SparseTopKCategoricalAccuracy(5, name=\"top-5-accuracy\"),\n",
        "        ],\n",
        "    )\n",
        "\n",
        "    history = model.fit(\n",
        "        x=x_train,\n",
        "        y=y_train,\n",
        "        batch_size=BATCH_SIZE,\n",
        "        epochs=EPOCHS,\n",
        "        validation_split=0.1,\n",
        "    )\n",
        "    _, accuracy, top_5_accuracy = model.evaluate(x_test, y_test, batch_size=BATCH_SIZE)\n",
        "    print(f\"Test accuracy: {round(accuracy * 100, 2)}%\")\n",
        "    print(f\"Test top 5 accuracy: {round(top_5_accuracy * 100, 2)}%\")\n",
        "\n",
        "    return history\n",
        "\n",
        "vit_sl = create_vit_classifier(vanilla=False)\n",
        "history = run_experiment(vit_sl)"
      ]
    },
    {
      "cell_type": "markdown",
      "source": [
        "## TF_Flowers\n",
        "\n"
      ],
      "metadata": {
        "id": "3Ju2Ngcr4rLY"
      }
    },
    {
      "cell_type": "code",
      "execution_count": null,
      "metadata": {
        "colab": {
          "base_uri": "https://localhost:8080/"
        },
        "outputId": "64a78643-77be-4032-b8e9-0e7c8279feea",
        "id": "Y-H1MC5C5A8P"
      },
      "outputs": [
        {
          "output_type": "stream",
          "name": "stdout",
          "text": [
            "Epoch 1/50\n",
            "12/12 [==============================] - 17s 360ms/step - loss: 4.8205 - accuracy: 0.2971 - top-5-accuracy: 1.0000 - val_loss: 1.5774 - val_accuracy: 0.3746 - val_top-5-accuracy: 1.0000\n",
            "Epoch 2/50\n",
            "12/12 [==============================] - 2s 191ms/step - loss: 1.9064 - accuracy: 0.3614 - top-5-accuracy: 1.0000 - val_loss: 1.4045 - val_accuracy: 0.3776 - val_top-5-accuracy: 1.0000\n",
            "Epoch 3/50\n",
            "12/12 [==============================] - 2s 190ms/step - loss: 1.4893 - accuracy: 0.3937 - top-5-accuracy: 1.0000 - val_loss: 1.3234 - val_accuracy: 0.4653 - val_top-5-accuracy: 1.0000\n",
            "Epoch 4/50\n",
            "12/12 [==============================] - 2s 194ms/step - loss: 1.3467 - accuracy: 0.4344 - top-5-accuracy: 1.0000 - val_loss: 1.2857 - val_accuracy: 0.4411 - val_top-5-accuracy: 1.0000\n",
            "Epoch 5/50\n",
            "12/12 [==============================] - 2s 190ms/step - loss: 1.3215 - accuracy: 0.4448 - top-5-accuracy: 1.0000 - val_loss: 1.2689 - val_accuracy: 0.4773 - val_top-5-accuracy: 1.0000\n",
            "Epoch 6/50\n",
            "12/12 [==============================] - 2s 191ms/step - loss: 1.2810 - accuracy: 0.4717 - top-5-accuracy: 1.0000 - val_loss: 1.2054 - val_accuracy: 0.4864 - val_top-5-accuracy: 1.0000\n",
            "Epoch 7/50\n",
            "12/12 [==============================] - 2s 193ms/step - loss: 1.2428 - accuracy: 0.4778 - top-5-accuracy: 1.0000 - val_loss: 1.1966 - val_accuracy: 0.5076 - val_top-5-accuracy: 1.0000\n",
            "Epoch 8/50\n",
            "12/12 [==============================] - 2s 193ms/step - loss: 1.2188 - accuracy: 0.4976 - top-5-accuracy: 1.0000 - val_loss: 1.1753 - val_accuracy: 0.4894 - val_top-5-accuracy: 1.0000\n",
            "Epoch 9/50\n",
            "12/12 [==============================] - 2s 193ms/step - loss: 1.1727 - accuracy: 0.5242 - top-5-accuracy: 1.0000 - val_loss: 1.1630 - val_accuracy: 0.5257 - val_top-5-accuracy: 1.0000\n",
            "Epoch 10/50\n",
            "12/12 [==============================] - 2s 196ms/step - loss: 1.1677 - accuracy: 0.5192 - top-5-accuracy: 1.0000 - val_loss: 1.1451 - val_accuracy: 0.5438 - val_top-5-accuracy: 1.0000\n",
            "Epoch 11/50\n",
            "12/12 [==============================] - 2s 194ms/step - loss: 1.1395 - accuracy: 0.5269 - top-5-accuracy: 1.0000 - val_loss: 1.1138 - val_accuracy: 0.5317 - val_top-5-accuracy: 1.0000\n",
            "Epoch 12/50\n",
            "12/12 [==============================] - 2s 190ms/step - loss: 1.1057 - accuracy: 0.5528 - top-5-accuracy: 1.0000 - val_loss: 1.0969 - val_accuracy: 0.5498 - val_top-5-accuracy: 1.0000\n",
            "Epoch 13/50\n",
            "12/12 [==============================] - 2s 191ms/step - loss: 1.0923 - accuracy: 0.5622 - top-5-accuracy: 1.0000 - val_loss: 1.1090 - val_accuracy: 0.5559 - val_top-5-accuracy: 1.0000\n",
            "Epoch 14/50\n",
            "12/12 [==============================] - 2s 190ms/step - loss: 1.0768 - accuracy: 0.5774 - top-5-accuracy: 1.0000 - val_loss: 1.0931 - val_accuracy: 0.5498 - val_top-5-accuracy: 1.0000\n",
            "Epoch 15/50\n",
            "12/12 [==============================] - 2s 190ms/step - loss: 1.0724 - accuracy: 0.5616 - top-5-accuracy: 1.0000 - val_loss: 1.0577 - val_accuracy: 0.5619 - val_top-5-accuracy: 1.0000\n",
            "Epoch 16/50\n",
            "12/12 [==============================] - 2s 192ms/step - loss: 1.0240 - accuracy: 0.5848 - top-5-accuracy: 1.0000 - val_loss: 1.0676 - val_accuracy: 0.5378 - val_top-5-accuracy: 1.0000\n",
            "Epoch 17/50\n",
            "12/12 [==============================] - 2s 192ms/step - loss: 1.0087 - accuracy: 0.5945 - top-5-accuracy: 1.0000 - val_loss: 1.0771 - val_accuracy: 0.5740 - val_top-5-accuracy: 1.0000\n",
            "Epoch 18/50\n",
            "12/12 [==============================] - 2s 190ms/step - loss: 0.9915 - accuracy: 0.5882 - top-5-accuracy: 1.0000 - val_loss: 1.0899 - val_accuracy: 0.5529 - val_top-5-accuracy: 1.0000\n",
            "Epoch 19/50\n",
            "12/12 [==============================] - 2s 193ms/step - loss: 1.0157 - accuracy: 0.5875 - top-5-accuracy: 1.0000 - val_loss: 1.0947 - val_accuracy: 0.5287 - val_top-5-accuracy: 1.0000\n",
            "Epoch 20/50\n",
            "12/12 [==============================] - 2s 192ms/step - loss: 0.9858 - accuracy: 0.5999 - top-5-accuracy: 1.0000 - val_loss: 1.0878 - val_accuracy: 0.5408 - val_top-5-accuracy: 1.0000\n",
            "Epoch 21/50\n",
            "12/12 [==============================] - 2s 198ms/step - loss: 0.9356 - accuracy: 0.6218 - top-5-accuracy: 1.0000 - val_loss: 1.0366 - val_accuracy: 0.5740 - val_top-5-accuracy: 1.0000\n",
            "Epoch 22/50\n",
            "12/12 [==============================] - 2s 192ms/step - loss: 0.9298 - accuracy: 0.6326 - top-5-accuracy: 1.0000 - val_loss: 1.0418 - val_accuracy: 0.5770 - val_top-5-accuracy: 1.0000\n",
            "Epoch 23/50\n",
            "12/12 [==============================] - 2s 191ms/step - loss: 0.9406 - accuracy: 0.6282 - top-5-accuracy: 1.0000 - val_loss: 1.0465 - val_accuracy: 0.5740 - val_top-5-accuracy: 1.0000\n",
            "Epoch 24/50\n",
            "12/12 [==============================] - 2s 191ms/step - loss: 0.9240 - accuracy: 0.6299 - top-5-accuracy: 1.0000 - val_loss: 1.0194 - val_accuracy: 0.6012 - val_top-5-accuracy: 1.0000\n",
            "Epoch 25/50\n",
            "12/12 [==============================] - 2s 193ms/step - loss: 0.8987 - accuracy: 0.6390 - top-5-accuracy: 1.0000 - val_loss: 1.0145 - val_accuracy: 0.5982 - val_top-5-accuracy: 1.0000\n",
            "Epoch 26/50\n",
            "12/12 [==============================] - 2s 194ms/step - loss: 0.8516 - accuracy: 0.6558 - top-5-accuracy: 1.0000 - val_loss: 1.0432 - val_accuracy: 0.5861 - val_top-5-accuracy: 1.0000\n",
            "Epoch 27/50\n",
            "12/12 [==============================] - 2s 190ms/step - loss: 0.8672 - accuracy: 0.6474 - top-5-accuracy: 1.0000 - val_loss: 1.0243 - val_accuracy: 0.5982 - val_top-5-accuracy: 1.0000\n",
            "Epoch 28/50\n",
            "12/12 [==============================] - 2s 195ms/step - loss: 0.8331 - accuracy: 0.6645 - top-5-accuracy: 1.0000 - val_loss: 1.0178 - val_accuracy: 0.5891 - val_top-5-accuracy: 1.0000\n",
            "Epoch 29/50\n",
            "12/12 [==============================] - 2s 193ms/step - loss: 0.8298 - accuracy: 0.6716 - top-5-accuracy: 1.0000 - val_loss: 1.0057 - val_accuracy: 0.6012 - val_top-5-accuracy: 1.0000\n",
            "Epoch 30/50\n",
            "12/12 [==============================] - 2s 190ms/step - loss: 0.8232 - accuracy: 0.6736 - top-5-accuracy: 1.0000 - val_loss: 1.0132 - val_accuracy: 0.5952 - val_top-5-accuracy: 1.0000\n",
            "Epoch 31/50\n",
            "12/12 [==============================] - 2s 191ms/step - loss: 0.7790 - accuracy: 0.6925 - top-5-accuracy: 1.0000 - val_loss: 1.0210 - val_accuracy: 0.5921 - val_top-5-accuracy: 1.0000\n",
            "Epoch 32/50\n",
            "12/12 [==============================] - 2s 193ms/step - loss: 0.7752 - accuracy: 0.6948 - top-5-accuracy: 1.0000 - val_loss: 1.0509 - val_accuracy: 0.5710 - val_top-5-accuracy: 1.0000\n",
            "Epoch 33/50\n",
            "12/12 [==============================] - 2s 193ms/step - loss: 0.7536 - accuracy: 0.7012 - top-5-accuracy: 1.0000 - val_loss: 1.0093 - val_accuracy: 0.6012 - val_top-5-accuracy: 1.0000\n",
            "Epoch 34/50\n",
            "12/12 [==============================] - 2s 193ms/step - loss: 0.7232 - accuracy: 0.7177 - top-5-accuracy: 1.0000 - val_loss: 0.9944 - val_accuracy: 0.6224 - val_top-5-accuracy: 1.0000\n",
            "Epoch 35/50\n",
            "12/12 [==============================] - 2s 195ms/step - loss: 0.7243 - accuracy: 0.7143 - top-5-accuracy: 1.0000 - val_loss: 1.0362 - val_accuracy: 0.6224 - val_top-5-accuracy: 1.0000\n",
            "Epoch 36/50\n",
            "12/12 [==============================] - 2s 192ms/step - loss: 0.7386 - accuracy: 0.7106 - top-5-accuracy: 1.0000 - val_loss: 1.0285 - val_accuracy: 0.6133 - val_top-5-accuracy: 1.0000\n",
            "Epoch 37/50\n",
            "12/12 [==============================] - 2s 192ms/step - loss: 0.6878 - accuracy: 0.7305 - top-5-accuracy: 1.0000 - val_loss: 1.0176 - val_accuracy: 0.6133 - val_top-5-accuracy: 1.0000\n",
            "Epoch 38/50\n",
            "12/12 [==============================] - 2s 193ms/step - loss: 0.6634 - accuracy: 0.7355 - top-5-accuracy: 1.0000 - val_loss: 1.0235 - val_accuracy: 0.6073 - val_top-5-accuracy: 1.0000\n",
            "Epoch 39/50\n",
            "12/12 [==============================] - 2s 191ms/step - loss: 0.6794 - accuracy: 0.7443 - top-5-accuracy: 1.0000 - val_loss: 1.0089 - val_accuracy: 0.6073 - val_top-5-accuracy: 1.0000\n",
            "Epoch 40/50\n",
            "12/12 [==============================] - 2s 198ms/step - loss: 0.6602 - accuracy: 0.7241 - top-5-accuracy: 1.0000 - val_loss: 1.0069 - val_accuracy: 0.6103 - val_top-5-accuracy: 1.0000\n",
            "Epoch 41/50\n",
            "12/12 [==============================] - 2s 190ms/step - loss: 0.6377 - accuracy: 0.7537 - top-5-accuracy: 1.0000 - val_loss: 1.0235 - val_accuracy: 0.6344 - val_top-5-accuracy: 1.0000\n",
            "Epoch 42/50\n",
            "12/12 [==============================] - 2s 194ms/step - loss: 0.6077 - accuracy: 0.7608 - top-5-accuracy: 1.0000 - val_loss: 1.1056 - val_accuracy: 0.5982 - val_top-5-accuracy: 1.0000\n",
            "Epoch 43/50\n",
            "12/12 [==============================] - 2s 193ms/step - loss: 0.6211 - accuracy: 0.7513 - top-5-accuracy: 1.0000 - val_loss: 1.0494 - val_accuracy: 0.6375 - val_top-5-accuracy: 1.0000\n",
            "Epoch 44/50\n",
            "12/12 [==============================] - 2s 196ms/step - loss: 0.5949 - accuracy: 0.7746 - top-5-accuracy: 1.0000 - val_loss: 1.0566 - val_accuracy: 0.6103 - val_top-5-accuracy: 1.0000\n",
            "Epoch 45/50\n",
            "12/12 [==============================] - 2s 192ms/step - loss: 0.5858 - accuracy: 0.7759 - top-5-accuracy: 1.0000 - val_loss: 1.0354 - val_accuracy: 0.6254 - val_top-5-accuracy: 1.0000\n",
            "Epoch 46/50\n",
            "12/12 [==============================] - 2s 192ms/step - loss: 0.5626 - accuracy: 0.7793 - top-5-accuracy: 1.0000 - val_loss: 1.0170 - val_accuracy: 0.6465 - val_top-5-accuracy: 1.0000\n",
            "Epoch 47/50\n",
            "12/12 [==============================] - 2s 190ms/step - loss: 0.5576 - accuracy: 0.7823 - top-5-accuracy: 1.0000 - val_loss: 1.0637 - val_accuracy: 0.6435 - val_top-5-accuracy: 1.0000\n",
            "Epoch 48/50\n",
            "12/12 [==============================] - 2s 192ms/step - loss: 0.5434 - accuracy: 0.7867 - top-5-accuracy: 1.0000 - val_loss: 1.1179 - val_accuracy: 0.6405 - val_top-5-accuracy: 1.0000\n",
            "Epoch 49/50\n",
            "12/12 [==============================] - 2s 191ms/step - loss: 0.5402 - accuracy: 0.7954 - top-5-accuracy: 1.0000 - val_loss: 1.0940 - val_accuracy: 0.6284 - val_top-5-accuracy: 1.0000\n",
            "Epoch 50/50\n",
            "12/12 [==============================] - 2s 190ms/step - loss: 0.5165 - accuracy: 0.7937 - top-5-accuracy: 1.0000 - val_loss: 1.0900 - val_accuracy: 0.6193 - val_top-5-accuracy: 1.0000\n",
            "2/2 [==============================] - 0s 51ms/step - loss: 0.8752 - accuracy: 0.6730 - top-5-accuracy: 1.0000\n",
            "Test accuracy: 67.3%\n",
            "Test top 5 accuracy: 100.0%\n"
          ]
        }
      ],
      "source": [
        "# Some code is taken from:\n",
        "# https://www.kaggle.com/ashusma/training-rfcx-tensorflow-tpu-effnet-b2.\n",
        "class WarmUpCosine(keras.optimizers.schedules.LearningRateSchedule):\n",
        "    def __init__(\n",
        "        self, learning_rate_base, total_steps, warmup_learning_rate, warmup_steps\n",
        "    ):\n",
        "        super().__init__()\n",
        "\n",
        "        self.learning_rate_base = learning_rate_base\n",
        "        self.total_steps = total_steps\n",
        "        self.warmup_learning_rate = warmup_learning_rate\n",
        "        self.warmup_steps = warmup_steps\n",
        "        self.pi = tf.constant(np.pi)\n",
        "\n",
        "    def __call__(self, step):\n",
        "        if self.total_steps < self.warmup_steps:\n",
        "            raise ValueError(\"Total_steps must be larger or equal to warmup_steps.\")\n",
        "\n",
        "        cos_annealed_lr = tf.cos(\n",
        "            self.pi\n",
        "            * (tf.cast(step, tf.float32) - self.warmup_steps)\n",
        "            / float(self.total_steps - self.warmup_steps)\n",
        "        )\n",
        "        learning_rate = 0.5 * self.learning_rate_base * (1 + cos_annealed_lr)\n",
        "\n",
        "        if self.warmup_steps > 0:\n",
        "            if self.learning_rate_base < self.warmup_learning_rate:\n",
        "                raise ValueError(\n",
        "                    \"Learning_rate_base must be larger or equal to \"\n",
        "                    \"warmup_learning_rate.\"\n",
        "                )\n",
        "            slope = (\n",
        "                self.learning_rate_base - self.warmup_learning_rate\n",
        "            ) / self.warmup_steps\n",
        "            warmup_rate = slope * tf.cast(step, tf.float32) + self.warmup_learning_rate\n",
        "            learning_rate = tf.where(\n",
        "                step < self.warmup_steps, warmup_rate, learning_rate\n",
        "            )\n",
        "        return tf.where(\n",
        "            step > self.total_steps, 0.0, learning_rate, name=\"learning_rate\"\n",
        "        )\n",
        "\n",
        "\n",
        "def run_experiment(model):\n",
        "    total_steps = int((len(x_train) / BATCH_SIZE) * EPOCHS)\n",
        "    warmup_epoch_percentage = 0.10\n",
        "    warmup_steps = int(total_steps * warmup_epoch_percentage)\n",
        "    scheduled_lrs = WarmUpCosine(\n",
        "        learning_rate_base=LEARNING_RATE,\n",
        "        total_steps=total_steps,\n",
        "        warmup_learning_rate=0.0,\n",
        "        warmup_steps=warmup_steps,\n",
        "    )\n",
        "\n",
        "    optimizer = tfa.optimizers.AdamW(\n",
        "        learning_rate=LEARNING_RATE, weight_decay=WEIGHT_DECAY\n",
        "    )\n",
        "\n",
        "    model.compile(\n",
        "        optimizer=optimizer,\n",
        "        loss=keras.losses.SparseCategoricalCrossentropy(from_logits=True),\n",
        "        metrics=[\n",
        "            keras.metrics.SparseCategoricalAccuracy(name=\"accuracy\"),\n",
        "            keras.metrics.SparseTopKCategoricalAccuracy(5, name=\"top-5-accuracy\"),\n",
        "        ],\n",
        "    )\n",
        "\n",
        "    history = model.fit(\n",
        "        x=x_train,\n",
        "        y=y_train,\n",
        "        batch_size=BATCH_SIZE,\n",
        "        epochs=EPOCHS,\n",
        "        validation_split=0.1,\n",
        "    )\n",
        "    _, accuracy, top_5_accuracy = model.evaluate(x_test, y_test, batch_size=BATCH_SIZE)\n",
        "    print(f\"Test accuracy: {round(accuracy * 100, 2)}%\")\n",
        "    print(f\"Test top 5 accuracy: {round(top_5_accuracy * 100, 2)}%\")\n",
        "\n",
        "    return history\n",
        "\n",
        "vit_sl = create_vit_classifier(vanilla=False)\n",
        "history = run_experiment(vit_sl)"
      ]
    }
  ],
  "metadata": {
    "accelerator": "GPU",
    "colab": {
      "provenance": [],
      "machine_shape": "hm",
      "gpuType": "A100",
      "collapsed_sections": [
        "01cyzF_t4NJ2",
        "G49PLaZq4blq",
        "3Ju2Ngcr4rLY"
      ]
    },
    "kernelspec": {
      "display_name": "Python 3",
      "language": "python",
      "name": "python3"
    },
    "language_info": {
      "codemirror_mode": {
        "name": "ipython",
        "version": 3
      },
      "file_extension": ".py",
      "mimetype": "text/x-python",
      "name": "python",
      "nbconvert_exporter": "python",
      "pygments_lexer": "ipython3",
      "version": "3.7.0"
    },
    "gpuClass": "standard"
  },
  "nbformat": 4,
  "nbformat_minor": 0
}