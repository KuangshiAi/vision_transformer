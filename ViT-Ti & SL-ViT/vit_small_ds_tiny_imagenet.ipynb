{
  "cells": [
    {
      "cell_type": "markdown",
      "metadata": {
        "id": "eA76GqusEEwe"
      },
      "source": [
        "# Train a Vision Transformer on small datasets\n",
        "\n",
        "**Author:** [Aritra Roy Gosthipaty](https://twitter.com/ariG23498)<br>\n",
        "**Date created:** 2022/01/07<br>\n",
        "**Last modified:** 2022/01/10<br>\n",
        "**Description:** Training a ViT from scratch on smaller datasets with shifted patch tokenization and locality self-attention."
      ]
    },
    {
      "cell_type": "markdown",
      "metadata": {
        "id": "fy-7fO7-EEwn"
      },
      "source": [
        "## Introduction\n",
        "\n",
        "In the academic paper\n",
        "[An Image is Worth 16x16 Words: Transformers for Image Recognition at Scale](https://arxiv.org/abs/2010.11929),\n",
        "the authors mention that Vision Transformers (ViT) are data-hungry. Therefore,\n",
        "pretraining a ViT on a large-sized dataset like JFT300M and fine-tuning\n",
        "it on medium-sized datasets (like ImageNet) is the only way to beat\n",
        "state-of-the-art Convolutional Neural Network models.\n",
        "\n",
        "The self-attention layer of ViT lacks **locality inductive bias** (the notion that\n",
        "image pixels are locally correlated and that their correlation maps are translation-invariant).\n",
        "This is the reason why ViTs need more data. On the other hand, CNNs look at images through\n",
        "spatial sliding windows, which helps them get better results with smaller datasets.\n",
        "\n",
        "In the academic paper\n",
        "[Vision Transformer for Small-Size Datasets](https://arxiv.org/abs/2112.13492v1),\n",
        "the authors set out to tackle the problem of locality inductive bias in ViTs.\n",
        "\n",
        "The main ideas are:\n",
        "\n",
        "- **Shifted Patch Tokenization**\n",
        "- **Locality Self Attention**\n",
        "\n",
        "This example implements the ideas of the paper. A large part of this\n",
        "example is inspired from\n",
        "[Image classification with Vision Transformer](https://keras.io/examples/vision/image_classification_with_vision_transformer/).\n",
        "\n",
        "_Note_: This example requires TensorFlow 2.6 or higher, as well as\n",
        "[TensorFlow Addons](https://www.tensorflow.org/addons), which can be\n",
        "installed using the following command:\n",
        "\n",
        "```python\n",
        "pip install -qq -U tensorflow-addons\n",
        "```"
      ]
    },
    {
      "cell_type": "code",
      "source": [
        "!pip install -qq -U tensorflow-addons"
      ],
      "metadata": {
        "id": "Xtny0OaTEZO0",
        "colab": {
          "base_uri": "https://localhost:8080/"
        },
        "outputId": "bfd159e6-daf4-4fad-c55d-04260554f73b"
      },
      "execution_count": null,
      "outputs": [
        {
          "output_type": "stream",
          "name": "stdout",
          "text": [
            "\u001b[?25l     \u001b[90m━━━━━━━━━━━━━━━━━━━━━━━━━━━━━━━━━━━━━━━━\u001b[0m \u001b[32m0.0/591.0 kB\u001b[0m \u001b[31m?\u001b[0m eta \u001b[36m-:--:--\u001b[0m\r\u001b[2K     \u001b[90m━━━━━━━━━━━━━━━━━━━━━━━━━━━━━━━━━━━━━━\u001b[0m \u001b[32m591.0/591.0 kB\u001b[0m \u001b[31m26.4 MB/s\u001b[0m eta \u001b[36m0:00:00\u001b[0m\n",
            "\u001b[?25h"
          ]
        }
      ]
    },
    {
      "cell_type": "markdown",
      "metadata": {
        "id": "NZOfSZRpEEwo"
      },
      "source": [
        "## Setup"
      ]
    },
    {
      "cell_type": "code",
      "execution_count": null,
      "metadata": {
        "id": "ApwBvl6_EEwp",
        "colab": {
          "base_uri": "https://localhost:8080/"
        },
        "outputId": "95d86e7e-f3df-4899-ab98-1e7de7c73904"
      },
      "outputs": [
        {
          "output_type": "stream",
          "name": "stderr",
          "text": [
            "/usr/local/lib/python3.10/dist-packages/tensorflow_addons/utils/tfa_eol_msg.py:23: UserWarning: \n",
            "\n",
            "TensorFlow Addons (TFA) has ended development and introduction of new features.\n",
            "TFA has entered a minimal maintenance and release mode until a planned end of life in May 2024.\n",
            "Please modify downstream libraries to take dependencies from other repositories in our TensorFlow community (e.g. Keras, Keras-CV, and Keras-NLP). \n",
            "\n",
            "For more information see: https://github.com/tensorflow/addons/issues/2807 \n",
            "\n",
            "  warnings.warn(\n"
          ]
        }
      ],
      "source": [
        "import math\n",
        "import numpy as np\n",
        "import tensorflow as tf\n",
        "from tensorflow import keras\n",
        "import tensorflow_addons as tfa\n",
        "import matplotlib.pyplot as plt\n",
        "from tensorflow.keras import layers\n",
        "import tensorflow_datasets as tfds\n",
        "\n",
        "# Setting seed for reproducibiltiy\n",
        "SEED = 42\n",
        "keras.utils.set_random_seed(SEED)"
      ]
    },
    {
      "cell_type": "markdown",
      "metadata": {
        "id": "hlaPFRnYEEwr"
      },
      "source": [
        "## Prepare the data"
      ]
    },
    {
      "cell_type": "code",
      "source": [
        "from google.colab import drive\n",
        "\n",
        "drive.mount( '/content/drive', force_remount=True )"
      ],
      "metadata": {
        "colab": {
          "base_uri": "https://localhost:8080/"
        },
        "id": "JQ-Zn8SyARNY",
        "outputId": "bc3ee2f2-f1fe-4796-cbd7-731b23dffa64"
      },
      "execution_count": null,
      "outputs": [
        {
          "output_type": "stream",
          "name": "stdout",
          "text": [
            "Mounted at /content/drive\n"
          ]
        }
      ]
    },
    {
      "cell_type": "code",
      "source": [
        "! git clone https://github.com/seshuad/IMagenet\n",
        "! ls 'IMagenet/tiny-imagenet-200/'"
      ],
      "metadata": {
        "colab": {
          "base_uri": "https://localhost:8080/"
        },
        "id": "3gBdwBIgASTs",
        "outputId": "1e0ee315-9cfa-4bcd-bdb1-bb6ec7ad802b"
      },
      "execution_count": null,
      "outputs": [
        {
          "output_type": "stream",
          "name": "stdout",
          "text": [
            "Cloning into 'IMagenet'...\n",
            "remote: Enumerating objects: 120594, done.\u001b[K\n",
            "remote: Total 120594 (delta 0), reused 0 (delta 0), pack-reused 120594\u001b[K\n",
            "Receiving objects: 100% (120594/120594), 212.68 MiB | 17.02 MiB/s, done.\n",
            "Resolving deltas: 100% (1115/1115), done.\n",
            "Updating files: 100% (120206/120206), done.\n",
            "test  train  val  wnids.txt  words.txt\n"
          ]
        }
      ]
    },
    {
      "cell_type": "code",
      "source": [
        "NUM_CLASSES = 200\n",
        "INPUT_SHAPE = (64, 64, 3)\n",
        "\n",
        "import time\n",
        "import scipy.ndimage as nd\n",
        "import imageio\n",
        "import numpy as np\n",
        "\n",
        "path = 'IMagenet/tiny-imagenet-200/'\n",
        "\n",
        "def get_id_dictionary():\n",
        "    id_dict = {}\n",
        "    for i, line in enumerate(open( path + 'wnids.txt', 'r')):\n",
        "        id_dict[line.replace('\\n', '')] = i\n",
        "    return id_dict\n",
        "  \n",
        "def get_class_to_id_dict():\n",
        "    id_dict = get_id_dictionary()\n",
        "    all_classes = {}\n",
        "    result = {}\n",
        "    for i, line in enumerate(open( path + 'words.txt', 'r')):\n",
        "        n_id, word = line.split('\\t')[:2]\n",
        "        all_classes[n_id] = word\n",
        "    for key, value in id_dict.items():\n",
        "        result[value] = (key, all_classes[key])      \n",
        "    return result\n",
        "\n",
        "def get_data(id_dict):\n",
        "    print('starting loading data')\n",
        "    train_data, test_data = [], []\n",
        "    train_labels, test_labels = [], []\n",
        "    t = time.time()\n",
        "    for key, value in id_dict.items():\n",
        "        train_data += [imageio.imread( path + 'train/{}/images/{}_{}.JPEG'.format(key, key, str(i)), pilmode='RGB') for i in range(500)]\n",
        "        train_labels_ = np.array([[0]*200]*500)\n",
        "        train_labels_[:, value] = 1\n",
        "        train_labels += train_labels_.tolist()\n",
        "\n",
        "    for line in open( path + 'val/val_annotations.txt'):\n",
        "        img_name, class_id = line.split('\\t')[:2]\n",
        "        test_data.append(imageio.imread( path + 'val/images/{}'.format(img_name) ,pilmode='RGB'))\n",
        "        test_labels_ = np.array([[0]*200])\n",
        "        test_labels_[0, id_dict[class_id]] = 1\n",
        "        test_labels += test_labels_.tolist()\n",
        "\n",
        "    print('finished loading data, in {} seconds'.format(time.time() - t))\n",
        "    return np.array(train_data), np.array(train_labels), np.array(test_data), np.array(test_labels)\n",
        "  \n",
        "x_train, y_train, x_test, y_test = get_data(get_id_dictionary())\n",
        "\n",
        "print(f\"x_train shape: {x_train.shape} - y_train shape: {y_train.shape}\")\n",
        "print(f\"x_test shape: {x_test.shape} - y_test shape: {y_test.shape}\")"
      ],
      "metadata": {
        "colab": {
          "base_uri": "https://localhost:8080/"
        },
        "id": "QxQrA3e1AVEf",
        "outputId": "13ab9af7-0354-4984-ef49-fd4d88a3cd38"
      },
      "execution_count": null,
      "outputs": [
        {
          "output_type": "stream",
          "name": "stdout",
          "text": [
            "starting loading data\n"
          ]
        },
        {
          "output_type": "stream",
          "name": "stderr",
          "text": [
            "<ipython-input-5-92475de8ba90>:34: DeprecationWarning: Starting with ImageIO v3 the behavior of this function will switch to that of iio.v3.imread. To keep the current behavior (and make this warning disappear) use `import imageio.v2 as imageio` or call `imageio.v2.imread` directly.\n",
            "  train_data += [imageio.imread( path + 'train/{}/images/{}_{}.JPEG'.format(key, key, str(i)), pilmode='RGB') for i in range(500)]\n",
            "<ipython-input-5-92475de8ba90>:41: DeprecationWarning: Starting with ImageIO v3 the behavior of this function will switch to that of iio.v3.imread. To keep the current behavior (and make this warning disappear) use `import imageio.v2 as imageio` or call `imageio.v2.imread` directly.\n",
            "  test_data.append(imageio.imread( path + 'val/images/{}'.format(img_name) ,pilmode='RGB'))\n"
          ]
        },
        {
          "output_type": "stream",
          "name": "stdout",
          "text": [
            "finished loading data, in 57.142897605895996 seconds\n",
            "x_train shape: (100000, 64, 64, 3) - y_train shape: (100000, 200)\n",
            "x_test shape: (10000, 64, 64, 3) - y_test shape: (10000, 200)\n"
          ]
        }
      ]
    },
    {
      "cell_type": "code",
      "source": [
        "# We need to transfer the format of labels so that they fit our ViT model\n",
        "y_train = np.argmax(y_train, axis=1)\n",
        "y_train = y_train[:,np.newaxis]\n",
        "y_test = np.argmax(y_test, axis=1)\n",
        "y_test = y_test[:,np.newaxis]\n",
        "print(f\"y_train shape: {y_train.shape}\")\n",
        "print(f\"y_test shape: {y_test.shape}\")"
      ],
      "metadata": {
        "colab": {
          "base_uri": "https://localhost:8080/"
        },
        "id": "qteJK08kCFJE",
        "outputId": "d5cbb697-b7ea-4374-fdc0-8dcb88a4731b"
      },
      "execution_count": null,
      "outputs": [
        {
          "output_type": "stream",
          "name": "stdout",
          "text": [
            "y_train shape: (100000, 1)\n",
            "y_test shape: (10000, 1)\n"
          ]
        }
      ]
    },
    {
      "cell_type": "markdown",
      "metadata": {
        "id": "NspFb9TvEEws"
      },
      "source": [
        "## Configure the hyperparameters\n",
        "\n",
        "The hyperparameters are different from the paper. Feel free to tune\n",
        "the hyperparameters yourself."
      ]
    },
    {
      "cell_type": "code",
      "execution_count": null,
      "metadata": {
        "id": "vtUjh0vTEEwt"
      },
      "outputs": [],
      "source": [
        "# DATA\n",
        "BUFFER_SIZE = 512\n",
        "BATCH_SIZE = 256\n",
        "\n",
        "# AUGMENTATION\n",
        "IMAGE_SIZE = 72\n",
        "PATCH_SIZE = 6\n",
        "NUM_PATCHES = (IMAGE_SIZE // PATCH_SIZE) ** 2\n",
        "\n",
        "# OPTIMIZER\n",
        "LEARNING_RATE = 0.001\n",
        "WEIGHT_DECAY = 0.0001\n",
        "\n",
        "# TRAINING\n",
        "EPOCHS = 50\n",
        "\n",
        "# ARCHITECTURE\n",
        "LAYER_NORM_EPS = 1e-6\n",
        "TRANSFORMER_LAYERS = 8\n",
        "PROJECTION_DIM = 64\n",
        "NUM_HEADS = 4\n",
        "TRANSFORMER_UNITS = [\n",
        "    PROJECTION_DIM * 2,\n",
        "    PROJECTION_DIM,\n",
        "]\n",
        "MLP_HEAD_UNITS = [2048, 1024]"
      ]
    },
    {
      "cell_type": "markdown",
      "metadata": {
        "id": "qoicGlIwEEwu"
      },
      "source": [
        "## Use data augmentation\n",
        "\n",
        "A snippet from the paper:\n",
        "\n",
        "*\"According to DeiT, various techniques are required to effectively\n",
        "train ViTs. Thus, we applied data augmentations such as CutMix, Mixup,\n",
        "Auto Augment, Repeated Augment to all models.\"*\n",
        "\n",
        "In this example, we will focus solely on the novelty of the approach\n",
        "and not on reproducing the paper results. For this reason, we\n",
        "don't use the mentioned data augmentation schemes. Please feel\n",
        "free to add to or remove from the augmentation pipeline."
      ]
    },
    {
      "cell_type": "code",
      "execution_count": null,
      "metadata": {
        "id": "Ix1MggEjEEwu"
      },
      "outputs": [],
      "source": [
        "data_augmentation = keras.Sequential(\n",
        "    [\n",
        "        layers.Normalization(),\n",
        "        layers.Resizing(IMAGE_SIZE, IMAGE_SIZE),\n",
        "        layers.RandomFlip(\"horizontal\"),\n",
        "        layers.RandomRotation(factor=0.02),\n",
        "        layers.RandomZoom(height_factor=0.2, width_factor=0.2),\n",
        "    ],\n",
        "    name=\"data_augmentation\",\n",
        ")\n",
        "# Compute the mean and the variance of the training data for normalization.\n",
        "data_augmentation.layers[0].adapt(x_train)"
      ]
    },
    {
      "cell_type": "markdown",
      "metadata": {
        "id": "gPX-8QB_EEwv"
      },
      "source": [
        "## Implement Shifted Patch Tokenization\n",
        "\n",
        "In a ViT pipeline, the input images are divided into patches that are\n",
        "then linearly projected into tokens. Shifted patch tokenization (STP)\n",
        "is introduced to combat the low receptive field of ViTs. The steps\n",
        "for Shifted Patch Tokenization are as follows:\n",
        "\n",
        "- Start with an image.\n",
        "- Shift the image in diagonal directions.\n",
        "- Concat the diagonally shifted images with the original image.\n",
        "- Extract patches of the concatenated images.\n",
        "- Flatten the spatial dimension of all patches.\n",
        "- Layer normalize the flattened patches and then project it.\n",
        "\n",
        "| ![Shifted Patch Toekenization](https://i.imgur.com/bUnHxd0.png) |\n",
        "| :--: |\n",
        "| Shifted Patch Tokenization [Source](https://arxiv.org/abs/2112.13492v1) |"
      ]
    },
    {
      "cell_type": "code",
      "execution_count": null,
      "metadata": {
        "id": "8-Lbxh49EEwv"
      },
      "outputs": [],
      "source": [
        "\n",
        "class ShiftedPatchTokenization(layers.Layer):\n",
        "    def __init__(\n",
        "        self,\n",
        "        image_size=IMAGE_SIZE,\n",
        "        patch_size=PATCH_SIZE,\n",
        "        num_patches=NUM_PATCHES,\n",
        "        projection_dim=PROJECTION_DIM,\n",
        "        vanilla=False,\n",
        "        **kwargs,\n",
        "    ):\n",
        "        super().__init__(**kwargs)\n",
        "        self.vanilla = vanilla  # Flag to switch to vanilla patch extractor\n",
        "        self.image_size = image_size\n",
        "        self.patch_size = patch_size\n",
        "        self.half_patch = patch_size // 2\n",
        "        self.flatten_patches = layers.Reshape((num_patches, -1))\n",
        "        self.projection = layers.Dense(units=projection_dim)\n",
        "        self.layer_norm = layers.LayerNormalization(epsilon=LAYER_NORM_EPS)\n",
        "\n",
        "    def crop_shift_pad(self, images, mode):\n",
        "        # Build the diagonally shifted images\n",
        "        if mode == \"left-up\":\n",
        "            crop_height = self.half_patch\n",
        "            crop_width = self.half_patch\n",
        "            shift_height = 0\n",
        "            shift_width = 0\n",
        "        elif mode == \"left-down\":\n",
        "            crop_height = 0\n",
        "            crop_width = self.half_patch\n",
        "            shift_height = self.half_patch\n",
        "            shift_width = 0\n",
        "        elif mode == \"right-up\":\n",
        "            crop_height = self.half_patch\n",
        "            crop_width = 0\n",
        "            shift_height = 0\n",
        "            shift_width = self.half_patch\n",
        "        else:\n",
        "            crop_height = 0\n",
        "            crop_width = 0\n",
        "            shift_height = self.half_patch\n",
        "            shift_width = self.half_patch\n",
        "\n",
        "        # Crop the shifted images and pad them\n",
        "        crop = tf.image.crop_to_bounding_box(\n",
        "            images,\n",
        "            offset_height=crop_height,\n",
        "            offset_width=crop_width,\n",
        "            target_height=self.image_size - self.half_patch,\n",
        "            target_width=self.image_size - self.half_patch,\n",
        "        )\n",
        "        shift_pad = tf.image.pad_to_bounding_box(\n",
        "            crop,\n",
        "            offset_height=shift_height,\n",
        "            offset_width=shift_width,\n",
        "            target_height=self.image_size,\n",
        "            target_width=self.image_size,\n",
        "        )\n",
        "        return shift_pad\n",
        "\n",
        "    def call(self, images):\n",
        "        if not self.vanilla:\n",
        "            # Concat the shifted images with the original image\n",
        "            images = tf.concat(\n",
        "                [\n",
        "                    images,\n",
        "                    self.crop_shift_pad(images, mode=\"left-up\"),\n",
        "                    self.crop_shift_pad(images, mode=\"left-down\"),\n",
        "                    self.crop_shift_pad(images, mode=\"right-up\"),\n",
        "                    self.crop_shift_pad(images, mode=\"right-down\"),\n",
        "                ],\n",
        "                axis=-1,\n",
        "            )\n",
        "        # Patchify the images and flatten it\n",
        "        patches = tf.image.extract_patches(\n",
        "            images=images,\n",
        "            sizes=[1, self.patch_size, self.patch_size, 1],\n",
        "            strides=[1, self.patch_size, self.patch_size, 1],\n",
        "            rates=[1, 1, 1, 1],\n",
        "            padding=\"VALID\",\n",
        "        )\n",
        "        flat_patches = self.flatten_patches(patches)\n",
        "        if not self.vanilla:\n",
        "            # Layer normalize the flat patches and linearly project it\n",
        "            tokens = self.layer_norm(flat_patches)\n",
        "            tokens = self.projection(tokens)\n",
        "        else:\n",
        "            # Linearly project the flat patches\n",
        "            tokens = self.projection(flat_patches)\n",
        "        return (tokens, patches)\n"
      ]
    },
    {
      "cell_type": "markdown",
      "metadata": {
        "id": "77VgrmmDEEwy"
      },
      "source": [
        "### Visualize the patches"
      ]
    },
    {
      "cell_type": "code",
      "execution_count": null,
      "metadata": {
        "id": "qD9cie7DEEwy",
        "colab": {
          "base_uri": "https://localhost:8080/",
          "height": 1000
        },
        "outputId": "73d4fcf9-39f9-4974-af8c-9c01afbce810"
      },
      "outputs": [
        {
          "output_type": "display_data",
          "data": {
            "text/plain": [
              "<Figure size 400x400 with 144 Axes>"
            ],
            "image/png": "[encoded data removed]"
          },
          "metadata": {}
        },
        {
          "output_type": "stream",
          "name": "stdout",
          "text": [
            "ORIGINAL\n"
          ]
        },
        {
          "output_type": "display_data",
          "data": {
            "text/plain": [
              "<Figure size 400x400 with 144 Axes>"
            ],
            "image/png": "[encoded data removed]"
          },
          "metadata": {}
        },
        {
          "output_type": "stream",
          "name": "stdout",
          "text": [
            "LEFT-UP\n"
          ]
        },
        {
          "output_type": "display_data",
          "data": {
            "text/plain": [
              "<Figure size 400x400 with 144 Axes>"
            ],
            "image/png": "[encoded data removed]"
          },
          "metadata": {}
        },
        {
          "output_type": "stream",
          "name": "stdout",
          "text": [
            "LEFT-DOWN\n"
          ]
        },
        {
          "output_type": "display_data",
          "data": {
            "text/plain": [
              "<Figure size 400x400 with 144 Axes>"
            ],
            "image/png": "[encoded data removed]"
          },
          "metadata": {}
        },
        {
          "output_type": "stream",
          "name": "stdout",
          "text": [
            "RIGHT-UP\n"
          ]
        },
        {
          "output_type": "display_data",
          "data": {
            "text/plain": [
              "<Figure size 400x400 with 144 Axes>"
            ],
            "image/png": "[encoded data removed]"
          },
          "metadata": {}
        },
        {
          "output_type": "stream",
          "name": "stdout",
          "text": [
            "RIGHT-DOWN\n"
          ]
        },
        {
          "output_type": "display_data",
          "data": {
            "text/plain": [
              "<Figure size 400x400 with 144 Axes>"
            ],
            "image/png": "[encoded data removed]"
          },
          "metadata": {}
        }
      ],
      "source": [
        "# Get a random image from the training dataset\n",
        "# and resize the image\n",
        "image = x_train[np.random.choice(range(x_train.shape[0]))]\n",
        "resized_image = tf.image.resize(\n",
        "    tf.convert_to_tensor([image]), size=(IMAGE_SIZE, IMAGE_SIZE)\n",
        ")\n",
        "\n",
        "# Vanilla patch maker: This takes an image and divides into\n",
        "# patches as in the original ViT paper\n",
        "(token, patch) = ShiftedPatchTokenization(vanilla=True)(resized_image / 255.0)\n",
        "(token, patch) = (token[0], patch[0])\n",
        "n = patch.shape[0]\n",
        "count = 1\n",
        "plt.figure(figsize=(4, 4))\n",
        "for row in range(n):\n",
        "    for col in range(n):\n",
        "        plt.subplot(n, n, count)\n",
        "        count = count + 1\n",
        "        image = tf.reshape(patch[row][col], (PATCH_SIZE, PATCH_SIZE, 3))\n",
        "        plt.imshow(image)\n",
        "        plt.axis(\"off\")\n",
        "plt.show()\n",
        "\n",
        "# Shifted Patch Tokenization: This layer takes the image, shifts it\n",
        "# diagonally and then extracts patches from the concatinated images\n",
        "(token, patch) = ShiftedPatchTokenization(vanilla=False)(resized_image / 255.0)\n",
        "(token, patch) = (token[0], patch[0])\n",
        "n = patch.shape[0]\n",
        "shifted_images = [\"ORIGINAL\", \"LEFT-UP\", \"LEFT-DOWN\", \"RIGHT-UP\", \"RIGHT-DOWN\"]\n",
        "for index, name in enumerate(shifted_images):\n",
        "    print(name)\n",
        "    count = 1\n",
        "    plt.figure(figsize=(4, 4))\n",
        "    for row in range(n):\n",
        "        for col in range(n):\n",
        "            plt.subplot(n, n, count)\n",
        "            count = count + 1\n",
        "            image = tf.reshape(patch[row][col], (PATCH_SIZE, PATCH_SIZE, 5 * 3))\n",
        "            plt.imshow(image[..., 3 * index : 3 * index + 3])\n",
        "            plt.axis(\"off\")\n",
        "    plt.show()"
      ]
    },
    {
      "cell_type": "markdown",
      "metadata": {
        "id": "cvDJEjMoEEwz"
      },
      "source": [
        "## Implement the patch encoding layer\n",
        "\n",
        "This layer accepts projected patches and then adds positional\n",
        "information to them."
      ]
    },
    {
      "cell_type": "code",
      "execution_count": null,
      "metadata": {
        "id": "ESM8pyk3EEwz"
      },
      "outputs": [],
      "source": [
        "\n",
        "class PatchEncoder(layers.Layer):\n",
        "    def __init__(\n",
        "        self, num_patches=NUM_PATCHES, projection_dim=PROJECTION_DIM, **kwargs\n",
        "    ):\n",
        "        super().__init__(**kwargs)\n",
        "        self.num_patches = num_patches\n",
        "        self.position_embedding = layers.Embedding(\n",
        "            input_dim=num_patches, output_dim=projection_dim\n",
        "        )\n",
        "        self.positions = tf.range(start=0, limit=self.num_patches, delta=1)\n",
        "\n",
        "    def call(self, encoded_patches):\n",
        "        encoded_positions = self.position_embedding(self.positions)\n",
        "        encoded_patches = encoded_patches + encoded_positions\n",
        "        return encoded_patches\n"
      ]
    },
    {
      "cell_type": "markdown",
      "metadata": {
        "id": "jUTRzh5VEEw0"
      },
      "source": [
        "## Implement Locality Self Attention\n",
        "\n",
        "The regular attention equation is stated below.\n",
        "\n",
        "| ![Equation of attention](https://miro.medium.com/max/396/1*P9sV1xXM10t943bXy_G9yg.png) |\n",
        "| :--: |\n",
        "| [Source](https://towardsdatascience.com/attention-is-all-you-need-discovering-the-transformer-paper-73e5ff5e0634) |\n",
        "\n",
        "The attention module takes a query, key, and value. First, we compute the\n",
        "similarity between the query and key via a dot product. Then, the result\n",
        "is scaled by the square root of the key dimension. The scaling prevents\n",
        "the softmax function from having an overly small gradient. Softmax is then\n",
        "applied to the scaled dot product to produce the attention weights.\n",
        "The value is then modulated via the attention weights.\n",
        "\n",
        "In self-attention, query, key and value come from the same input.\n",
        "The dot product would result in large self-token relations rather than\n",
        "inter-token relations. This also means that the softmax gives higher\n",
        "probabilities to self-token relations than the inter-token relations.\n",
        "To combat this, the authors propose masking the diagonal of the dot product.\n",
        "This way, we force the attention module to pay more attention to the\n",
        "inter-token relations.\n",
        "\n",
        "The scaling factor is a constant in the regular attention module.\n",
        "This acts like a temperature term that can modulate the softmax function.\n",
        "The authors suggest a learnable temperature term instead of a constant.\n",
        "\n",
        "| ![Implementation of LSA](https://i.imgur.com/GTV99pk.png) |\n",
        "| :--: |\n",
        "| Locality Self Attention [Source](https://arxiv.org/abs/2112.13492v1) |\n",
        "\n",
        "The above two pointers make the Locality Self Attention. We have subclassed the\n",
        "[`layers.MultiHeadAttention`](https://www.tensorflow.org/api_docs/python/tf/keras/layers/MultiHeadAttention)\n",
        "and implemented the trainable temperature. The attention mask is built\n",
        "at a later stage."
      ]
    },
    {
      "cell_type": "code",
      "execution_count": null,
      "metadata": {
        "id": "wGl8kA7rEEw0"
      },
      "outputs": [],
      "source": [
        "\n",
        "class MultiHeadAttentionLSA(tf.keras.layers.MultiHeadAttention):\n",
        "    def __init__(self, **kwargs):\n",
        "        super().__init__(**kwargs)\n",
        "        # The trainable temperature term. The initial value is\n",
        "        # the square root of the key dimension.\n",
        "        self.tau = tf.Variable(math.sqrt(float(self._key_dim)), trainable=True)\n",
        "\n",
        "    def _compute_attention(self, query, key, value, attention_mask=None, training=None):\n",
        "        query = tf.multiply(query, 1.0 / self.tau)\n",
        "        attention_scores = tf.einsum(self._dot_product_equation, key, query)\n",
        "        attention_scores = self._masked_softmax(attention_scores, attention_mask)\n",
        "        attention_scores_dropout = self._dropout_layer(\n",
        "            attention_scores, training=training\n",
        "        )\n",
        "        attention_output = tf.einsum(\n",
        "            self._combine_equation, attention_scores_dropout, value\n",
        "        )\n",
        "        return attention_output, attention_scores\n"
      ]
    },
    {
      "cell_type": "markdown",
      "metadata": {
        "id": "VSPDusAJEEw1"
      },
      "source": [
        "## Implement the MLP"
      ]
    },
    {
      "cell_type": "code",
      "execution_count": null,
      "metadata": {
        "id": "acpYzHrZEEw1"
      },
      "outputs": [],
      "source": [
        "\n",
        "def mlp(x, hidden_units, dropout_rate):\n",
        "    for units in hidden_units:\n",
        "        x = layers.Dense(units, activation=tf.nn.gelu)(x)\n",
        "        x = layers.Dropout(dropout_rate)(x)\n",
        "    return x\n",
        "\n",
        "\n",
        "# Build the diagonal attention mask\n",
        "diag_attn_mask = 1 - tf.eye(NUM_PATCHES)\n",
        "diag_attn_mask = tf.cast([diag_attn_mask], dtype=tf.int8)"
      ]
    },
    {
      "cell_type": "markdown",
      "metadata": {
        "id": "egEHjrWMEEw2"
      },
      "source": [
        "## Build the ViT"
      ]
    },
    {
      "cell_type": "code",
      "execution_count": null,
      "metadata": {
        "id": "2r6OnFnmEEw2"
      },
      "outputs": [],
      "source": [
        "\n",
        "def create_vit_classifier(vanilla=False):\n",
        "    inputs = layers.Input(shape=INPUT_SHAPE)\n",
        "    # Augment data.\n",
        "    augmented = data_augmentation(inputs)\n",
        "    # Create patches.\n",
        "    (tokens, _) = ShiftedPatchTokenization(vanilla=vanilla)(augmented)\n",
        "    # Encode patches.\n",
        "    encoded_patches = PatchEncoder()(tokens)\n",
        "\n",
        "    # Create multiple layers of the Transformer block.\n",
        "    for _ in range(TRANSFORMER_LAYERS):\n",
        "        # Layer normalization 1.\n",
        "        x1 = layers.LayerNormalization(epsilon=1e-6)(encoded_patches)\n",
        "        # Create a multi-head attention layer.\n",
        "        if not vanilla:\n",
        "            attention_output = MultiHeadAttentionLSA(\n",
        "                num_heads=NUM_HEADS, key_dim=PROJECTION_DIM, dropout=0.1\n",
        "            )(x1, x1, attention_mask=diag_attn_mask)\n",
        "        else:\n",
        "            attention_output = layers.MultiHeadAttention(\n",
        "                num_heads=NUM_HEADS, key_dim=PROJECTION_DIM, dropout=0.1\n",
        "            )(x1, x1)\n",
        "        # Skip connection 1.\n",
        "        x2 = layers.Add()([attention_output, encoded_patches])\n",
        "        # Layer normalization 2.\n",
        "        x3 = layers.LayerNormalization(epsilon=1e-6)(x2)\n",
        "        # MLP.\n",
        "        x3 = mlp(x3, hidden_units=TRANSFORMER_UNITS, dropout_rate=0.1)\n",
        "        # Skip connection 2.\n",
        "        encoded_patches = layers.Add()([x3, x2])\n",
        "\n",
        "    # Create a [batch_size, projection_dim] tensor.\n",
        "    representation = layers.LayerNormalization(epsilon=1e-6)(encoded_patches)\n",
        "    representation = layers.Flatten()(representation)\n",
        "    representation = layers.Dropout(0.5)(representation)\n",
        "    # Add MLP.\n",
        "    features = mlp(representation, hidden_units=MLP_HEAD_UNITS, dropout_rate=0.5)\n",
        "    # Classify outputs.\n",
        "    logits = layers.Dense(NUM_CLASSES)(features)\n",
        "    # Create the Keras model.\n",
        "    model = keras.Model(inputs=inputs, outputs=logits)\n",
        "    return model\n"
      ]
    },
    {
      "cell_type": "markdown",
      "metadata": {
        "id": "bJNBeLMBEEw3"
      },
      "source": [
        "## Compile, train, and evaluate the mode"
      ]
    },
    {
      "cell_type": "code",
      "execution_count": null,
      "metadata": {
        "id": "PHKROp3AEEw3",
        "colab": {
          "base_uri": "https://localhost:8080/"
        },
        "outputId": "f4fef1d9-5ad0-43bc-b1c1-30a35d0de510"
      },
      "outputs": [
        {
          "output_type": "stream",
          "name": "stdout",
          "text": [
            "Epoch 1/50\n",
            "352/352 [==============================] - 95s 237ms/step - loss: 5.2553 - accuracy: 0.0114 - top-5-accuracy: 0.0480 - val_loss: 9.5931 - val_accuracy: 0.0000e+00 - val_top-5-accuracy: 0.0000e+00\n",
            "Epoch 2/50\n",
            "352/352 [==============================] - 82s 232ms/step - loss: 4.9416 - accuracy: 0.0234 - top-5-accuracy: 0.0952 - val_loss: 12.8691 - val_accuracy: 0.0000e+00 - val_top-5-accuracy: 0.0000e+00\n",
            "Epoch 3/50\n",
            "352/352 [==============================] - 82s 232ms/step - loss: 4.7560 - accuracy: 0.0392 - top-5-accuracy: 0.1401 - val_loss: 14.9363 - val_accuracy: 0.0000e+00 - val_top-5-accuracy: 0.0000e+00\n",
            "Epoch 4/50\n",
            "352/352 [==============================] - 82s 232ms/step - loss: 4.5919 - accuracy: 0.0539 - top-5-accuracy: 0.1841 - val_loss: 16.1226 - val_accuracy: 0.0000e+00 - val_top-5-accuracy: 0.0000e+00\n",
            "Epoch 5/50\n",
            "352/352 [==============================] - 82s 232ms/step - loss: 4.4804 - accuracy: 0.0704 - top-5-accuracy: 0.2186 - val_loss: 14.9060 - val_accuracy: 0.0000e+00 - val_top-5-accuracy: 0.0000e+00\n",
            "Epoch 6/50\n",
            "352/352 [==============================] - 82s 232ms/step - loss: 4.5434 - accuracy: 0.0673 - top-5-accuracy: 0.2081 - val_loss: 14.1219 - val_accuracy: 0.0000e+00 - val_top-5-accuracy: 0.0000e+00\n",
            "Epoch 7/50\n",
            "352/352 [==============================] - 82s 232ms/step - loss: 4.3834 - accuracy: 0.0866 - top-5-accuracy: 0.2514 - val_loss: 15.4614 - val_accuracy: 0.0000e+00 - val_top-5-accuracy: 0.0000e+00\n",
            "Epoch 8/50\n",
            "352/352 [==============================] - 82s 232ms/step - loss: 4.1984 - accuracy: 0.1094 - top-5-accuracy: 0.2955 - val_loss: 15.5782 - val_accuracy: 0.0000e+00 - val_top-5-accuracy: 0.0000e+00\n",
            "Epoch 9/50\n",
            "352/352 [==============================] - 81s 231ms/step - loss: 3.9832 - accuracy: 0.1389 - top-5-accuracy: 0.3485 - val_loss: 15.9146 - val_accuracy: 0.0000e+00 - val_top-5-accuracy: 0.0000e+00\n",
            "Epoch 10/50\n",
            "352/352 [==============================] - 82s 232ms/step - loss: 3.8443 - accuracy: 0.1603 - top-5-accuracy: 0.3815 - val_loss: 15.0059 - val_accuracy: 0.0000e+00 - val_top-5-accuracy: 0.0000e+00\n",
            "Epoch 11/50\n",
            "352/352 [==============================] - 81s 231ms/step - loss: 3.7332 - accuracy: 0.1766 - top-5-accuracy: 0.4110 - val_loss: 15.5997 - val_accuracy: 0.0000e+00 - val_top-5-accuracy: 0.0000e+00\n",
            "Epoch 12/50\n",
            "352/352 [==============================] - 82s 232ms/step - loss: 3.6316 - accuracy: 0.1937 - top-5-accuracy: 0.4335 - val_loss: 15.1976 - val_accuracy: 0.0000e+00 - val_top-5-accuracy: 0.0000e+00\n",
            "Epoch 13/50\n",
            "352/352 [==============================] - 82s 232ms/step - loss: 3.5445 - accuracy: 0.2067 - top-5-accuracy: 0.4542 - val_loss: 15.6653 - val_accuracy: 0.0000e+00 - val_top-5-accuracy: 0.0000e+00\n",
            "Epoch 14/50\n",
            "352/352 [==============================] - 82s 232ms/step - loss: 3.4667 - accuracy: 0.2190 - top-5-accuracy: 0.4703 - val_loss: 15.6108 - val_accuracy: 0.0000e+00 - val_top-5-accuracy: 0.0000e+00\n",
            "Epoch 15/50\n",
            "352/352 [==============================] - 82s 232ms/step - loss: 3.4075 - accuracy: 0.2307 - top-5-accuracy: 0.4849 - val_loss: 15.6558 - val_accuracy: 0.0000e+00 - val_top-5-accuracy: 0.0000e+00\n",
            "Epoch 16/50\n",
            "352/352 [==============================] - 82s 232ms/step - loss: 3.3345 - accuracy: 0.2420 - top-5-accuracy: 0.5038 - val_loss: 16.3794 - val_accuracy: 0.0000e+00 - val_top-5-accuracy: 0.0000e+00\n",
            "Epoch 17/50\n",
            "352/352 [==============================] - 82s 232ms/step - loss: 3.2806 - accuracy: 0.2533 - top-5-accuracy: 0.5127 - val_loss: 15.9943 - val_accuracy: 0.0000e+00 - val_top-5-accuracy: 0.0000e+00\n",
            "Epoch 18/50\n",
            "352/352 [==============================] - 82s 232ms/step - loss: 3.2215 - accuracy: 0.2622 - top-5-accuracy: 0.5282 - val_loss: 15.8354 - val_accuracy: 0.0000e+00 - val_top-5-accuracy: 0.0000e+00\n",
            "Epoch 19/50\n",
            "352/352 [==============================] - 82s 232ms/step - loss: 3.1711 - accuracy: 0.2699 - top-5-accuracy: 0.5393 - val_loss: 16.4984 - val_accuracy: 0.0000e+00 - val_top-5-accuracy: 0.0000e+00\n",
            "Epoch 20/50\n",
            "352/352 [==============================] - 82s 232ms/step - loss: 3.1141 - accuracy: 0.2812 - top-5-accuracy: 0.5496 - val_loss: 16.7009 - val_accuracy: 0.0000e+00 - val_top-5-accuracy: 0.0000e+00\n",
            "Epoch 21/50\n",
            "352/352 [==============================] - 81s 231ms/step - loss: 3.0649 - accuracy: 0.2889 - top-5-accuracy: 0.5620 - val_loss: 16.2859 - val_accuracy: 0.0000e+00 - val_top-5-accuracy: 0.0000e+00\n",
            "Epoch 22/50\n",
            "352/352 [==============================] - 81s 231ms/step - loss: 3.0213 - accuracy: 0.2992 - top-5-accuracy: 0.5699 - val_loss: 16.9633 - val_accuracy: 0.0000e+00 - val_top-5-accuracy: 0.0000e+00\n",
            "Epoch 23/50\n",
            "352/352 [==============================] - 82s 233ms/step - loss: 2.9775 - accuracy: 0.3053 - top-5-accuracy: 0.5792 - val_loss: 17.0370 - val_accuracy: 0.0000e+00 - val_top-5-accuracy: 0.0000e+00\n",
            "Epoch 24/50\n",
            "352/352 [==============================] - 82s 232ms/step - loss: 2.9323 - accuracy: 0.3137 - top-5-accuracy: 0.5893 - val_loss: 17.7158 - val_accuracy: 0.0000e+00 - val_top-5-accuracy: 0.0000e+00\n",
            "Epoch 25/50\n",
            "352/352 [==============================] - 82s 233ms/step - loss: 2.8945 - accuracy: 0.3182 - top-5-accuracy: 0.5959 - val_loss: 16.7770 - val_accuracy: 0.0000e+00 - val_top-5-accuracy: 0.0000e+00\n",
            "Epoch 26/50\n",
            "352/352 [==============================] - 82s 233ms/step - loss: 2.8559 - accuracy: 0.3285 - top-5-accuracy: 0.6050 - val_loss: 18.0785 - val_accuracy: 0.0000e+00 - val_top-5-accuracy: 0.0000e+00\n",
            "Epoch 27/50\n",
            "352/352 [==============================] - 82s 232ms/step - loss: 2.8248 - accuracy: 0.3319 - top-5-accuracy: 0.6121 - val_loss: 17.7675 - val_accuracy: 0.0000e+00 - val_top-5-accuracy: 0.0000e+00\n",
            "Epoch 28/50\n",
            "352/352 [==============================] - 81s 231ms/step - loss: 2.7776 - accuracy: 0.3424 - top-5-accuracy: 0.6190 - val_loss: 18.3590 - val_accuracy: 0.0000e+00 - val_top-5-accuracy: 0.0000e+00\n",
            "Epoch 29/50\n",
            "352/352 [==============================] - 82s 232ms/step - loss: 2.7486 - accuracy: 0.3450 - top-5-accuracy: 0.6263 - val_loss: 18.3261 - val_accuracy: 0.0000e+00 - val_top-5-accuracy: 0.0000e+00\n",
            "Epoch 30/50\n",
            "352/352 [==============================] - 81s 232ms/step - loss: 2.7144 - accuracy: 0.3532 - top-5-accuracy: 0.6332 - val_loss: 18.4344 - val_accuracy: 0.0000e+00 - val_top-5-accuracy: 0.0000e+00\n",
            "Epoch 31/50\n",
            "352/352 [==============================] - 82s 233ms/step - loss: 2.6898 - accuracy: 0.3563 - top-5-accuracy: 0.6406 - val_loss: 18.4205 - val_accuracy: 0.0000e+00 - val_top-5-accuracy: 0.0000e+00\n",
            "Epoch 32/50\n",
            "352/352 [==============================] - 82s 232ms/step - loss: 2.6633 - accuracy: 0.3620 - top-5-accuracy: 0.6450 - val_loss: 18.5574 - val_accuracy: 0.0000e+00 - val_top-5-accuracy: 0.0000e+00\n",
            "Epoch 33/50\n",
            "352/352 [==============================] - 82s 232ms/step - loss: 2.6351 - accuracy: 0.3667 - top-5-accuracy: 0.6506 - val_loss: 17.9681 - val_accuracy: 0.0000e+00 - val_top-5-accuracy: 0.0000e+00\n",
            "Epoch 34/50\n",
            "352/352 [==============================] - 82s 232ms/step - loss: 2.6157 - accuracy: 0.3729 - top-5-accuracy: 0.6525 - val_loss: 18.4125 - val_accuracy: 0.0000e+00 - val_top-5-accuracy: 0.0000e+00\n",
            "Epoch 35/50\n",
            "352/352 [==============================] - 82s 232ms/step - loss: 2.5807 - accuracy: 0.3781 - top-5-accuracy: 0.6609 - val_loss: 19.4191 - val_accuracy: 0.0000e+00 - val_top-5-accuracy: 0.0000e+00\n",
            "Epoch 36/50\n",
            "352/352 [==============================] - 82s 232ms/step - loss: 2.5613 - accuracy: 0.3816 - top-5-accuracy: 0.6655 - val_loss: 18.9610 - val_accuracy: 0.0000e+00 - val_top-5-accuracy: 0.0000e+00\n",
            "Epoch 37/50\n",
            "352/352 [==============================] - 81s 231ms/step - loss: 2.5325 - accuracy: 0.3869 - top-5-accuracy: 0.6690 - val_loss: 19.6020 - val_accuracy: 0.0000e+00 - val_top-5-accuracy: 0.0000e+00\n",
            "Epoch 38/50\n",
            "352/352 [==============================] - 81s 231ms/step - loss: 2.5150 - accuracy: 0.3916 - top-5-accuracy: 0.6761 - val_loss: 19.7989 - val_accuracy: 0.0000e+00 - val_top-5-accuracy: 0.0000e+00\n",
            "Epoch 39/50\n",
            "352/352 [==============================] - 81s 231ms/step - loss: 2.4923 - accuracy: 0.3927 - top-5-accuracy: 0.6783 - val_loss: 19.9700 - val_accuracy: 0.0000e+00 - val_top-5-accuracy: 0.0000e+00\n",
            "Epoch 40/50\n",
            "352/352 [==============================] - 82s 232ms/step - loss: 2.4704 - accuracy: 0.3978 - top-5-accuracy: 0.6813 - val_loss: 19.6754 - val_accuracy: 0.0000e+00 - val_top-5-accuracy: 0.0000e+00\n",
            "Epoch 41/50\n",
            "352/352 [==============================] - 82s 232ms/step - loss: 2.4524 - accuracy: 0.4017 - top-5-accuracy: 0.6875 - val_loss: 20.0797 - val_accuracy: 0.0000e+00 - val_top-5-accuracy: 0.0000e+00\n",
            "Epoch 42/50\n",
            "352/352 [==============================] - 82s 232ms/step - loss: 2.4329 - accuracy: 0.4039 - top-5-accuracy: 0.6909 - val_loss: 19.5800 - val_accuracy: 0.0000e+00 - val_top-5-accuracy: 0.0000e+00\n",
            "Epoch 43/50\n",
            "352/352 [==============================] - 82s 232ms/step - loss: 2.4217 - accuracy: 0.4074 - top-5-accuracy: 0.6930 - val_loss: 19.9577 - val_accuracy: 0.0000e+00 - val_top-5-accuracy: 0.0000e+00\n",
            "Epoch 44/50\n",
            "352/352 [==============================] - 82s 232ms/step - loss: 2.3996 - accuracy: 0.4122 - top-5-accuracy: 0.6969 - val_loss: 20.2418 - val_accuracy: 0.0000e+00 - val_top-5-accuracy: 0.0000e+00\n",
            "Epoch 45/50\n",
            "352/352 [==============================] - 82s 232ms/step - loss: 2.3857 - accuracy: 0.4138 - top-5-accuracy: 0.6998 - val_loss: 20.3418 - val_accuracy: 0.0000e+00 - val_top-5-accuracy: 0.0000e+00\n",
            "Epoch 46/50\n",
            "352/352 [==============================] - 82s 232ms/step - loss: 2.3709 - accuracy: 0.4188 - top-5-accuracy: 0.7024 - val_loss: 19.7838 - val_accuracy: 0.0000e+00 - val_top-5-accuracy: 0.0000e+00\n",
            "Epoch 47/50\n",
            "352/352 [==============================] - 82s 232ms/step - loss: 2.3510 - accuracy: 0.4208 - top-5-accuracy: 0.7059 - val_loss: 20.0695 - val_accuracy: 0.0000e+00 - val_top-5-accuracy: 0.0000e+00\n",
            "Epoch 48/50\n",
            "352/352 [==============================] - 82s 232ms/step - loss: 2.3305 - accuracy: 0.4243 - top-5-accuracy: 0.7104 - val_loss: 20.1901 - val_accuracy: 0.0000e+00 - val_top-5-accuracy: 0.0000e+00\n",
            "Epoch 49/50\n",
            "352/352 [==============================] - 82s 232ms/step - loss: 2.3147 - accuracy: 0.4292 - top-5-accuracy: 0.7139 - val_loss: 20.3925 - val_accuracy: 0.0000e+00 - val_top-5-accuracy: 0.0000e+00\n",
            "Epoch 50/50\n",
            "352/352 [==============================] - 82s 232ms/step - loss: 2.3041 - accuracy: 0.4320 - top-5-accuracy: 0.7166 - val_loss: 20.3611 - val_accuracy: 0.0000e+00 - val_top-5-accuracy: 0.0000e+00\n",
            "40/40 [==============================] - 3s 74ms/step - loss: 4.5060 - accuracy: 0.3241 - top-5-accuracy: 0.5590\n",
            "Test accuracy: 32.41%\n",
            "Test top 5 accuracy: 55.9%\n",
            "Epoch 1/50\n",
            "352/352 [==============================] - 100s 250ms/step - loss: 5.1922 - accuracy: 0.0151 - top-5-accuracy: 0.0647 - val_loss: 10.8494 - val_accuracy: 0.0000e+00 - val_top-5-accuracy: 0.0000e+00\n",
            "Epoch 2/50\n",
            "352/352 [==============================] - 87s 246ms/step - loss: 4.8212 - accuracy: 0.0333 - top-5-accuracy: 0.1280 - val_loss: 13.0943 - val_accuracy: 0.0000e+00 - val_top-5-accuracy: 0.0000e+00\n",
            "Epoch 3/50\n",
            "352/352 [==============================] - 86s 246ms/step - loss: 4.6333 - accuracy: 0.0481 - top-5-accuracy: 0.1708 - val_loss: 16.3387 - val_accuracy: 0.0000e+00 - val_top-5-accuracy: 0.0000e+00\n",
            "Epoch 4/50\n",
            "352/352 [==============================] - 86s 246ms/step - loss: 4.4814 - accuracy: 0.0644 - top-5-accuracy: 0.2127 - val_loss: 17.0898 - val_accuracy: 0.0000e+00 - val_top-5-accuracy: 0.0000e+00\n",
            "Epoch 5/50\n",
            "352/352 [==============================] - 86s 246ms/step - loss: 4.3339 - accuracy: 0.0804 - top-5-accuracy: 0.2494 - val_loss: 17.2834 - val_accuracy: 0.0000e+00 - val_top-5-accuracy: 0.0000e+00\n",
            "Epoch 6/50\n",
            "352/352 [==============================] - 86s 245ms/step - loss: 4.1902 - accuracy: 0.1004 - top-5-accuracy: 0.2894 - val_loss: 17.9892 - val_accuracy: 0.0000e+00 - val_top-5-accuracy: 0.0000e+00\n",
            "Epoch 7/50\n",
            "352/352 [==============================] - 86s 245ms/step - loss: 4.0284 - accuracy: 0.1236 - top-5-accuracy: 0.3341 - val_loss: 16.9708 - val_accuracy: 0.0000e+00 - val_top-5-accuracy: 0.0000e+00\n",
            "Epoch 8/50\n",
            "352/352 [==============================] - 86s 245ms/step - loss: 3.8738 - accuracy: 0.1451 - top-5-accuracy: 0.3708 - val_loss: 16.3855 - val_accuracy: 0.0000e+00 - val_top-5-accuracy: 0.0000e+00\n",
            "Epoch 9/50\n",
            "352/352 [==============================] - 86s 245ms/step - loss: 3.7309 - accuracy: 0.1703 - top-5-accuracy: 0.4074 - val_loss: 16.1660 - val_accuracy: 0.0000e+00 - val_top-5-accuracy: 0.0000e+00\n",
            "Epoch 10/50\n",
            "352/352 [==============================] - 86s 245ms/step - loss: 3.6118 - accuracy: 0.1882 - top-5-accuracy: 0.4365 - val_loss: 15.9661 - val_accuracy: 0.0000e+00 - val_top-5-accuracy: 0.0000e+00\n",
            "Epoch 11/50\n",
            "352/352 [==============================] - 86s 246ms/step - loss: 3.5033 - accuracy: 0.2065 - top-5-accuracy: 0.4638 - val_loss: 16.3626 - val_accuracy: 0.0000e+00 - val_top-5-accuracy: 0.0000e+00\n",
            "Epoch 12/50\n",
            "352/352 [==============================] - 86s 245ms/step - loss: 3.4132 - accuracy: 0.2246 - top-5-accuracy: 0.4836 - val_loss: 16.3946 - val_accuracy: 0.0000e+00 - val_top-5-accuracy: 0.0000e+00\n",
            "Epoch 13/50\n",
            "352/352 [==============================] - 86s 246ms/step - loss: 3.3300 - accuracy: 0.2389 - top-5-accuracy: 0.5015 - val_loss: 16.6587 - val_accuracy: 0.0000e+00 - val_top-5-accuracy: 0.0000e+00\n",
            "Epoch 14/50\n",
            "352/352 [==============================] - 86s 246ms/step - loss: 3.2579 - accuracy: 0.2498 - top-5-accuracy: 0.5202 - val_loss: 15.9885 - val_accuracy: 0.0000e+00 - val_top-5-accuracy: 0.0000e+00\n",
            "Epoch 15/50\n",
            "352/352 [==============================] - 87s 246ms/step - loss: 3.1960 - accuracy: 0.2614 - top-5-accuracy: 0.5341 - val_loss: 17.0653 - val_accuracy: 0.0000e+00 - val_top-5-accuracy: 0.0000e+00\n",
            "Epoch 16/50\n",
            "352/352 [==============================] - 87s 246ms/step - loss: 3.1328 - accuracy: 0.2768 - top-5-accuracy: 0.5457 - val_loss: 16.8378 - val_accuracy: 0.0000e+00 - val_top-5-accuracy: 0.0000e+00\n",
            "Epoch 17/50\n",
            "352/352 [==============================] - 87s 246ms/step - loss: 3.0813 - accuracy: 0.2818 - top-5-accuracy: 0.5584 - val_loss: 15.8288 - val_accuracy: 0.0000e+00 - val_top-5-accuracy: 0.0000e+00\n",
            "Epoch 18/50\n",
            "352/352 [==============================] - 87s 246ms/step - loss: 3.0289 - accuracy: 0.2918 - top-5-accuracy: 0.5687 - val_loss: 16.7104 - val_accuracy: 0.0000e+00 - val_top-5-accuracy: 0.0000e+00\n",
            "Epoch 19/50\n",
            "352/352 [==============================] - 86s 246ms/step - loss: 2.9933 - accuracy: 0.2996 - top-5-accuracy: 0.5758 - val_loss: 17.0794 - val_accuracy: 0.0000e+00 - val_top-5-accuracy: 0.0000e+00\n",
            "Epoch 20/50\n",
            "352/352 [==============================] - 86s 246ms/step - loss: 2.9505 - accuracy: 0.3071 - top-5-accuracy: 0.5847 - val_loss: 17.2569 - val_accuracy: 0.0000e+00 - val_top-5-accuracy: 0.0000e+00\n",
            "Epoch 21/50\n",
            "352/352 [==============================] - 86s 245ms/step - loss: 2.9084 - accuracy: 0.3151 - top-5-accuracy: 0.5948 - val_loss: 16.5345 - val_accuracy: 0.0000e+00 - val_top-5-accuracy: 0.0000e+00\n",
            "Epoch 22/50\n",
            "352/352 [==============================] - 86s 245ms/step - loss: 2.8675 - accuracy: 0.3223 - top-5-accuracy: 0.6009 - val_loss: 17.0428 - val_accuracy: 0.0000e+00 - val_top-5-accuracy: 0.0000e+00\n",
            "Epoch 23/50\n",
            "352/352 [==============================] - 86s 245ms/step - loss: 2.8328 - accuracy: 0.3300 - top-5-accuracy: 0.6100 - val_loss: 17.3066 - val_accuracy: 0.0000e+00 - val_top-5-accuracy: 0.0000e+00\n",
            "Epoch 24/50\n",
            "352/352 [==============================] - 86s 245ms/step - loss: 2.7897 - accuracy: 0.3384 - top-5-accuracy: 0.6184 - val_loss: 17.5043 - val_accuracy: 0.0000e+00 - val_top-5-accuracy: 0.0000e+00\n",
            "Epoch 25/50\n",
            "352/352 [==============================] - 86s 245ms/step - loss: 2.7606 - accuracy: 0.3435 - top-5-accuracy: 0.6239 - val_loss: 17.7892 - val_accuracy: 0.0000e+00 - val_top-5-accuracy: 0.0000e+00\n",
            "Epoch 26/50\n",
            "352/352 [==============================] - 86s 245ms/step - loss: 2.7292 - accuracy: 0.3490 - top-5-accuracy: 0.6294 - val_loss: 17.7822 - val_accuracy: 0.0000e+00 - val_top-5-accuracy: 0.0000e+00\n",
            "Epoch 27/50\n",
            "352/352 [==============================] - 86s 245ms/step - loss: 2.6990 - accuracy: 0.3548 - top-5-accuracy: 0.6355 - val_loss: 18.1544 - val_accuracy: 0.0000e+00 - val_top-5-accuracy: 0.0000e+00\n",
            "Epoch 28/50\n",
            "352/352 [==============================] - 86s 245ms/step - loss: 2.6618 - accuracy: 0.3625 - top-5-accuracy: 0.6438 - val_loss: 18.0031 - val_accuracy: 0.0000e+00 - val_top-5-accuracy: 0.0000e+00\n",
            "Epoch 29/50\n",
            "352/352 [==============================] - 86s 245ms/step - loss: 2.6364 - accuracy: 0.3676 - top-5-accuracy: 0.6502 - val_loss: 18.5938 - val_accuracy: 0.0000e+00 - val_top-5-accuracy: 0.0000e+00\n",
            "Epoch 30/50\n",
            "352/352 [==============================] - 86s 245ms/step - loss: 2.6119 - accuracy: 0.3709 - top-5-accuracy: 0.6557 - val_loss: 18.8974 - val_accuracy: 0.0000e+00 - val_top-5-accuracy: 0.0000e+00\n",
            "Epoch 31/50\n",
            "352/352 [==============================] - 86s 245ms/step - loss: 2.5844 - accuracy: 0.3783 - top-5-accuracy: 0.6603 - val_loss: 18.8491 - val_accuracy: 0.0000e+00 - val_top-5-accuracy: 0.0000e+00\n",
            "Epoch 32/50\n",
            "352/352 [==============================] - 86s 245ms/step - loss: 2.5616 - accuracy: 0.3813 - top-5-accuracy: 0.6639 - val_loss: 18.7861 - val_accuracy: 0.0000e+00 - val_top-5-accuracy: 0.0000e+00\n",
            "Epoch 33/50\n",
            "352/352 [==============================] - 86s 245ms/step - loss: 2.5443 - accuracy: 0.3849 - top-5-accuracy: 0.6684 - val_loss: 19.1680 - val_accuracy: 0.0000e+00 - val_top-5-accuracy: 0.0000e+00\n",
            "Epoch 34/50\n",
            "352/352 [==============================] - 86s 245ms/step - loss: 2.5204 - accuracy: 0.3903 - top-5-accuracy: 0.6734 - val_loss: 18.7118 - val_accuracy: 0.0000e+00 - val_top-5-accuracy: 0.0000e+00\n",
            "Epoch 35/50\n",
            "352/352 [==============================] - 86s 245ms/step - loss: 2.4948 - accuracy: 0.3949 - top-5-accuracy: 0.6772 - val_loss: 19.6372 - val_accuracy: 0.0000e+00 - val_top-5-accuracy: 0.0000e+00\n",
            "Epoch 36/50\n",
            "204/352 [================>.............] - ETA: 35s - loss: 2.4410 - accuracy: 0.4064 - top-5-accuracy: 0.6868"
          ]
        }
      ],
      "source": [
        "# Some code is taken from:\n",
        "# https://www.kaggle.com/ashusma/training-rfcx-tensorflow-tpu-effnet-b2.\n",
        "class WarmUpCosine(keras.optimizers.schedules.LearningRateSchedule):\n",
        "    def __init__(\n",
        "        self, learning_rate_base, total_steps, warmup_learning_rate, warmup_steps\n",
        "    ):\n",
        "        super().__init__()\n",
        "\n",
        "        self.learning_rate_base = learning_rate_base\n",
        "        self.total_steps = total_steps\n",
        "        self.warmup_learning_rate = warmup_learning_rate\n",
        "        self.warmup_steps = warmup_steps\n",
        "        self.pi = tf.constant(np.pi)\n",
        "\n",
        "    def __call__(self, step):\n",
        "        if self.total_steps < self.warmup_steps:\n",
        "            raise ValueError(\"Total_steps must be larger or equal to warmup_steps.\")\n",
        "\n",
        "        cos_annealed_lr = tf.cos(\n",
        "            self.pi\n",
        "            * (tf.cast(step, tf.float32) - self.warmup_steps)\n",
        "            / float(self.total_steps - self.warmup_steps)\n",
        "        )\n",
        "        learning_rate = 0.5 * self.learning_rate_base * (1 + cos_annealed_lr)\n",
        "\n",
        "        if self.warmup_steps > 0:\n",
        "            if self.learning_rate_base < self.warmup_learning_rate:\n",
        "                raise ValueError(\n",
        "                    \"Learning_rate_base must be larger or equal to \"\n",
        "                    \"warmup_learning_rate.\"\n",
        "                )\n",
        "            slope = (\n",
        "                self.learning_rate_base - self.warmup_learning_rate\n",
        "            ) / self.warmup_steps\n",
        "            warmup_rate = slope * tf.cast(step, tf.float32) + self.warmup_learning_rate\n",
        "            learning_rate = tf.where(\n",
        "                step < self.warmup_steps, warmup_rate, learning_rate\n",
        "            )\n",
        "        return tf.where(\n",
        "            step > self.total_steps, 0.0, learning_rate, name=\"learning_rate\"\n",
        "        )\n",
        "\n",
        "\n",
        "def run_experiment(model):\n",
        "    total_steps = int((len(x_train) / BATCH_SIZE) * EPOCHS)\n",
        "    warmup_epoch_percentage = 0.10\n",
        "    warmup_steps = int(total_steps * warmup_epoch_percentage)\n",
        "    scheduled_lrs = WarmUpCosine(\n",
        "        learning_rate_base=LEARNING_RATE,\n",
        "        total_steps=total_steps,\n",
        "        warmup_learning_rate=0.0,\n",
        "        warmup_steps=warmup_steps,\n",
        "    )\n",
        "\n",
        "    optimizer = tfa.optimizers.AdamW(\n",
        "        learning_rate=LEARNING_RATE, weight_decay=WEIGHT_DECAY\n",
        "    )\n",
        "\n",
        "    model.compile(\n",
        "        optimizer=optimizer,\n",
        "        loss=keras.losses.SparseCategoricalCrossentropy(from_logits=True),\n",
        "        metrics=[\n",
        "            keras.metrics.SparseCategoricalAccuracy(name=\"accuracy\"),\n",
        "            keras.metrics.SparseTopKCategoricalAccuracy(5, name=\"top-5-accuracy\"),\n",
        "        ],\n",
        "    )\n",
        "\n",
        "    history = model.fit(\n",
        "        x=x_train,\n",
        "        y=y_train,\n",
        "        batch_size=BATCH_SIZE,\n",
        "        epochs=EPOCHS,\n",
        "        validation_split=0.1,\n",
        "    )\n",
        "    _, accuracy, top_5_accuracy = model.evaluate(x_test, y_test, batch_size=BATCH_SIZE)\n",
        "    print(f\"Test accuracy: {round(accuracy * 100, 2)}%\")\n",
        "    print(f\"Test top 5 accuracy: {round(top_5_accuracy * 100, 2)}%\")\n",
        "\n",
        "    return history\n",
        "\n",
        "\n",
        "# Run experiments with the vanilla ViT\n",
        "vit = create_vit_classifier(vanilla=True)\n",
        "history = run_experiment(vit)\n",
        "\n",
        "# Run experiments with the Shifted Patch Tokenization and\n",
        "# Locality Self Attention modified ViT\n",
        "vit_sl = create_vit_classifier(vanilla=False)\n",
        "history = run_experiment(vit_sl)"
      ]
    },
    {
      "cell_type": "code",
      "execution_count": null,
      "metadata": {
        "colab": {
          "base_uri": "https://localhost:8080/"
        },
        "outputId": "6e32713d-4f4f-49c4-e483-2dfc7464375e",
        "id": "K75FMeHu_WpZ"
      },
      "outputs": [
        {
          "output_type": "stream",
          "name": "stdout",
          "text": [
            "Epoch 1/50\n",
            "352/352 [==============================] - 45s 87ms/step - loss: 5.1352 - accuracy: 0.0189 - top-5-accuracy: 0.0762 - val_loss: 11.0034 - val_accuracy: 0.0000e+00 - val_top-5-accuracy: 0.0000e+00\n",
            "Epoch 2/50\n",
            "352/352 [==============================] - 29s 82ms/step - loss: 4.7773 - accuracy: 0.0390 - top-5-accuracy: 0.1421 - val_loss: 13.5324 - val_accuracy: 0.0000e+00 - val_top-5-accuracy: 0.0000e+00\n",
            "Epoch 3/50\n",
            "352/352 [==============================] - 29s 82ms/step - loss: 4.6037 - accuracy: 0.0557 - top-5-accuracy: 0.1863 - val_loss: 14.0018 - val_accuracy: 0.0000e+00 - val_top-5-accuracy: 0.0000e+00\n",
            "Epoch 4/50\n",
            "352/352 [==============================] - 29s 82ms/step - loss: 4.4497 - accuracy: 0.0716 - top-5-accuracy: 0.2256 - val_loss: 16.3356 - val_accuracy: 0.0000e+00 - val_top-5-accuracy: 0.0000e+00\n",
            "Epoch 5/50\n",
            "352/352 [==============================] - 29s 82ms/step - loss: 4.3076 - accuracy: 0.0884 - top-5-accuracy: 0.2621 - val_loss: 16.4990 - val_accuracy: 0.0000e+00 - val_top-5-accuracy: 0.0000e+00\n",
            "Epoch 6/50\n",
            "352/352 [==============================] - 29s 82ms/step - loss: 4.1657 - accuracy: 0.1076 - top-5-accuracy: 0.2982 - val_loss: 17.0312 - val_accuracy: 0.0000e+00 - val_top-5-accuracy: 0.0000e+00\n",
            "Epoch 7/50\n",
            "352/352 [==============================] - 29s 82ms/step - loss: 4.0263 - accuracy: 0.1269 - top-5-accuracy: 0.3351 - val_loss: 16.6926 - val_accuracy: 0.0000e+00 - val_top-5-accuracy: 0.0000e+00\n",
            "Epoch 8/50\n",
            "352/352 [==============================] - 29s 82ms/step - loss: 3.8945 - accuracy: 0.1474 - top-5-accuracy: 0.3670 - val_loss: 15.9537 - val_accuracy: 0.0000e+00 - val_top-5-accuracy: 0.0000e+00\n",
            "Epoch 9/50\n",
            "352/352 [==============================] - 29s 82ms/step - loss: 3.7609 - accuracy: 0.1668 - top-5-accuracy: 0.4014 - val_loss: 15.7353 - val_accuracy: 0.0000e+00 - val_top-5-accuracy: 0.0000e+00\n",
            "Epoch 10/50\n",
            "352/352 [==============================] - 29s 82ms/step - loss: 3.6400 - accuracy: 0.1870 - top-5-accuracy: 0.4318 - val_loss: 15.9546 - val_accuracy: 0.0000e+00 - val_top-5-accuracy: 0.0000e+00\n",
            "Epoch 11/50\n",
            "352/352 [==============================] - 29s 82ms/step - loss: 3.5455 - accuracy: 0.2028 - top-5-accuracy: 0.4531 - val_loss: 16.0451 - val_accuracy: 0.0000e+00 - val_top-5-accuracy: 0.0000e+00\n",
            "Epoch 12/50\n",
            "352/352 [==============================] - 29s 82ms/step - loss: 3.4577 - accuracy: 0.2182 - top-5-accuracy: 0.4746 - val_loss: 15.7682 - val_accuracy: 0.0000e+00 - val_top-5-accuracy: 0.0000e+00\n",
            "Epoch 13/50\n",
            "352/352 [==============================] - 29s 82ms/step - loss: 3.3818 - accuracy: 0.2325 - top-5-accuracy: 0.4916 - val_loss: 15.9187 - val_accuracy: 0.0000e+00 - val_top-5-accuracy: 0.0000e+00\n",
            "Epoch 14/50\n",
            "352/352 [==============================] - 29s 82ms/step - loss: 3.3190 - accuracy: 0.2402 - top-5-accuracy: 0.5058 - val_loss: 15.6465 - val_accuracy: 0.0000e+00 - val_top-5-accuracy: 0.0000e+00\n",
            "Epoch 15/50\n",
            "352/352 [==============================] - 29s 82ms/step - loss: 3.2586 - accuracy: 0.2522 - top-5-accuracy: 0.5204 - val_loss: 16.5797 - val_accuracy: 0.0000e+00 - val_top-5-accuracy: 0.0000e+00\n",
            "Epoch 16/50\n",
            "352/352 [==============================] - 29s 82ms/step - loss: 3.2055 - accuracy: 0.2616 - top-5-accuracy: 0.5331 - val_loss: 16.4359 - val_accuracy: 0.0000e+00 - val_top-5-accuracy: 0.0000e+00\n",
            "Epoch 17/50\n",
            "352/352 [==============================] - 29s 82ms/step - loss: 3.1536 - accuracy: 0.2721 - top-5-accuracy: 0.5449 - val_loss: 16.1878 - val_accuracy: 0.0000e+00 - val_top-5-accuracy: 0.0000e+00\n",
            "Epoch 18/50\n",
            "352/352 [==============================] - 29s 82ms/step - loss: 3.1050 - accuracy: 0.2809 - top-5-accuracy: 0.5530 - val_loss: 16.9627 - val_accuracy: 0.0000e+00 - val_top-5-accuracy: 0.0000e+00\n",
            "Epoch 19/50\n",
            "352/352 [==============================] - 29s 82ms/step - loss: 3.0692 - accuracy: 0.2869 - top-5-accuracy: 0.5611 - val_loss: 16.8053 - val_accuracy: 0.0000e+00 - val_top-5-accuracy: 0.0000e+00\n",
            "Epoch 20/50\n",
            "352/352 [==============================] - 29s 82ms/step - loss: 3.0204 - accuracy: 0.2955 - top-5-accuracy: 0.5691 - val_loss: 17.3475 - val_accuracy: 0.0000e+00 - val_top-5-accuracy: 0.0000e+00\n",
            "Epoch 21/50\n",
            "352/352 [==============================] - 29s 82ms/step - loss: 2.9830 - accuracy: 0.3052 - top-5-accuracy: 0.5798 - val_loss: 16.9291 - val_accuracy: 0.0000e+00 - val_top-5-accuracy: 0.0000e+00\n",
            "Epoch 22/50\n",
            "352/352 [==============================] - 29s 82ms/step - loss: 2.9429 - accuracy: 0.3106 - top-5-accuracy: 0.5860 - val_loss: 17.6180 - val_accuracy: 0.0000e+00 - val_top-5-accuracy: 0.0000e+00\n",
            "Epoch 23/50\n",
            "352/352 [==============================] - 29s 82ms/step - loss: 2.9156 - accuracy: 0.3160 - top-5-accuracy: 0.5915 - val_loss: 17.6695 - val_accuracy: 0.0000e+00 - val_top-5-accuracy: 0.0000e+00\n",
            "Epoch 24/50\n",
            "352/352 [==============================] - 29s 82ms/step - loss: 2.8858 - accuracy: 0.3207 - top-5-accuracy: 0.5997 - val_loss: 17.9122 - val_accuracy: 0.0000e+00 - val_top-5-accuracy: 0.0000e+00\n",
            "Epoch 25/50\n",
            "352/352 [==============================] - 29s 82ms/step - loss: 2.8612 - accuracy: 0.3248 - top-5-accuracy: 0.6043 - val_loss: 17.8820 - val_accuracy: 0.0000e+00 - val_top-5-accuracy: 0.0000e+00\n",
            "Epoch 26/50\n",
            "352/352 [==============================] - 29s 82ms/step - loss: 2.8241 - accuracy: 0.3340 - top-5-accuracy: 0.6109 - val_loss: 18.7777 - val_accuracy: 0.0000e+00 - val_top-5-accuracy: 0.0000e+00\n",
            "Epoch 27/50\n",
            "352/352 [==============================] - 29s 82ms/step - loss: 2.7977 - accuracy: 0.3367 - top-5-accuracy: 0.6172 - val_loss: 18.7945 - val_accuracy: 0.0000e+00 - val_top-5-accuracy: 0.0000e+00\n",
            "Epoch 28/50\n",
            "352/352 [==============================] - 29s 82ms/step - loss: 2.7741 - accuracy: 0.3417 - top-5-accuracy: 0.6235 - val_loss: 18.5095 - val_accuracy: 0.0000e+00 - val_top-5-accuracy: 0.0000e+00\n",
            "Epoch 29/50\n",
            "352/352 [==============================] - 29s 82ms/step - loss: 2.7455 - accuracy: 0.3476 - top-5-accuracy: 0.6281 - val_loss: 19.0291 - val_accuracy: 0.0000e+00 - val_top-5-accuracy: 0.0000e+00\n",
            "Epoch 30/50\n",
            "352/352 [==============================] - 29s 82ms/step - loss: 2.7171 - accuracy: 0.3529 - top-5-accuracy: 0.6341 - val_loss: 19.1907 - val_accuracy: 0.0000e+00 - val_top-5-accuracy: 0.0000e+00\n",
            "Epoch 31/50\n",
            "352/352 [==============================] - 29s 82ms/step - loss: 2.6999 - accuracy: 0.3550 - top-5-accuracy: 0.6353 - val_loss: 18.8440 - val_accuracy: 0.0000e+00 - val_top-5-accuracy: 0.0000e+00\n",
            "Epoch 32/50\n",
            "352/352 [==============================] - 29s 82ms/step - loss: 2.6778 - accuracy: 0.3596 - top-5-accuracy: 0.6418 - val_loss: 19.1271 - val_accuracy: 0.0000e+00 - val_top-5-accuracy: 0.0000e+00\n",
            "Epoch 33/50\n",
            "352/352 [==============================] - 29s 82ms/step - loss: 2.6580 - accuracy: 0.3649 - top-5-accuracy: 0.6450 - val_loss: 19.6066 - val_accuracy: 0.0000e+00 - val_top-5-accuracy: 0.0000e+00\n",
            "Epoch 34/50\n",
            "352/352 [==============================] - 29s 82ms/step - loss: 2.6451 - accuracy: 0.3663 - top-5-accuracy: 0.6463 - val_loss: 18.5801 - val_accuracy: 0.0000e+00 - val_top-5-accuracy: 0.0000e+00\n",
            "Epoch 35/50\n",
            "352/352 [==============================] - 29s 82ms/step - loss: 2.6184 - accuracy: 0.3702 - top-5-accuracy: 0.6533 - val_loss: 19.9037 - val_accuracy: 0.0000e+00 - val_top-5-accuracy: 0.0000e+00\n",
            "Epoch 36/50\n",
            "352/352 [==============================] - 29s 82ms/step - loss: 2.5935 - accuracy: 0.3761 - top-5-accuracy: 0.6578 - val_loss: 20.0688 - val_accuracy: 0.0000e+00 - val_top-5-accuracy: 0.0000e+00\n",
            "Epoch 37/50\n",
            "352/352 [==============================] - 29s 82ms/step - loss: 2.5812 - accuracy: 0.3778 - top-5-accuracy: 0.6603 - val_loss: 19.3052 - val_accuracy: 0.0000e+00 - val_top-5-accuracy: 0.0000e+00\n",
            "Epoch 38/50\n",
            "352/352 [==============================] - 29s 82ms/step - loss: 2.5709 - accuracy: 0.3807 - top-5-accuracy: 0.6618 - val_loss: 20.1637 - val_accuracy: 0.0000e+00 - val_top-5-accuracy: 0.0000e+00\n",
            "Epoch 39/50\n",
            "352/352 [==============================] - 29s 82ms/step - loss: 2.5507 - accuracy: 0.3859 - top-5-accuracy: 0.6650 - val_loss: 20.0142 - val_accuracy: 0.0000e+00 - val_top-5-accuracy: 0.0000e+00\n",
            "Epoch 40/50\n",
            "352/352 [==============================] - 29s 82ms/step - loss: 2.5270 - accuracy: 0.3898 - top-5-accuracy: 0.6709 - val_loss: 20.0613 - val_accuracy: 0.0000e+00 - val_top-5-accuracy: 0.0000e+00\n",
            "Epoch 41/50\n",
            "352/352 [==============================] - 29s 82ms/step - loss: 2.5187 - accuracy: 0.3910 - top-5-accuracy: 0.6733 - val_loss: 19.9166 - val_accuracy: 0.0000e+00 - val_top-5-accuracy: 0.0000e+00\n",
            "Epoch 42/50\n",
            "352/352 [==============================] - 29s 82ms/step - loss: 2.4989 - accuracy: 0.3930 - top-5-accuracy: 0.6754 - val_loss: 20.1782 - val_accuracy: 0.0000e+00 - val_top-5-accuracy: 0.0000e+00\n",
            "Epoch 43/50\n",
            "352/352 [==============================] - 29s 82ms/step - loss: 2.4835 - accuracy: 0.3970 - top-5-accuracy: 0.6788 - val_loss: 19.9488 - val_accuracy: 0.0000e+00 - val_top-5-accuracy: 0.0000e+00\n",
            "Epoch 44/50\n",
            "352/352 [==============================] - 29s 82ms/step - loss: 2.4717 - accuracy: 0.3981 - top-5-accuracy: 0.6819 - val_loss: 19.7312 - val_accuracy: 0.0000e+00 - val_top-5-accuracy: 0.0000e+00\n",
            "Epoch 45/50\n",
            "352/352 [==============================] - 29s 82ms/step - loss: 2.4641 - accuracy: 0.4025 - top-5-accuracy: 0.6835 - val_loss: 19.9860 - val_accuracy: 0.0000e+00 - val_top-5-accuracy: 0.0000e+00\n",
            "Epoch 46/50\n",
            "352/352 [==============================] - 29s 82ms/step - loss: 2.4469 - accuracy: 0.4050 - top-5-accuracy: 0.6875 - val_loss: 19.9983 - val_accuracy: 0.0000e+00 - val_top-5-accuracy: 0.0000e+00\n",
            "Epoch 47/50\n",
            "352/352 [==============================] - 29s 82ms/step - loss: 2.4376 - accuracy: 0.4067 - top-5-accuracy: 0.6893 - val_loss: 20.0210 - val_accuracy: 0.0000e+00 - val_top-5-accuracy: 0.0000e+00\n",
            "Epoch 48/50\n",
            "352/352 [==============================] - 29s 82ms/step - loss: 2.4229 - accuracy: 0.4079 - top-5-accuracy: 0.6918 - val_loss: 20.5682 - val_accuracy: 0.0000e+00 - val_top-5-accuracy: 0.0000e+00\n",
            "Epoch 49/50\n",
            "352/352 [==============================] - 29s 82ms/step - loss: 2.4072 - accuracy: 0.4130 - top-5-accuracy: 0.6917 - val_loss: 20.3407 - val_accuracy: 0.0000e+00 - val_top-5-accuracy: 0.0000e+00\n",
            "Epoch 50/50\n",
            "352/352 [==============================] - 29s 82ms/step - loss: 2.3963 - accuracy: 0.4150 - top-5-accuracy: 0.6977 - val_loss: 20.4894 - val_accuracy: 0.0000e+00 - val_top-5-accuracy: 0.0000e+00\n",
            "40/40 [==============================] - 1s 30ms/step - loss: 4.3943 - accuracy: 0.3445 - top-5-accuracy: 0.5888\n",
            "Test accuracy: 34.45%\n",
            "Test top 5 accuracy: 58.88%\n"
          ]
        }
      ],
      "source": [
        "# Some code is taken from:\n",
        "# https://www.kaggle.com/ashusma/training-rfcx-tensorflow-tpu-effnet-b2.\n",
        "class WarmUpCosine(keras.optimizers.schedules.LearningRateSchedule):\n",
        "    def __init__(\n",
        "        self, learning_rate_base, total_steps, warmup_learning_rate, warmup_steps\n",
        "    ):\n",
        "        super().__init__()\n",
        "\n",
        "        self.learning_rate_base = learning_rate_base\n",
        "        self.total_steps = total_steps\n",
        "        self.warmup_learning_rate = warmup_learning_rate\n",
        "        self.warmup_steps = warmup_steps\n",
        "        self.pi = tf.constant(np.pi)\n",
        "\n",
        "    def __call__(self, step):\n",
        "        if self.total_steps < self.warmup_steps:\n",
        "            raise ValueError(\"Total_steps must be larger or equal to warmup_steps.\")\n",
        "\n",
        "        cos_annealed_lr = tf.cos(\n",
        "            self.pi\n",
        "            * (tf.cast(step, tf.float32) - self.warmup_steps)\n",
        "            / float(self.total_steps - self.warmup_steps)\n",
        "        )\n",
        "        learning_rate = 0.5 * self.learning_rate_base * (1 + cos_annealed_lr)\n",
        "\n",
        "        if self.warmup_steps > 0:\n",
        "            if self.learning_rate_base < self.warmup_learning_rate:\n",
        "                raise ValueError(\n",
        "                    \"Learning_rate_base must be larger or equal to \"\n",
        "                    \"warmup_learning_rate.\"\n",
        "                )\n",
        "            slope = (\n",
        "                self.learning_rate_base - self.warmup_learning_rate\n",
        "            ) / self.warmup_steps\n",
        "            warmup_rate = slope * tf.cast(step, tf.float32) + self.warmup_learning_rate\n",
        "            learning_rate = tf.where(\n",
        "                step < self.warmup_steps, warmup_rate, learning_rate\n",
        "            )\n",
        "        return tf.where(\n",
        "            step > self.total_steps, 0.0, learning_rate, name=\"learning_rate\"\n",
        "        )\n",
        "\n",
        "\n",
        "def run_experiment(model):\n",
        "    total_steps = int((len(x_train) / BATCH_SIZE) * EPOCHS)\n",
        "    warmup_epoch_percentage = 0.10\n",
        "    warmup_steps = int(total_steps * warmup_epoch_percentage)\n",
        "    scheduled_lrs = WarmUpCosine(\n",
        "        learning_rate_base=LEARNING_RATE,\n",
        "        total_steps=total_steps,\n",
        "        warmup_learning_rate=0.0,\n",
        "        warmup_steps=warmup_steps,\n",
        "    )\n",
        "\n",
        "    optimizer = tfa.optimizers.AdamW(\n",
        "        learning_rate=LEARNING_RATE, weight_decay=WEIGHT_DECAY\n",
        "    )\n",
        "\n",
        "    model.compile(\n",
        "        optimizer=optimizer,\n",
        "        loss=keras.losses.SparseCategoricalCrossentropy(from_logits=True),\n",
        "        metrics=[\n",
        "            keras.metrics.SparseCategoricalAccuracy(name=\"accuracy\"),\n",
        "            keras.metrics.SparseTopKCategoricalAccuracy(5, name=\"top-5-accuracy\"),\n",
        "        ],\n",
        "    )\n",
        "\n",
        "    history = model.fit(\n",
        "        x=x_train,\n",
        "        y=y_train,\n",
        "        batch_size=BATCH_SIZE,\n",
        "        epochs=EPOCHS,\n",
        "        validation_split=0.1,\n",
        "    )\n",
        "    _, accuracy, top_5_accuracy = model.evaluate(x_test, y_test, batch_size=BATCH_SIZE)\n",
        "    print(f\"Test accuracy: {round(accuracy * 100, 2)}%\")\n",
        "    print(f\"Test top 5 accuracy: {round(top_5_accuracy * 100, 2)}%\")\n",
        "\n",
        "    return history\n",
        "\n",
        "\n",
        "# Run experiments with the vanilla ViT\n",
        "#vit = create_vit_classifier(vanilla=True)\n",
        "#history = run_experiment(vit)\n",
        "\n",
        "# Run experiments with the Shifted Patch Tokenization and\n",
        "# Locality Self Attention modified ViT\n",
        "vit_sl = create_vit_classifier(vanilla=False)\n",
        "history = run_experiment(vit_sl)"
      ]
    },
    {
      "cell_type": "markdown",
      "metadata": {
        "id": "AA9nvpc4EEw3"
      },
      "source": [
        "# Final Notes\n",
        "\n",
        "With the help of Shifted Patch Tokenization and Locality Self Attention,\n",
        "we were able to get ~**3-4%** top-1 accuracy gains on CIFAR100.\n",
        "\n",
        "The ideas on Shifted Patch Tokenization and Locality Self Attention\n",
        "are very intuitive and easy to implement. The authors also ablates of\n",
        "different shifting strategies for Shifted Patch Tokenization in the\n",
        "supplementary of the paper.\n",
        "\n",
        "I would like to thank [Jarvislabs.ai](https://jarvislabs.ai/) for\n",
        "generously helping with GPU credits.\n",
        "\n",
        "You can use the trained model hosted on [Hugging Face Hub](https://huggingface.co/keras-io/vit_small_ds_v2) and try the demo on [Hugging Face Spaces](https://huggingface.co/spaces/keras-io/vit-small-ds)."
      ]
    }
  ],
  "metadata": {
    "accelerator": "GPU",
    "colab": {
      "provenance": [],
      "machine_shape": "hm",
      "gpuType": "A100"
    },
    "kernelspec": {
      "display_name": "Python 3",
      "language": "python",
      "name": "python3"
    },
    "language_info": {
      "codemirror_mode": {
        "name": "ipython",
        "version": 3
      },
      "file_extension": ".py",
      "mimetype": "text/x-python",
      "name": "python",
      "nbconvert_exporter": "python",
      "pygments_lexer": "ipython3",
      "version": "3.7.0"
    },
    "gpuClass": "standard"
  },
  "nbformat": 4,
  "nbformat_minor": 0
}