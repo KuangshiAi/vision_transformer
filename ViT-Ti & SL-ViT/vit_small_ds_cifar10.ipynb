{
  "cells": [
    {
      "cell_type": "markdown",
      "metadata": {
        "id": "eA76GqusEEwe"
      },
      "source": [
        "# Train a Vision Transformer on small datasets\n",
        "\n",
        "**Author:** [Aritra Roy Gosthipaty](https://twitter.com/ariG23498)<br>\n",
        "**Date created:** 2022/01/07<br>\n",
        "**Last modified:** 2022/01/10<br>\n",
        "**Description:** Training a ViT from scratch on smaller datasets with shifted patch tokenization and locality self-attention."
      ]
    },
    {
      "cell_type": "markdown",
      "metadata": {
        "id": "fy-7fO7-EEwn"
      },
      "source": [
        "## Introduction\n",
        "\n",
        "In the academic paper\n",
        "[An Image is Worth 16x16 Words: Transformers for Image Recognition at Scale](https://arxiv.org/abs/2010.11929),\n",
        "the authors mention that Vision Transformers (ViT) are data-hungry. Therefore,\n",
        "pretraining a ViT on a large-sized dataset like JFT300M and fine-tuning\n",
        "it on medium-sized datasets (like ImageNet) is the only way to beat\n",
        "state-of-the-art Convolutional Neural Network models.\n",
        "\n",
        "The self-attention layer of ViT lacks **locality inductive bias** (the notion that\n",
        "image pixels are locally correlated and that their correlation maps are translation-invariant).\n",
        "This is the reason why ViTs need more data. On the other hand, CNNs look at images through\n",
        "spatial sliding windows, which helps them get better results with smaller datasets.\n",
        "\n",
        "In the academic paper\n",
        "[Vision Transformer for Small-Size Datasets](https://arxiv.org/abs/2112.13492v1),\n",
        "the authors set out to tackle the problem of locality inductive bias in ViTs.\n",
        "\n",
        "The main ideas are:\n",
        "\n",
        "- **Shifted Patch Tokenization**\n",
        "- **Locality Self Attention**\n",
        "\n",
        "This example implements the ideas of the paper. A large part of this\n",
        "example is inspired from\n",
        "[Image classification with Vision Transformer](https://keras.io/examples/vision/image_classification_with_vision_transformer/).\n",
        "\n",
        "_Note_: This example requires TensorFlow 2.6 or higher, as well as\n",
        "[TensorFlow Addons](https://www.tensorflow.org/addons), which can be\n",
        "installed using the following command:\n",
        "\n",
        "```python\n",
        "pip install -qq -U tensorflow-addons\n",
        "```"
      ]
    },
    {
      "cell_type": "code",
      "source": [
        "!pip install -qq -U tensorflow-addons"
      ],
      "metadata": {
        "id": "Xtny0OaTEZO0",
        "colab": {
          "base_uri": "https://localhost:8080/"
        },
        "outputId": "a056634a-8cd8-414b-f9dc-3a0afdaac79d"
      },
      "execution_count": null,
      "outputs": [
        {
          "output_type": "stream",
          "name": "stdout",
          "text": [
            "\u001b[?25l     \u001b[90m━━━━━━━━━━━━━━━━━━━━━━━━━━━━━━━━━━━━━━━━\u001b[0m \u001b[32m0.0/591.0 kB\u001b[0m \u001b[31m?\u001b[0m eta \u001b[36m-:--:--\u001b[0m\r\u001b[2K     \u001b[90m━━━━━━━━━━━━━━━━━━━━━━━━━━━━━━━━━━━━━━\u001b[0m \u001b[32m591.0/591.0 kB\u001b[0m \u001b[31m21.3 MB/s\u001b[0m eta \u001b[36m0:00:00\u001b[0m\n",
            "\u001b[?25h"
          ]
        }
      ]
    },
    {
      "cell_type": "markdown",
      "metadata": {
        "id": "NZOfSZRpEEwo"
      },
      "source": [
        "## Setup"
      ]
    },
    {
      "cell_type": "code",
      "execution_count": null,
      "metadata": {
        "id": "ApwBvl6_EEwp",
        "colab": {
          "base_uri": "https://localhost:8080/"
        },
        "outputId": "3656b7eb-cd9b-4ecb-9bd7-52b3f65fd7e1"
      },
      "outputs": [
        {
          "output_type": "stream",
          "name": "stderr",
          "text": [
            "/usr/local/lib/python3.10/dist-packages/tensorflow_addons/utils/tfa_eol_msg.py:23: UserWarning: \n",
            "\n",
            "TensorFlow Addons (TFA) has ended development and introduction of new features.\n",
            "TFA has entered a minimal maintenance and release mode until a planned end of life in May 2024.\n",
            "Please modify downstream libraries to take dependencies from other repositories in our TensorFlow community (e.g. Keras, Keras-CV, and Keras-NLP). \n",
            "\n",
            "For more information see: https://github.com/tensorflow/addons/issues/2807 \n",
            "\n",
            "  warnings.warn(\n"
          ]
        }
      ],
      "source": [
        "import math\n",
        "import numpy as np\n",
        "import tensorflow as tf\n",
        "from tensorflow import keras\n",
        "import tensorflow_addons as tfa\n",
        "import matplotlib.pyplot as plt\n",
        "from tensorflow.keras import layers\n",
        "import tensorflow_datasets as tfds\n",
        "\n",
        "# Setting seed for reproducibiltiy\n",
        "SEED = 42\n",
        "keras.utils.set_random_seed(SEED)"
      ]
    },
    {
      "cell_type": "markdown",
      "metadata": {
        "id": "hlaPFRnYEEwr"
      },
      "source": [
        "## Prepare the data"
      ]
    },
    {
      "cell_type": "code",
      "execution_count": null,
      "metadata": {
        "id": "XUxjX9fYEEwr",
        "colab": {
          "base_uri": "https://localhost:8080/"
        },
        "outputId": "138e78d5-711c-41b1-d1ae-852660142b76"
      },
      "outputs": [
        {
          "output_type": "stream",
          "name": "stdout",
          "text": [
            "Downloading data from https://www.cs.toronto.edu/~kriz/cifar-10-python.tar.gz\n",
            "170498071/170498071 [==============================] - 13s 0us/step\n",
            "x_train shape: (50000, 32, 32, 3) - y_train shape: (50000, 1)\n",
            "x_test shape: (10000, 32, 32, 3) - y_test shape: (10000, 1)\n"
          ]
        }
      ],
      "source": [
        "NUM_CLASSES = 10\n",
        "INPUT_SHAPE = (32, 32, 3)\n",
        "\n",
        "(x_train, y_train), (x_test, y_test) = keras.datasets.cifar10.load_data()\n",
        "\n",
        "print(f\"x_train shape: {x_train.shape} - y_train shape: {y_train.shape}\")\n",
        "print(f\"x_test shape: {x_test.shape} - y_test shape: {y_test.shape}\")"
      ]
    },
    {
      "cell_type": "markdown",
      "metadata": {
        "id": "NspFb9TvEEws"
      },
      "source": [
        "## Configure the hyperparameters\n",
        "\n",
        "The hyperparameters are different from the paper. Feel free to tune\n",
        "the hyperparameters yourself."
      ]
    },
    {
      "cell_type": "code",
      "execution_count": null,
      "metadata": {
        "id": "vtUjh0vTEEwt"
      },
      "outputs": [],
      "source": [
        "# DATA\n",
        "BUFFER_SIZE = 512\n",
        "BATCH_SIZE = 256\n",
        "\n",
        "# AUGMENTATION\n",
        "IMAGE_SIZE = 72\n",
        "PATCH_SIZE = 6\n",
        "NUM_PATCHES = (IMAGE_SIZE // PATCH_SIZE) ** 2\n",
        "\n",
        "# OPTIMIZER\n",
        "LEARNING_RATE = 0.001\n",
        "WEIGHT_DECAY = 0.0001\n",
        "\n",
        "# TRAINING\n",
        "EPOCHS = 50\n",
        "\n",
        "# ARCHITECTURE\n",
        "LAYER_NORM_EPS = 1e-6\n",
        "TRANSFORMER_LAYERS = 8\n",
        "PROJECTION_DIM = 64\n",
        "NUM_HEADS = 4\n",
        "TRANSFORMER_UNITS = [\n",
        "    PROJECTION_DIM * 2,\n",
        "    PROJECTION_DIM,\n",
        "]\n",
        "MLP_HEAD_UNITS = [2048, 1024]"
      ]
    },
    {
      "cell_type": "markdown",
      "metadata": {
        "id": "qoicGlIwEEwu"
      },
      "source": [
        "## Use data augmentation\n",
        "\n",
        "A snippet from the paper:\n",
        "\n",
        "*\"According to DeiT, various techniques are required to effectively\n",
        "train ViTs. Thus, we applied data augmentations such as CutMix, Mixup,\n",
        "Auto Augment, Repeated Augment to all models.\"*\n",
        "\n",
        "In this example, we will focus solely on the novelty of the approach\n",
        "and not on reproducing the paper results. For this reason, we\n",
        "don't use the mentioned data augmentation schemes. Please feel\n",
        "free to add to or remove from the augmentation pipeline."
      ]
    },
    {
      "cell_type": "code",
      "execution_count": null,
      "metadata": {
        "id": "Ix1MggEjEEwu"
      },
      "outputs": [],
      "source": [
        "data_augmentation = keras.Sequential(\n",
        "    [\n",
        "        layers.Normalization(),\n",
        "        layers.Resizing(IMAGE_SIZE, IMAGE_SIZE),\n",
        "        layers.RandomFlip(\"horizontal\"),\n",
        "        layers.RandomRotation(factor=0.02),\n",
        "        layers.RandomZoom(height_factor=0.2, width_factor=0.2),\n",
        "    ],\n",
        "    name=\"data_augmentation\",\n",
        ")\n",
        "# Compute the mean and the variance of the training data for normalization.\n",
        "data_augmentation.layers[0].adapt(x_train)"
      ]
    },
    {
      "cell_type": "markdown",
      "metadata": {
        "id": "gPX-8QB_EEwv"
      },
      "source": [
        "## Implement Shifted Patch Tokenization\n",
        "\n",
        "In a ViT pipeline, the input images are divided into patches that are\n",
        "then linearly projected into tokens. Shifted patch tokenization (STP)\n",
        "is introduced to combat the low receptive field of ViTs. The steps\n",
        "for Shifted Patch Tokenization are as follows:\n",
        "\n",
        "- Start with an image.\n",
        "- Shift the image in diagonal directions.\n",
        "- Concat the diagonally shifted images with the original image.\n",
        "- Extract patches of the concatenated images.\n",
        "- Flatten the spatial dimension of all patches.\n",
        "- Layer normalize the flattened patches and then project it.\n",
        "\n",
        "| ![Shifted Patch Toekenization](https://i.imgur.com/bUnHxd0.png) |\n",
        "| :--: |\n",
        "| Shifted Patch Tokenization [Source](https://arxiv.org/abs/2112.13492v1) |"
      ]
    },
    {
      "cell_type": "code",
      "execution_count": null,
      "metadata": {
        "id": "8-Lbxh49EEwv"
      },
      "outputs": [],
      "source": [
        "\n",
        "class ShiftedPatchTokenization(layers.Layer):\n",
        "    def __init__(\n",
        "        self,\n",
        "        image_size=IMAGE_SIZE,\n",
        "        patch_size=PATCH_SIZE,\n",
        "        num_patches=NUM_PATCHES,\n",
        "        projection_dim=PROJECTION_DIM,\n",
        "        vanilla=False,\n",
        "        **kwargs,\n",
        "    ):\n",
        "        super().__init__(**kwargs)\n",
        "        self.vanilla = vanilla  # Flag to switch to vanilla patch extractor\n",
        "        self.image_size = image_size\n",
        "        self.patch_size = patch_size\n",
        "        self.half_patch = patch_size // 2\n",
        "        self.flatten_patches = layers.Reshape((num_patches, -1))\n",
        "        self.projection = layers.Dense(units=projection_dim)\n",
        "        self.layer_norm = layers.LayerNormalization(epsilon=LAYER_NORM_EPS)\n",
        "\n",
        "    def crop_shift_pad(self, images, mode):\n",
        "        # Build the diagonally shifted images\n",
        "        if mode == \"left-up\":\n",
        "            crop_height = self.half_patch\n",
        "            crop_width = self.half_patch\n",
        "            shift_height = 0\n",
        "            shift_width = 0\n",
        "        elif mode == \"left-down\":\n",
        "            crop_height = 0\n",
        "            crop_width = self.half_patch\n",
        "            shift_height = self.half_patch\n",
        "            shift_width = 0\n",
        "        elif mode == \"right-up\":\n",
        "            crop_height = self.half_patch\n",
        "            crop_width = 0\n",
        "            shift_height = 0\n",
        "            shift_width = self.half_patch\n",
        "        else:\n",
        "            crop_height = 0\n",
        "            crop_width = 0\n",
        "            shift_height = self.half_patch\n",
        "            shift_width = self.half_patch\n",
        "\n",
        "        # Crop the shifted images and pad them\n",
        "        crop = tf.image.crop_to_bounding_box(\n",
        "            images,\n",
        "            offset_height=crop_height,\n",
        "            offset_width=crop_width,\n",
        "            target_height=self.image_size - self.half_patch,\n",
        "            target_width=self.image_size - self.half_patch,\n",
        "        )\n",
        "        shift_pad = tf.image.pad_to_bounding_box(\n",
        "            crop,\n",
        "            offset_height=shift_height,\n",
        "            offset_width=shift_width,\n",
        "            target_height=self.image_size,\n",
        "            target_width=self.image_size,\n",
        "        )\n",
        "        return shift_pad\n",
        "\n",
        "    def call(self, images):\n",
        "        if not self.vanilla:\n",
        "            # Concat the shifted images with the original image\n",
        "            images = tf.concat(\n",
        "                [\n",
        "                    images,\n",
        "                    self.crop_shift_pad(images, mode=\"left-up\"),\n",
        "                    self.crop_shift_pad(images, mode=\"left-down\"),\n",
        "                    self.crop_shift_pad(images, mode=\"right-up\"),\n",
        "                    self.crop_shift_pad(images, mode=\"right-down\"),\n",
        "                ],\n",
        "                axis=-1,\n",
        "            )\n",
        "        # Patchify the images and flatten it\n",
        "        patches = tf.image.extract_patches(\n",
        "            images=images,\n",
        "            sizes=[1, self.patch_size, self.patch_size, 1],\n",
        "            strides=[1, self.patch_size, self.patch_size, 1],\n",
        "            rates=[1, 1, 1, 1],\n",
        "            padding=\"VALID\",\n",
        "        )\n",
        "        flat_patches = self.flatten_patches(patches)\n",
        "        if not self.vanilla:\n",
        "            # Layer normalize the flat patches and linearly project it\n",
        "            tokens = self.layer_norm(flat_patches)\n",
        "            tokens = self.projection(tokens)\n",
        "        else:\n",
        "            # Linearly project the flat patches\n",
        "            tokens = self.projection(flat_patches)\n",
        "        return (tokens, patches)\n"
      ]
    },
    {
      "cell_type": "markdown",
      "metadata": {
        "id": "77VgrmmDEEwy"
      },
      "source": [
        "### Visualize the patches"
      ]
    },
    {
      "cell_type": "code",
      "execution_count": null,
      "metadata": {
        "id": "qD9cie7DEEwy",
        "colab": {
          "base_uri": "https://localhost:8080/",
          "height": 1000
        },
        "outputId": "b68f2d2a-3230-4045-b009-fb7fb93bfb71"
      },
      "outputs": [
        {
          "output_type": "display_data",
          "data": {
            "text/plain": [
              "<Figure size 400x400 with 144 Axes>"
            ],
            "image/png": "[encoded data removed]"
          },
          "metadata": {}
        },
        {
          "output_type": "stream",
          "name": "stdout",
          "text": [
            "ORIGINAL\n"
          ]
        },
        {
          "output_type": "display_data",
          "data": {
            "text/plain": [
              "<Figure size 400x400 with 144 Axes>"
            ],
            "image/png": "[encoded data removed]"
          },
          "metadata": {}
        },
        {
          "output_type": "stream",
          "name": "stdout",
          "text": [
            "LEFT-UP\n"
          ]
        },
        {
          "output_type": "display_data",
          "data": {
            "text/plain": [
              "<Figure size 400x400 with 144 Axes>"
            ],
            "image/png": "[encoded data removed]"
          },
          "metadata": {}
        },
        {
          "output_type": "stream",
          "name": "stdout",
          "text": [
            "LEFT-DOWN\n"
          ]
        },
        {
          "output_type": "display_data",
          "data": {
            "text/plain": [
              "<Figure size 400x400 with 144 Axes>"
            ],
            "image/png": "[encoded data removed]"
          },
          "metadata": {}
        },
        {
          "output_type": "stream",
          "name": "stdout",
          "text": [
            "RIGHT-UP\n"
          ]
        },
        {
          "output_type": "display_data",
          "data": {
            "text/plain": [
              "<Figure size 400x400 with 144 Axes>"
            ],
            "image/png": "[encoded data removed]"
          },
          "metadata": {}
        },
        {
          "output_type": "stream",
          "name": "stdout",
          "text": [
            "RIGHT-DOWN\n"
          ]
        },
        {
          "output_type": "display_data",
          "data": {
            "text/plain": [
              "<Figure size 400x400 with 144 Axes>"
            ],
            "image/png": "[encoded data removed]"
          },
          "metadata": {}
        }
      ],
      "source": [
        "# Get a random image from the training dataset\n",
        "# and resize the image\n",
        "image = x_train[np.random.choice(range(x_train.shape[0]))]\n",
        "resized_image = tf.image.resize(\n",
        "    tf.convert_to_tensor([image]), size=(IMAGE_SIZE, IMAGE_SIZE)\n",
        ")\n",
        "\n",
        "# Vanilla patch maker: This takes an image and divides into\n",
        "# patches as in the original ViT paper\n",
        "(token, patch) = ShiftedPatchTokenization(vanilla=True)(resized_image / 255.0)\n",
        "(token, patch) = (token[0], patch[0])\n",
        "n = patch.shape[0]\n",
        "count = 1\n",
        "plt.figure(figsize=(4, 4))\n",
        "for row in range(n):\n",
        "    for col in range(n):\n",
        "        plt.subplot(n, n, count)\n",
        "        count = count + 1\n",
        "        image = tf.reshape(patch[row][col], (PATCH_SIZE, PATCH_SIZE, 3))\n",
        "        plt.imshow(image)\n",
        "        plt.axis(\"off\")\n",
        "plt.show()\n",
        "\n",
        "# Shifted Patch Tokenization: This layer takes the image, shifts it\n",
        "# diagonally and then extracts patches from the concatinated images\n",
        "(token, patch) = ShiftedPatchTokenization(vanilla=False)(resized_image / 255.0)\n",
        "(token, patch) = (token[0], patch[0])\n",
        "n = patch.shape[0]\n",
        "shifted_images = [\"ORIGINAL\", \"LEFT-UP\", \"LEFT-DOWN\", \"RIGHT-UP\", \"RIGHT-DOWN\"]\n",
        "for index, name in enumerate(shifted_images):\n",
        "    print(name)\n",
        "    count = 1\n",
        "    plt.figure(figsize=(4, 4))\n",
        "    for row in range(n):\n",
        "        for col in range(n):\n",
        "            plt.subplot(n, n, count)\n",
        "            count = count + 1\n",
        "            image = tf.reshape(patch[row][col], (PATCH_SIZE, PATCH_SIZE, 5 * 3))\n",
        "            plt.imshow(image[..., 3 * index : 3 * index + 3])\n",
        "            plt.axis(\"off\")\n",
        "    plt.show()"
      ]
    },
    {
      "cell_type": "markdown",
      "metadata": {
        "id": "cvDJEjMoEEwz"
      },
      "source": [
        "## Implement the patch encoding layer\n",
        "\n",
        "This layer accepts projected patches and then adds positional\n",
        "information to them."
      ]
    },
    {
      "cell_type": "code",
      "execution_count": null,
      "metadata": {
        "id": "ESM8pyk3EEwz"
      },
      "outputs": [],
      "source": [
        "\n",
        "class PatchEncoder(layers.Layer):\n",
        "    def __init__(\n",
        "        self, num_patches=NUM_PATCHES, projection_dim=PROJECTION_DIM, **kwargs\n",
        "    ):\n",
        "        super().__init__(**kwargs)\n",
        "        self.num_patches = num_patches\n",
        "        self.position_embedding = layers.Embedding(\n",
        "            input_dim=num_patches, output_dim=projection_dim\n",
        "        )\n",
        "        self.positions = tf.range(start=0, limit=self.num_patches, delta=1)\n",
        "\n",
        "    def call(self, encoded_patches):\n",
        "        encoded_positions = self.position_embedding(self.positions)\n",
        "        encoded_patches = encoded_patches + encoded_positions\n",
        "        return encoded_patches\n"
      ]
    },
    {
      "cell_type": "markdown",
      "metadata": {
        "id": "jUTRzh5VEEw0"
      },
      "source": [
        "## Implement Locality Self Attention\n",
        "\n",
        "The regular attention equation is stated below.\n",
        "\n",
        "| ![Equation of attention](https://miro.medium.com/max/396/1*P9sV1xXM10t943bXy_G9yg.png) |\n",
        "| :--: |\n",
        "| [Source](https://towardsdatascience.com/attention-is-all-you-need-discovering-the-transformer-paper-73e5ff5e0634) |\n",
        "\n",
        "The attention module takes a query, key, and value. First, we compute the\n",
        "similarity between the query and key via a dot product. Then, the result\n",
        "is scaled by the square root of the key dimension. The scaling prevents\n",
        "the softmax function from having an overly small gradient. Softmax is then\n",
        "applied to the scaled dot product to produce the attention weights.\n",
        "The value is then modulated via the attention weights.\n",
        "\n",
        "In self-attention, query, key and value come from the same input.\n",
        "The dot product would result in large self-token relations rather than\n",
        "inter-token relations. This also means that the softmax gives higher\n",
        "probabilities to self-token relations than the inter-token relations.\n",
        "To combat this, the authors propose masking the diagonal of the dot product.\n",
        "This way, we force the attention module to pay more attention to the\n",
        "inter-token relations.\n",
        "\n",
        "The scaling factor is a constant in the regular attention module.\n",
        "This acts like a temperature term that can modulate the softmax function.\n",
        "The authors suggest a learnable temperature term instead of a constant.\n",
        "\n",
        "| ![Implementation of LSA](https://i.imgur.com/GTV99pk.png) |\n",
        "| :--: |\n",
        "| Locality Self Attention [Source](https://arxiv.org/abs/2112.13492v1) |\n",
        "\n",
        "The above two pointers make the Locality Self Attention. We have subclassed the\n",
        "[`layers.MultiHeadAttention`](https://www.tensorflow.org/api_docs/python/tf/keras/layers/MultiHeadAttention)\n",
        "and implemented the trainable temperature. The attention mask is built\n",
        "at a later stage."
      ]
    },
    {
      "cell_type": "code",
      "execution_count": null,
      "metadata": {
        "id": "wGl8kA7rEEw0"
      },
      "outputs": [],
      "source": [
        "\n",
        "class MultiHeadAttentionLSA(tf.keras.layers.MultiHeadAttention):\n",
        "    def __init__(self, **kwargs):\n",
        "        super().__init__(**kwargs)\n",
        "        # The trainable temperature term. The initial value is\n",
        "        # the square root of the key dimension.\n",
        "        self.tau = tf.Variable(math.sqrt(float(self._key_dim)), trainable=True)\n",
        "\n",
        "    def _compute_attention(self, query, key, value, attention_mask=None, training=None):\n",
        "        query = tf.multiply(query, 1.0 / self.tau)\n",
        "        attention_scores = tf.einsum(self._dot_product_equation, key, query)\n",
        "        attention_scores = self._masked_softmax(attention_scores, attention_mask)\n",
        "        attention_scores_dropout = self._dropout_layer(\n",
        "            attention_scores, training=training\n",
        "        )\n",
        "        attention_output = tf.einsum(\n",
        "            self._combine_equation, attention_scores_dropout, value\n",
        "        )\n",
        "        return attention_output, attention_scores\n"
      ]
    },
    {
      "cell_type": "markdown",
      "metadata": {
        "id": "VSPDusAJEEw1"
      },
      "source": [
        "## Implement the MLP"
      ]
    },
    {
      "cell_type": "code",
      "execution_count": null,
      "metadata": {
        "id": "acpYzHrZEEw1"
      },
      "outputs": [],
      "source": [
        "\n",
        "def mlp(x, hidden_units, dropout_rate):\n",
        "    for units in hidden_units:\n",
        "        x = layers.Dense(units, activation=tf.nn.gelu)(x)\n",
        "        x = layers.Dropout(dropout_rate)(x)\n",
        "    return x\n",
        "\n",
        "\n",
        "# Build the diagonal attention mask\n",
        "diag_attn_mask = 1 - tf.eye(NUM_PATCHES)\n",
        "diag_attn_mask = tf.cast([diag_attn_mask], dtype=tf.int8)"
      ]
    },
    {
      "cell_type": "markdown",
      "metadata": {
        "id": "egEHjrWMEEw2"
      },
      "source": [
        "## Build the ViT"
      ]
    },
    {
      "cell_type": "code",
      "execution_count": null,
      "metadata": {
        "id": "2r6OnFnmEEw2"
      },
      "outputs": [],
      "source": [
        "\n",
        "def create_vit_classifier(vanilla=False):\n",
        "    inputs = layers.Input(shape=INPUT_SHAPE)\n",
        "    # Augment data.\n",
        "    augmented = data_augmentation(inputs)\n",
        "    # Create patches.\n",
        "    (tokens, _) = ShiftedPatchTokenization(vanilla=vanilla)(augmented)\n",
        "    # Encode patches.\n",
        "    encoded_patches = PatchEncoder()(tokens)\n",
        "\n",
        "    # Create multiple layers of the Transformer block.\n",
        "    for _ in range(TRANSFORMER_LAYERS):\n",
        "        # Layer normalization 1.\n",
        "        x1 = layers.LayerNormalization(epsilon=1e-6)(encoded_patches)\n",
        "        # Create a multi-head attention layer.\n",
        "        if not vanilla:\n",
        "            attention_output = MultiHeadAttentionLSA(\n",
        "                num_heads=NUM_HEADS, key_dim=PROJECTION_DIM, dropout=0.1\n",
        "            )(x1, x1, attention_mask=diag_attn_mask)\n",
        "        else:\n",
        "            attention_output = layers.MultiHeadAttention(\n",
        "                num_heads=NUM_HEADS, key_dim=PROJECTION_DIM, dropout=0.1\n",
        "            )(x1, x1)\n",
        "        # Skip connection 1.\n",
        "        x2 = layers.Add()([attention_output, encoded_patches])\n",
        "        # Layer normalization 2.\n",
        "        x3 = layers.LayerNormalization(epsilon=1e-6)(x2)\n",
        "        # MLP.\n",
        "        x3 = mlp(x3, hidden_units=TRANSFORMER_UNITS, dropout_rate=0.1)\n",
        "        # Skip connection 2.\n",
        "        encoded_patches = layers.Add()([x3, x2])\n",
        "\n",
        "    # Create a [batch_size, projection_dim] tensor.\n",
        "    representation = layers.LayerNormalization(epsilon=1e-6)(encoded_patches)\n",
        "    representation = layers.Flatten()(representation)\n",
        "    representation = layers.Dropout(0.5)(representation)\n",
        "    # Add MLP.\n",
        "    features = mlp(representation, hidden_units=MLP_HEAD_UNITS, dropout_rate=0.5)\n",
        "    # Classify outputs.\n",
        "    logits = layers.Dense(NUM_CLASSES)(features)\n",
        "    # Create the Keras model.\n",
        "    model = keras.Model(inputs=inputs, outputs=logits)\n",
        "    return model\n"
      ]
    },
    {
      "cell_type": "markdown",
      "metadata": {
        "id": "bJNBeLMBEEw3"
      },
      "source": [
        "## Compile, train, and evaluate the mode"
      ]
    },
    {
      "cell_type": "code",
      "execution_count": null,
      "metadata": {
        "id": "PHKROp3AEEw3",
        "colab": {
          "base_uri": "https://localhost:8080/"
        },
        "outputId": "a3d0a972-20e9-4d92-aa1b-17c2bb2d8997"
      },
      "outputs": [
        {
          "output_type": "stream",
          "name": "stdout",
          "text": [
            "Epoch 1/50\n",
            "176/176 [==============================] - 26s 80ms/step - loss: 2.0535 - accuracy: 0.3123 - top-5-accuracy: 0.8063 - val_loss: 1.5190 - val_accuracy: 0.4588 - val_top-5-accuracy: 0.9150\n",
            "Epoch 2/50\n",
            "176/176 [==============================] - 13s 72ms/step - loss: 1.5373 - accuracy: 0.4462 - top-5-accuracy: 0.9034 - val_loss: 1.2535 - val_accuracy: 0.5450 - val_top-5-accuracy: 0.9504\n",
            "Epoch 3/50\n",
            "176/176 [==============================] - 13s 72ms/step - loss: 1.3892 - accuracy: 0.5001 - top-5-accuracy: 0.9264 - val_loss: 1.1525 - val_accuracy: 0.5924 - val_top-5-accuracy: 0.9604\n",
            "Epoch 4/50\n",
            "176/176 [==============================] - 13s 72ms/step - loss: 1.2991 - accuracy: 0.5393 - top-5-accuracy: 0.9372 - val_loss: 1.0895 - val_accuracy: 0.6204 - val_top-5-accuracy: 0.9682\n",
            "Epoch 5/50\n",
            "176/176 [==============================] - 13s 72ms/step - loss: 1.2199 - accuracy: 0.5655 - top-5-accuracy: 0.9459 - val_loss: 1.0028 - val_accuracy: 0.6462 - val_top-5-accuracy: 0.9676\n",
            "Epoch 6/50\n",
            "176/176 [==============================] - 13s 72ms/step - loss: 1.1554 - accuracy: 0.5919 - top-5-accuracy: 0.9538 - val_loss: 0.9921 - val_accuracy: 0.6496 - val_top-5-accuracy: 0.9686\n",
            "Epoch 7/50\n",
            "176/176 [==============================] - 13s 71ms/step - loss: 1.1069 - accuracy: 0.6084 - top-5-accuracy: 0.9576 - val_loss: 0.9340 - val_accuracy: 0.6744 - val_top-5-accuracy: 0.9746\n",
            "Epoch 8/50\n",
            "176/176 [==============================] - 13s 72ms/step - loss: 1.0657 - accuracy: 0.6269 - top-5-accuracy: 0.9612 - val_loss: 0.8755 - val_accuracy: 0.6960 - val_top-5-accuracy: 0.9800\n",
            "Epoch 9/50\n",
            "176/176 [==============================] - 13s 71ms/step - loss: 1.0312 - accuracy: 0.6409 - top-5-accuracy: 0.9641 - val_loss: 0.8559 - val_accuracy: 0.7022 - val_top-5-accuracy: 0.9810\n",
            "Epoch 10/50\n",
            "176/176 [==============================] - 12s 71ms/step - loss: 0.9854 - accuracy: 0.6574 - top-5-accuracy: 0.9661 - val_loss: 0.8284 - val_accuracy: 0.7096 - val_top-5-accuracy: 0.9818\n",
            "Epoch 11/50\n",
            "176/176 [==============================] - 12s 71ms/step - loss: 0.9428 - accuracy: 0.6698 - top-5-accuracy: 0.9709 - val_loss: 0.7819 - val_accuracy: 0.7330 - val_top-5-accuracy: 0.9824\n",
            "Epoch 12/50\n",
            "176/176 [==============================] - 12s 71ms/step - loss: 0.9188 - accuracy: 0.6802 - top-5-accuracy: 0.9716 - val_loss: 0.7649 - val_accuracy: 0.7282 - val_top-5-accuracy: 0.9844\n",
            "Epoch 13/50\n",
            "176/176 [==============================] - 12s 71ms/step - loss: 0.8795 - accuracy: 0.6934 - top-5-accuracy: 0.9746 - val_loss: 0.7379 - val_accuracy: 0.7458 - val_top-5-accuracy: 0.9860\n",
            "Epoch 14/50\n",
            "176/176 [==============================] - 12s 71ms/step - loss: 0.8474 - accuracy: 0.7038 - top-5-accuracy: 0.9763 - val_loss: 0.7291 - val_accuracy: 0.7460 - val_top-5-accuracy: 0.9858\n",
            "Epoch 15/50\n",
            "176/176 [==============================] - 12s 71ms/step - loss: 0.8254 - accuracy: 0.7122 - top-5-accuracy: 0.9780 - val_loss: 0.6883 - val_accuracy: 0.7578 - val_top-5-accuracy: 0.9876\n",
            "Epoch 16/50\n",
            "176/176 [==============================] - 13s 71ms/step - loss: 0.8011 - accuracy: 0.7207 - top-5-accuracy: 0.9786 - val_loss: 0.6873 - val_accuracy: 0.7628 - val_top-5-accuracy: 0.9866\n",
            "Epoch 17/50\n",
            "176/176 [==============================] - 12s 71ms/step - loss: 0.7792 - accuracy: 0.7275 - top-5-accuracy: 0.9801 - val_loss: 0.6741 - val_accuracy: 0.7648 - val_top-5-accuracy: 0.9860\n",
            "Epoch 18/50\n",
            "176/176 [==============================] - 12s 71ms/step - loss: 0.7596 - accuracy: 0.7340 - top-5-accuracy: 0.9816 - val_loss: 0.6616 - val_accuracy: 0.7680 - val_top-5-accuracy: 0.9860\n",
            "Epoch 19/50\n",
            "176/176 [==============================] - 12s 71ms/step - loss: 0.7371 - accuracy: 0.7413 - top-5-accuracy: 0.9827 - val_loss: 0.6439 - val_accuracy: 0.7730 - val_top-5-accuracy: 0.9888\n",
            "Epoch 20/50\n",
            "176/176 [==============================] - 12s 71ms/step - loss: 0.7250 - accuracy: 0.7475 - top-5-accuracy: 0.9832 - val_loss: 0.6319 - val_accuracy: 0.7826 - val_top-5-accuracy: 0.9876\n",
            "Epoch 21/50\n",
            "176/176 [==============================] - 13s 71ms/step - loss: 0.7101 - accuracy: 0.7541 - top-5-accuracy: 0.9841 - val_loss: 0.6275 - val_accuracy: 0.7832 - val_top-5-accuracy: 0.9882\n",
            "Epoch 22/50\n",
            "176/176 [==============================] - 13s 71ms/step - loss: 0.6859 - accuracy: 0.7594 - top-5-accuracy: 0.9850 - val_loss: 0.6258 - val_accuracy: 0.7824 - val_top-5-accuracy: 0.9900\n",
            "Epoch 23/50\n",
            "176/176 [==============================] - 13s 71ms/step - loss: 0.6717 - accuracy: 0.7663 - top-5-accuracy: 0.9850 - val_loss: 0.6180 - val_accuracy: 0.7880 - val_top-5-accuracy: 0.9884\n",
            "Epoch 24/50\n",
            "176/176 [==============================] - 13s 71ms/step - loss: 0.6558 - accuracy: 0.7717 - top-5-accuracy: 0.9864 - val_loss: 0.6031 - val_accuracy: 0.7904 - val_top-5-accuracy: 0.9902\n",
            "Epoch 25/50\n",
            "176/176 [==============================] - 12s 71ms/step - loss: 0.6410 - accuracy: 0.7763 - top-5-accuracy: 0.9880 - val_loss: 0.6088 - val_accuracy: 0.7892 - val_top-5-accuracy: 0.9870\n",
            "Epoch 26/50\n",
            "176/176 [==============================] - 12s 71ms/step - loss: 0.6382 - accuracy: 0.7781 - top-5-accuracy: 0.9876 - val_loss: 0.5986 - val_accuracy: 0.7916 - val_top-5-accuracy: 0.9886\n",
            "Epoch 27/50\n",
            "176/176 [==============================] - 12s 71ms/step - loss: 0.6148 - accuracy: 0.7842 - top-5-accuracy: 0.9886 - val_loss: 0.5934 - val_accuracy: 0.7992 - val_top-5-accuracy: 0.9888\n",
            "Epoch 28/50\n",
            "176/176 [==============================] - 12s 71ms/step - loss: 0.5952 - accuracy: 0.7894 - top-5-accuracy: 0.9889 - val_loss: 0.5952 - val_accuracy: 0.7910 - val_top-5-accuracy: 0.9902\n",
            "Epoch 29/50\n",
            "176/176 [==============================] - 12s 71ms/step - loss: 0.5872 - accuracy: 0.7937 - top-5-accuracy: 0.9893 - val_loss: 0.5601 - val_accuracy: 0.8056 - val_top-5-accuracy: 0.9898\n",
            "Epoch 30/50\n",
            "176/176 [==============================] - 12s 71ms/step - loss: 0.5776 - accuracy: 0.7982 - top-5-accuracy: 0.9899 - val_loss: 0.5839 - val_accuracy: 0.7948 - val_top-5-accuracy: 0.9886\n",
            "Epoch 31/50\n",
            "176/176 [==============================] - 13s 72ms/step - loss: 0.5623 - accuracy: 0.8009 - top-5-accuracy: 0.9910 - val_loss: 0.5769 - val_accuracy: 0.8008 - val_top-5-accuracy: 0.9908\n",
            "Epoch 32/50\n",
            "176/176 [==============================] - 12s 71ms/step - loss: 0.5493 - accuracy: 0.8076 - top-5-accuracy: 0.9912 - val_loss: 0.5595 - val_accuracy: 0.8060 - val_top-5-accuracy: 0.9922\n",
            "Epoch 33/50\n",
            "176/176 [==============================] - 12s 71ms/step - loss: 0.5341 - accuracy: 0.8126 - top-5-accuracy: 0.9914 - val_loss: 0.5612 - val_accuracy: 0.8062 - val_top-5-accuracy: 0.9896\n",
            "Epoch 34/50\n",
            "176/176 [==============================] - 12s 71ms/step - loss: 0.5234 - accuracy: 0.8138 - top-5-accuracy: 0.9929 - val_loss: 0.5491 - val_accuracy: 0.8104 - val_top-5-accuracy: 0.9910\n",
            "Epoch 35/50\n",
            "176/176 [==============================] - 12s 71ms/step - loss: 0.5182 - accuracy: 0.8195 - top-5-accuracy: 0.9922 - val_loss: 0.5551 - val_accuracy: 0.8092 - val_top-5-accuracy: 0.9898\n",
            "Epoch 36/50\n",
            "176/176 [==============================] - 12s 71ms/step - loss: 0.5028 - accuracy: 0.8246 - top-5-accuracy: 0.9934 - val_loss: 0.5437 - val_accuracy: 0.8124 - val_top-5-accuracy: 0.9924\n",
            "Epoch 37/50\n",
            "176/176 [==============================] - 12s 71ms/step - loss: 0.4831 - accuracy: 0.8299 - top-5-accuracy: 0.9940 - val_loss: 0.5744 - val_accuracy: 0.8088 - val_top-5-accuracy: 0.9900\n",
            "Epoch 38/50\n",
            "176/176 [==============================] - 12s 71ms/step - loss: 0.4805 - accuracy: 0.8320 - top-5-accuracy: 0.9936 - val_loss: 0.5516 - val_accuracy: 0.8176 - val_top-5-accuracy: 0.9912\n",
            "Epoch 39/50\n",
            "176/176 [==============================] - 12s 71ms/step - loss: 0.4735 - accuracy: 0.8340 - top-5-accuracy: 0.9937 - val_loss: 0.5840 - val_accuracy: 0.8040 - val_top-5-accuracy: 0.9916\n",
            "Epoch 40/50\n",
            "176/176 [==============================] - 12s 71ms/step - loss: 0.4604 - accuracy: 0.8359 - top-5-accuracy: 0.9944 - val_loss: 0.5281 - val_accuracy: 0.8228 - val_top-5-accuracy: 0.9914\n",
            "Epoch 41/50\n",
            "176/176 [==============================] - 13s 71ms/step - loss: 0.4548 - accuracy: 0.8400 - top-5-accuracy: 0.9946 - val_loss: 0.5386 - val_accuracy: 0.8182 - val_top-5-accuracy: 0.9906\n",
            "Epoch 42/50\n",
            "176/176 [==============================] - 12s 71ms/step - loss: 0.4406 - accuracy: 0.8457 - top-5-accuracy: 0.9958 - val_loss: 0.5439 - val_accuracy: 0.8142 - val_top-5-accuracy: 0.9906\n",
            "Epoch 43/50\n",
            "176/176 [==============================] - 12s 71ms/step - loss: 0.4384 - accuracy: 0.8450 - top-5-accuracy: 0.9958 - val_loss: 0.5378 - val_accuracy: 0.8176 - val_top-5-accuracy: 0.9920\n",
            "Epoch 44/50\n",
            "176/176 [==============================] - 12s 71ms/step - loss: 0.4290 - accuracy: 0.8485 - top-5-accuracy: 0.9955 - val_loss: 0.5423 - val_accuracy: 0.8204 - val_top-5-accuracy: 0.9922\n",
            "Epoch 45/50\n",
            "176/176 [==============================] - 12s 71ms/step - loss: 0.4125 - accuracy: 0.8535 - top-5-accuracy: 0.9961 - val_loss: 0.5454 - val_accuracy: 0.8172 - val_top-5-accuracy: 0.9918\n",
            "Epoch 46/50\n",
            "176/176 [==============================] - 12s 71ms/step - loss: 0.4130 - accuracy: 0.8553 - top-5-accuracy: 0.9961 - val_loss: 0.5285 - val_accuracy: 0.8278 - val_top-5-accuracy: 0.9908\n",
            "Epoch 47/50\n",
            "176/176 [==============================] - 12s 71ms/step - loss: 0.4120 - accuracy: 0.8564 - top-5-accuracy: 0.9963 - val_loss: 0.5204 - val_accuracy: 0.8264 - val_top-5-accuracy: 0.9920\n",
            "Epoch 48/50\n",
            "176/176 [==============================] - 12s 71ms/step - loss: 0.4061 - accuracy: 0.8582 - top-5-accuracy: 0.9957 - val_loss: 0.5216 - val_accuracy: 0.8250 - val_top-5-accuracy: 0.9926\n",
            "Epoch 49/50\n",
            "176/176 [==============================] - 12s 71ms/step - loss: 0.3878 - accuracy: 0.8638 - top-5-accuracy: 0.9967 - val_loss: 0.5395 - val_accuracy: 0.8296 - val_top-5-accuracy: 0.9916\n",
            "Epoch 50/50\n",
            "176/176 [==============================] - 12s 71ms/step - loss: 0.3811 - accuracy: 0.8661 - top-5-accuracy: 0.9968 - val_loss: 0.5259 - val_accuracy: 0.8290 - val_top-5-accuracy: 0.9898\n",
            "40/40 [==============================] - 1s 24ms/step - loss: 0.5654 - accuracy: 0.8156 - top-5-accuracy: 0.9896\n",
            "Test accuracy: 81.56%\n",
            "Test top 5 accuracy: 98.96%\n",
            "Epoch 1/50\n",
            "176/176 [==============================] - 27s 86ms/step - loss: 1.9763 - accuracy: 0.3347 - top-5-accuracy: 0.8226 - val_loss: 1.5210 - val_accuracy: 0.4640 - val_top-5-accuracy: 0.9132\n",
            "Epoch 2/50\n",
            "176/176 [==============================] - 14s 78ms/step - loss: 1.5562 - accuracy: 0.4384 - top-5-accuracy: 0.9006 - val_loss: 1.3272 - val_accuracy: 0.5334 - val_top-5-accuracy: 0.9418\n",
            "Epoch 3/50\n",
            "176/176 [==============================] - 14s 78ms/step - loss: 1.4093 - accuracy: 0.4970 - top-5-accuracy: 0.9243 - val_loss: 1.1687 - val_accuracy: 0.5860 - val_top-5-accuracy: 0.9568\n",
            "Epoch 4/50\n",
            "176/176 [==============================] - 14s 78ms/step - loss: 1.2790 - accuracy: 0.5417 - top-5-accuracy: 0.9401 - val_loss: 1.0270 - val_accuracy: 0.6364 - val_top-5-accuracy: 0.9686\n",
            "Epoch 5/50\n",
            "176/176 [==============================] - 14s 78ms/step - loss: 1.1870 - accuracy: 0.5787 - top-5-accuracy: 0.9490 - val_loss: 1.0055 - val_accuracy: 0.6448 - val_top-5-accuracy: 0.9720\n",
            "Epoch 6/50\n",
            "176/176 [==============================] - 14s 78ms/step - loss: 1.1182 - accuracy: 0.6042 - top-5-accuracy: 0.9571 - val_loss: 0.9320 - val_accuracy: 0.6828 - val_top-5-accuracy: 0.9706\n",
            "Epoch 7/50\n",
            "176/176 [==============================] - 14s 78ms/step - loss: 1.0475 - accuracy: 0.6342 - top-5-accuracy: 0.9622 - val_loss: 0.8823 - val_accuracy: 0.6974 - val_top-5-accuracy: 0.9740\n",
            "Epoch 8/50\n",
            "176/176 [==============================] - 14s 78ms/step - loss: 0.9944 - accuracy: 0.6508 - top-5-accuracy: 0.9665 - val_loss: 0.8461 - val_accuracy: 0.7108 - val_top-5-accuracy: 0.9774\n",
            "Epoch 9/50\n",
            "176/176 [==============================] - 14s 78ms/step - loss: 0.9566 - accuracy: 0.6632 - top-5-accuracy: 0.9692 - val_loss: 0.7622 - val_accuracy: 0.7390 - val_top-5-accuracy: 0.9812\n",
            "Epoch 10/50\n",
            "176/176 [==============================] - 14s 78ms/step - loss: 0.9148 - accuracy: 0.6811 - top-5-accuracy: 0.9719 - val_loss: 0.7343 - val_accuracy: 0.7502 - val_top-5-accuracy: 0.9818\n",
            "Epoch 11/50\n",
            "176/176 [==============================] - 14s 78ms/step - loss: 0.8761 - accuracy: 0.6917 - top-5-accuracy: 0.9753 - val_loss: 0.7400 - val_accuracy: 0.7468 - val_top-5-accuracy: 0.9832\n",
            "Epoch 12/50\n",
            "176/176 [==============================] - 14s 78ms/step - loss: 0.8536 - accuracy: 0.7012 - top-5-accuracy: 0.9758 - val_loss: 0.7096 - val_accuracy: 0.7574 - val_top-5-accuracy: 0.9856\n",
            "Epoch 13/50\n",
            "176/176 [==============================] - 14s 78ms/step - loss: 0.8300 - accuracy: 0.7079 - top-5-accuracy: 0.9773 - val_loss: 0.7197 - val_accuracy: 0.7530 - val_top-5-accuracy: 0.9850\n",
            "Epoch 14/50\n",
            "176/176 [==============================] - 14s 78ms/step - loss: 0.8027 - accuracy: 0.7197 - top-5-accuracy: 0.9786 - val_loss: 0.6833 - val_accuracy: 0.7648 - val_top-5-accuracy: 0.9846\n",
            "Epoch 15/50\n",
            "176/176 [==============================] - 14s 78ms/step - loss: 0.7791 - accuracy: 0.7270 - top-5-accuracy: 0.9815 - val_loss: 0.6687 - val_accuracy: 0.7696 - val_top-5-accuracy: 0.9850\n",
            "Epoch 16/50\n",
            "176/176 [==============================] - 14s 78ms/step - loss: 0.7517 - accuracy: 0.7401 - top-5-accuracy: 0.9826 - val_loss: 0.6622 - val_accuracy: 0.7714 - val_top-5-accuracy: 0.9868\n",
            "Epoch 17/50\n",
            "176/176 [==============================] - 14s 78ms/step - loss: 0.7279 - accuracy: 0.7483 - top-5-accuracy: 0.9826 - val_loss: 0.6352 - val_accuracy: 0.7770 - val_top-5-accuracy: 0.9876\n",
            "Epoch 18/50\n",
            "176/176 [==============================] - 14s 78ms/step - loss: 0.7172 - accuracy: 0.7496 - top-5-accuracy: 0.9836 - val_loss: 0.6248 - val_accuracy: 0.7782 - val_top-5-accuracy: 0.9876\n",
            "Epoch 19/50\n",
            "176/176 [==============================] - 14s 78ms/step - loss: 0.6943 - accuracy: 0.7578 - top-5-accuracy: 0.9854 - val_loss: 0.6072 - val_accuracy: 0.7834 - val_top-5-accuracy: 0.9896\n",
            "Epoch 20/50\n",
            "176/176 [==============================] - 14s 78ms/step - loss: 0.6803 - accuracy: 0.7642 - top-5-accuracy: 0.9857 - val_loss: 0.6032 - val_accuracy: 0.7892 - val_top-5-accuracy: 0.9884\n",
            "Epoch 21/50\n",
            "176/176 [==============================] - 14s 78ms/step - loss: 0.6582 - accuracy: 0.7698 - top-5-accuracy: 0.9867 - val_loss: 0.6137 - val_accuracy: 0.7868 - val_top-5-accuracy: 0.9882\n",
            "Epoch 22/50\n",
            "176/176 [==============================] - 14s 78ms/step - loss: 0.6375 - accuracy: 0.7783 - top-5-accuracy: 0.9873 - val_loss: 0.5865 - val_accuracy: 0.7954 - val_top-5-accuracy: 0.9900\n",
            "Epoch 23/50\n",
            "176/176 [==============================] - 14s 78ms/step - loss: 0.6194 - accuracy: 0.7822 - top-5-accuracy: 0.9886 - val_loss: 0.5977 - val_accuracy: 0.7900 - val_top-5-accuracy: 0.9890\n",
            "Epoch 24/50\n",
            "176/176 [==============================] - 14s 78ms/step - loss: 0.6171 - accuracy: 0.7845 - top-5-accuracy: 0.9882 - val_loss: 0.5702 - val_accuracy: 0.8040 - val_top-5-accuracy: 0.9894\n",
            "Epoch 25/50\n",
            "176/176 [==============================] - 14s 78ms/step - loss: 0.5908 - accuracy: 0.7932 - top-5-accuracy: 0.9894 - val_loss: 0.5726 - val_accuracy: 0.8038 - val_top-5-accuracy: 0.9874\n",
            "Epoch 26/50\n",
            "176/176 [==============================] - 14s 78ms/step - loss: 0.5779 - accuracy: 0.7981 - top-5-accuracy: 0.9894 - val_loss: 0.5535 - val_accuracy: 0.8088 - val_top-5-accuracy: 0.9904\n",
            "Epoch 27/50\n",
            "176/176 [==============================] - 14s 78ms/step - loss: 0.5577 - accuracy: 0.8060 - top-5-accuracy: 0.9905 - val_loss: 0.5515 - val_accuracy: 0.8088 - val_top-5-accuracy: 0.9888\n",
            "Epoch 28/50\n",
            "176/176 [==============================] - 14s 78ms/step - loss: 0.5439 - accuracy: 0.8106 - top-5-accuracy: 0.9913 - val_loss: 0.5489 - val_accuracy: 0.8110 - val_top-5-accuracy: 0.9908\n",
            "Epoch 29/50\n",
            "176/176 [==============================] - 14s 78ms/step - loss: 0.5315 - accuracy: 0.8149 - top-5-accuracy: 0.9916 - val_loss: 0.5329 - val_accuracy: 0.8190 - val_top-5-accuracy: 0.9908\n",
            "Epoch 30/50\n",
            "176/176 [==============================] - 14s 78ms/step - loss: 0.5179 - accuracy: 0.8176 - top-5-accuracy: 0.9923 - val_loss: 0.5467 - val_accuracy: 0.8076 - val_top-5-accuracy: 0.9900\n",
            "Epoch 31/50\n",
            "176/176 [==============================] - 14s 78ms/step - loss: 0.5101 - accuracy: 0.8226 - top-5-accuracy: 0.9927 - val_loss: 0.5491 - val_accuracy: 0.8126 - val_top-5-accuracy: 0.9896\n",
            "Epoch 32/50\n",
            "176/176 [==============================] - 14s 78ms/step - loss: 0.4998 - accuracy: 0.8234 - top-5-accuracy: 0.9939 - val_loss: 0.5336 - val_accuracy: 0.8152 - val_top-5-accuracy: 0.9926\n",
            "Epoch 33/50\n",
            "176/176 [==============================] - 14s 78ms/step - loss: 0.4884 - accuracy: 0.8289 - top-5-accuracy: 0.9933 - val_loss: 0.5363 - val_accuracy: 0.8220 - val_top-5-accuracy: 0.9908\n",
            "Epoch 34/50\n",
            "176/176 [==============================] - 14s 78ms/step - loss: 0.4776 - accuracy: 0.8335 - top-5-accuracy: 0.9941 - val_loss: 0.5333 - val_accuracy: 0.8208 - val_top-5-accuracy: 0.9882\n",
            "Epoch 35/50\n",
            "176/176 [==============================] - 14s 78ms/step - loss: 0.4674 - accuracy: 0.8348 - top-5-accuracy: 0.9945 - val_loss: 0.5186 - val_accuracy: 0.8232 - val_top-5-accuracy: 0.9896\n",
            "Epoch 36/50\n",
            "176/176 [==============================] - 14s 78ms/step - loss: 0.4516 - accuracy: 0.8414 - top-5-accuracy: 0.9947 - val_loss: 0.5161 - val_accuracy: 0.8246 - val_top-5-accuracy: 0.9918\n",
            "Epoch 37/50\n",
            "176/176 [==============================] - 14s 78ms/step - loss: 0.4493 - accuracy: 0.8421 - top-5-accuracy: 0.9949 - val_loss: 0.5098 - val_accuracy: 0.8232 - val_top-5-accuracy: 0.9932\n",
            "Epoch 38/50\n",
            "176/176 [==============================] - 14s 78ms/step - loss: 0.4423 - accuracy: 0.8459 - top-5-accuracy: 0.9948 - val_loss: 0.5458 - val_accuracy: 0.8200 - val_top-5-accuracy: 0.9896\n",
            "Epoch 39/50\n",
            "176/176 [==============================] - 14s 78ms/step - loss: 0.4253 - accuracy: 0.8500 - top-5-accuracy: 0.9956 - val_loss: 0.5137 - val_accuracy: 0.8258 - val_top-5-accuracy: 0.9902\n",
            "Epoch 40/50\n",
            "176/176 [==============================] - 14s 78ms/step - loss: 0.4252 - accuracy: 0.8506 - top-5-accuracy: 0.9959 - val_loss: 0.5221 - val_accuracy: 0.8204 - val_top-5-accuracy: 0.9910\n",
            "Epoch 41/50\n",
            "176/176 [==============================] - 14s 78ms/step - loss: 0.4086 - accuracy: 0.8577 - top-5-accuracy: 0.9960 - val_loss: 0.5358 - val_accuracy: 0.8270 - val_top-5-accuracy: 0.9916\n",
            "Epoch 42/50\n",
            "176/176 [==============================] - 14s 78ms/step - loss: 0.4078 - accuracy: 0.8592 - top-5-accuracy: 0.9960 - val_loss: 0.5144 - val_accuracy: 0.8344 - val_top-5-accuracy: 0.9912\n",
            "Epoch 43/50\n",
            "176/176 [==============================] - 14s 78ms/step - loss: 0.3979 - accuracy: 0.8610 - top-5-accuracy: 0.9962 - val_loss: 0.5313 - val_accuracy: 0.8218 - val_top-5-accuracy: 0.9912\n",
            "Epoch 44/50\n",
            "176/176 [==============================] - 14s 78ms/step - loss: 0.3980 - accuracy: 0.8600 - top-5-accuracy: 0.9961 - val_loss: 0.5183 - val_accuracy: 0.8288 - val_top-5-accuracy: 0.9918\n",
            "Epoch 45/50\n",
            "176/176 [==============================] - 14s 78ms/step - loss: 0.3918 - accuracy: 0.8620 - top-5-accuracy: 0.9965 - val_loss: 0.5081 - val_accuracy: 0.8338 - val_top-5-accuracy: 0.9910\n",
            "Epoch 46/50\n",
            "176/176 [==============================] - 14s 78ms/step - loss: 0.3717 - accuracy: 0.8696 - top-5-accuracy: 0.9969 - val_loss: 0.5186 - val_accuracy: 0.8330 - val_top-5-accuracy: 0.9906\n",
            "Epoch 47/50\n",
            "176/176 [==============================] - 14s 78ms/step - loss: 0.3604 - accuracy: 0.8730 - top-5-accuracy: 0.9970 - val_loss: 0.5252 - val_accuracy: 0.8312 - val_top-5-accuracy: 0.9908\n",
            "Epoch 48/50\n",
            "176/176 [==============================] - 14s 78ms/step - loss: 0.3643 - accuracy: 0.8721 - top-5-accuracy: 0.9972 - val_loss: 0.5183 - val_accuracy: 0.8364 - val_top-5-accuracy: 0.9906\n",
            "Epoch 49/50\n",
            "176/176 [==============================] - 14s 78ms/step - loss: 0.3567 - accuracy: 0.8743 - top-5-accuracy: 0.9972 - val_loss: 0.4966 - val_accuracy: 0.8446 - val_top-5-accuracy: 0.9908\n",
            "Epoch 50/50\n",
            "176/176 [==============================] - 14s 78ms/step - loss: 0.3510 - accuracy: 0.8775 - top-5-accuracy: 0.9970 - val_loss: 0.5155 - val_accuracy: 0.8372 - val_top-5-accuracy: 0.9916\n",
            "40/40 [==============================] - 1s 27ms/step - loss: 0.5374 - accuracy: 0.8294 - top-5-accuracy: 0.9911\n",
            "Test accuracy: 82.94%\n",
            "Test top 5 accuracy: 99.11%\n"
          ]
        }
      ],
      "source": [
        "# Some code is taken from:\n",
        "# https://www.kaggle.com/ashusma/training-rfcx-tensorflow-tpu-effnet-b2.\n",
        "class WarmUpCosine(keras.optimizers.schedules.LearningRateSchedule):\n",
        "    def __init__(\n",
        "        self, learning_rate_base, total_steps, warmup_learning_rate, warmup_steps\n",
        "    ):\n",
        "        super().__init__()\n",
        "\n",
        "        self.learning_rate_base = learning_rate_base\n",
        "        self.total_steps = total_steps\n",
        "        self.warmup_learning_rate = warmup_learning_rate\n",
        "        self.warmup_steps = warmup_steps\n",
        "        self.pi = tf.constant(np.pi)\n",
        "\n",
        "    def __call__(self, step):\n",
        "        if self.total_steps < self.warmup_steps:\n",
        "            raise ValueError(\"Total_steps must be larger or equal to warmup_steps.\")\n",
        "\n",
        "        cos_annealed_lr = tf.cos(\n",
        "            self.pi\n",
        "            * (tf.cast(step, tf.float32) - self.warmup_steps)\n",
        "            / float(self.total_steps - self.warmup_steps)\n",
        "        )\n",
        "        learning_rate = 0.5 * self.learning_rate_base * (1 + cos_annealed_lr)\n",
        "\n",
        "        if self.warmup_steps > 0:\n",
        "            if self.learning_rate_base < self.warmup_learning_rate:\n",
        "                raise ValueError(\n",
        "                    \"Learning_rate_base must be larger or equal to \"\n",
        "                    \"warmup_learning_rate.\"\n",
        "                )\n",
        "            slope = (\n",
        "                self.learning_rate_base - self.warmup_learning_rate\n",
        "            ) / self.warmup_steps\n",
        "            warmup_rate = slope * tf.cast(step, tf.float32) + self.warmup_learning_rate\n",
        "            learning_rate = tf.where(\n",
        "                step < self.warmup_steps, warmup_rate, learning_rate\n",
        "            )\n",
        "        return tf.where(\n",
        "            step > self.total_steps, 0.0, learning_rate, name=\"learning_rate\"\n",
        "        )\n",
        "\n",
        "\n",
        "def run_experiment(model):\n",
        "    total_steps = int((len(x_train) / BATCH_SIZE) * EPOCHS)\n",
        "    warmup_epoch_percentage = 0.10\n",
        "    warmup_steps = int(total_steps * warmup_epoch_percentage)\n",
        "    scheduled_lrs = WarmUpCosine(\n",
        "        learning_rate_base=LEARNING_RATE,\n",
        "        total_steps=total_steps,\n",
        "        warmup_learning_rate=0.0,\n",
        "        warmup_steps=warmup_steps,\n",
        "    )\n",
        "\n",
        "    optimizer = tfa.optimizers.AdamW(\n",
        "        learning_rate=LEARNING_RATE, weight_decay=WEIGHT_DECAY\n",
        "    )\n",
        "\n",
        "    model.compile(\n",
        "        optimizer=optimizer,\n",
        "        loss=keras.losses.SparseCategoricalCrossentropy(from_logits=True),\n",
        "        metrics=[\n",
        "            keras.metrics.SparseCategoricalAccuracy(name=\"accuracy\"),\n",
        "            keras.metrics.SparseTopKCategoricalAccuracy(5, name=\"top-5-accuracy\"),\n",
        "        ],\n",
        "    )\n",
        "\n",
        "    history = model.fit(\n",
        "        x=x_train,\n",
        "        y=y_train,\n",
        "        batch_size=BATCH_SIZE,\n",
        "        epochs=EPOCHS,\n",
        "        validation_split=0.1,\n",
        "    )\n",
        "    _, accuracy, top_5_accuracy = model.evaluate(x_test, y_test, batch_size=BATCH_SIZE)\n",
        "    print(f\"Test accuracy: {round(accuracy * 100, 2)}%\")\n",
        "    print(f\"Test top 5 accuracy: {round(top_5_accuracy * 100, 2)}%\")\n",
        "\n",
        "    return history\n",
        "\n",
        "\n",
        "# Run experiments with the vanilla ViT\n",
        "vit = create_vit_classifier(vanilla=True)\n",
        "history = run_experiment(vit)\n",
        "\n",
        "# Run experiments with the Shifted Patch Tokenization and\n",
        "# Locality Self Attention modified ViT\n",
        "vit_sl = create_vit_classifier(vanilla=False)\n",
        "history = run_experiment(vit_sl)"
      ]
    },
    {
      "cell_type": "markdown",
      "metadata": {
        "id": "AA9nvpc4EEw3"
      },
      "source": [
        "# Final Notes\n",
        "\n",
        "With the help of Shifted Patch Tokenization and Locality Self Attention,\n",
        "we were able to get ~**3-4%** top-1 accuracy gains on CIFAR100.\n",
        "\n",
        "The ideas on Shifted Patch Tokenization and Locality Self Attention\n",
        "are very intuitive and easy to implement. The authors also ablates of\n",
        "different shifting strategies for Shifted Patch Tokenization in the\n",
        "supplementary of the paper.\n",
        "\n",
        "I would like to thank [Jarvislabs.ai](https://jarvislabs.ai/) for\n",
        "generously helping with GPU credits.\n",
        "\n",
        "You can use the trained model hosted on [Hugging Face Hub](https://huggingface.co/keras-io/vit_small_ds_v2) and try the demo on [Hugging Face Spaces](https://huggingface.co/spaces/keras-io/vit-small-ds)."
      ]
    }
  ],
  "metadata": {
    "colab": {
      "provenance": [],
      "machine_shape": "hm",
      "gpuType": "A100"
    },
    "kernelspec": {
      "display_name": "Python 3",
      "language": "python",
      "name": "python3"
    },
    "language_info": {
      "codemirror_mode": {
        "name": "ipython",
        "version": 3
      },
      "file_extension": ".py",
      "mimetype": "text/x-python",
      "name": "python",
      "nbconvert_exporter": "python",
      "pygments_lexer": "ipython3",
      "version": "3.7.0"
    },
    "gpuClass": "standard",
    "accelerator": "GPU"
  },
  "nbformat": 4,
  "nbformat_minor": 0
}